{
 "cells": [
  {
   "cell_type": "markdown",
   "metadata": {},
   "source": [
    "##### List of Modules"
   ]
  },
  {
   "cell_type": "code",
   "execution_count": 1,
   "metadata": {},
   "outputs": [],
   "source": [
    "## pandas used to transform given tsv to csv file\n",
    "import pandas as pd\n",
    "\n",
    "## CountVectorizer tokenizes the collection of text documents and build a vocabulary of known words it returns ints \n",
    "## TfidVectorizer is same as CountVectorizer but it returns float  values. In the below I'd compare the both values it false \n",
    "## because float and int are not equal\n",
    "## \n",
    "from sklearn.feature_extraction.text import CountVectorizer, TfidfVectorizer\n",
    "\n",
    "## from sklearn.linear_model. I'd imported \"PassiveAggressiveClassifier, SGDClassifier\" for classification \n",
    "from sklearn.linear_model import PassiveAggressiveClassifier, SGDClassifier\n",
    "\n",
    "## from sklearn.svm. I'd imported \"LinearSVC\" for classication\n",
    "from sklearn.svm import LinearSVC\n",
    "\n",
    "## from sklearn.naive_bayes. I'd imported \"MultinomialNB\" is another kind of classifier most of the Data Scienctist use this\n",
    "## one for better accuracy\n",
    "from sklearn.naive_bayes import MultinomialNB\n",
    "\n",
    "## metrics for predictions \n",
    "from sklearn import metrics\n",
    "\n",
    "## pyplot for visualizing graphs\n",
    "import matplotlib.pyplot as plt\n",
    "\n",
    "## shuffle for shuffling the data randomly\n",
    "from sklearn.utils import shuffle\n",
    "\n",
    "## classification_report which gives f1-score, precision, recall, support \n",
    "from sklearn.metrics import classification_report\n",
    "\n",
    "## seaborn is used for Data Visualizarion library\n",
    "## I made confusion matrix for every classifier. So, for visualizing we need seaborn\n",
    "import seaborn as sns"
   ]
  },
  {
   "cell_type": "markdown",
   "metadata": {},
   "source": [
    "Given data is .tsv extension. I had converting it into .csv file for training and testing using pandas"
   ]
  },
  {
   "cell_type": "code",
   "execution_count": 2,
   "metadata": {},
   "outputs": [],
   "source": [
    "train2_tsv = 'train2.tsv'\n",
    "train2_csv = pd.read_table(train2_tsv,sep = '\\t')\n",
    "train2_csv.to_csv('train2.csv',index = True)"
   ]
  },
  {
   "cell_type": "markdown",
   "metadata": {},
   "source": [
    "Let's see some train data"
   ]
  },
  {
   "cell_type": "code",
   "execution_count": 3,
   "metadata": {},
   "outputs": [
    {
     "data": {
      "text/html": [
       "<div>\n",
       "<style scoped>\n",
       "    .dataframe tbody tr th:only-of-type {\n",
       "        vertical-align: middle;\n",
       "    }\n",
       "\n",
       "    .dataframe tbody tr th {\n",
       "        vertical-align: top;\n",
       "    }\n",
       "\n",
       "    .dataframe thead th {\n",
       "        text-align: right;\n",
       "    }\n",
       "</style>\n",
       "<table border=\"1\" class=\"dataframe\">\n",
       "  <thead>\n",
       "    <tr style=\"text-align: right;\">\n",
       "      <th></th>\n",
       "      <th>Unnamed: 0</th>\n",
       "      <th>0</th>\n",
       "      <th>2635.json</th>\n",
       "      <th>false</th>\n",
       "      <th>Says the Annies List political group supports third-trimester abortions on demand.</th>\n",
       "      <th>abortion</th>\n",
       "      <th>dwayne-bohac</th>\n",
       "      <th>State representative</th>\n",
       "      <th>Texas</th>\n",
       "      <th>republican</th>\n",
       "      <th>0.0</th>\n",
       "      <th>1.0</th>\n",
       "      <th>0.0.1</th>\n",
       "      <th>0.0.2</th>\n",
       "      <th>0.0.3</th>\n",
       "      <th>a mailer</th>\n",
       "      <th>That's a premise that he fails to back up. Annie's List makes no bones about being comfortable with candidates who oppose further restrictions on late-term abortions. Then again, this year its backing two House candidates who voted for more limits.</th>\n",
       "    </tr>\n",
       "  </thead>\n",
       "  <tbody>\n",
       "    <tr>\n",
       "      <th>0</th>\n",
       "      <td>0</td>\n",
       "      <td>1</td>\n",
       "      <td>10540.json</td>\n",
       "      <td>half-true</td>\n",
       "      <td>When did the decline of coal start? It started...</td>\n",
       "      <td>energy,history,job-accomplishments</td>\n",
       "      <td>scott-surovell</td>\n",
       "      <td>State delegate</td>\n",
       "      <td>Virginia</td>\n",
       "      <td>democrat</td>\n",
       "      <td>0.0</td>\n",
       "      <td>0.0</td>\n",
       "      <td>1.0</td>\n",
       "      <td>1.0</td>\n",
       "      <td>0.0</td>\n",
       "      <td>a floor speech.</td>\n",
       "      <td>Surovell said the decline of coal \"started whe...</td>\n",
       "    </tr>\n",
       "    <tr>\n",
       "      <th>1</th>\n",
       "      <td>1</td>\n",
       "      <td>2</td>\n",
       "      <td>324.json</td>\n",
       "      <td>mostly-true</td>\n",
       "      <td>Hillary Clinton agrees with John McCain \"by vo...</td>\n",
       "      <td>foreign-policy</td>\n",
       "      <td>barack-obama</td>\n",
       "      <td>President</td>\n",
       "      <td>Illinois</td>\n",
       "      <td>democrat</td>\n",
       "      <td>70.0</td>\n",
       "      <td>71.0</td>\n",
       "      <td>160.0</td>\n",
       "      <td>163.0</td>\n",
       "      <td>9.0</td>\n",
       "      <td>Denver</td>\n",
       "      <td>Obama said he would have voted against the ame...</td>\n",
       "    </tr>\n",
       "    <tr>\n",
       "      <th>2</th>\n",
       "      <td>2</td>\n",
       "      <td>3</td>\n",
       "      <td>1123.json</td>\n",
       "      <td>false</td>\n",
       "      <td>Health care reform legislation is likely to ma...</td>\n",
       "      <td>health-care</td>\n",
       "      <td>blog-posting</td>\n",
       "      <td>NaN</td>\n",
       "      <td>NaN</td>\n",
       "      <td>none</td>\n",
       "      <td>7.0</td>\n",
       "      <td>19.0</td>\n",
       "      <td>3.0</td>\n",
       "      <td>5.0</td>\n",
       "      <td>44.0</td>\n",
       "      <td>a news release</td>\n",
       "      <td>The release may have a point that Mikulskis co...</td>\n",
       "    </tr>\n",
       "    <tr>\n",
       "      <th>3</th>\n",
       "      <td>3</td>\n",
       "      <td>4</td>\n",
       "      <td>9028.json</td>\n",
       "      <td>half-true</td>\n",
       "      <td>The economic turnaround started at the end of ...</td>\n",
       "      <td>economy,jobs</td>\n",
       "      <td>charlie-crist</td>\n",
       "      <td>NaN</td>\n",
       "      <td>Florida</td>\n",
       "      <td>democrat</td>\n",
       "      <td>15.0</td>\n",
       "      <td>9.0</td>\n",
       "      <td>20.0</td>\n",
       "      <td>19.0</td>\n",
       "      <td>2.0</td>\n",
       "      <td>an interview on CNN</td>\n",
       "      <td>Crist said that the economic \"turnaround start...</td>\n",
       "    </tr>\n",
       "    <tr>\n",
       "      <th>4</th>\n",
       "      <td>4</td>\n",
       "      <td>5</td>\n",
       "      <td>12465.json</td>\n",
       "      <td>true</td>\n",
       "      <td>The Chicago Bears have had more starting quart...</td>\n",
       "      <td>education</td>\n",
       "      <td>robin-vos</td>\n",
       "      <td>Wisconsin Assembly speaker</td>\n",
       "      <td>Wisconsin</td>\n",
       "      <td>republican</td>\n",
       "      <td>0.0</td>\n",
       "      <td>3.0</td>\n",
       "      <td>2.0</td>\n",
       "      <td>5.0</td>\n",
       "      <td>1.0</td>\n",
       "      <td>a an online opinion-piece</td>\n",
       "      <td>But Vos specifically used the word \"fired,\" wh...</td>\n",
       "    </tr>\n",
       "  </tbody>\n",
       "</table>\n",
       "</div>"
      ],
      "text/plain": [
       "   Unnamed: 0  0   2635.json        false  \\\n",
       "0           0  1  10540.json    half-true   \n",
       "1           1  2    324.json  mostly-true   \n",
       "2           2  3   1123.json        false   \n",
       "3           3  4   9028.json    half-true   \n",
       "4           4  5  12465.json         true   \n",
       "\n",
       "  Says the Annies List political group supports third-trimester abortions on demand.  \\\n",
       "0  When did the decline of coal start? It started...                                   \n",
       "1  Hillary Clinton agrees with John McCain \"by vo...                                   \n",
       "2  Health care reform legislation is likely to ma...                                   \n",
       "3  The economic turnaround started at the end of ...                                   \n",
       "4  The Chicago Bears have had more starting quart...                                   \n",
       "\n",
       "                             abortion    dwayne-bohac  \\\n",
       "0  energy,history,job-accomplishments  scott-surovell   \n",
       "1                      foreign-policy    barack-obama   \n",
       "2                         health-care    blog-posting   \n",
       "3                        economy,jobs   charlie-crist   \n",
       "4                           education       robin-vos   \n",
       "\n",
       "         State representative      Texas  republican   0.0   1.0  0.0.1  \\\n",
       "0              State delegate   Virginia    democrat   0.0   0.0    1.0   \n",
       "1                   President   Illinois    democrat  70.0  71.0  160.0   \n",
       "2                         NaN        NaN        none   7.0  19.0    3.0   \n",
       "3                         NaN    Florida    democrat  15.0   9.0   20.0   \n",
       "4  Wisconsin Assembly speaker  Wisconsin  republican   0.0   3.0    2.0   \n",
       "\n",
       "   0.0.2  0.0.3                   a mailer  \\\n",
       "0    1.0    0.0            a floor speech.   \n",
       "1  163.0    9.0                     Denver   \n",
       "2    5.0   44.0             a news release   \n",
       "3   19.0    2.0        an interview on CNN   \n",
       "4    5.0    1.0  a an online opinion-piece   \n",
       "\n",
       "  That's a premise that he fails to back up. Annie's List makes no bones about being comfortable with candidates who oppose further restrictions on late-term abortions. Then again, this year its backing two House candidates who voted for more limits.  \n",
       "0  Surovell said the decline of coal \"started whe...                                                                                                                                                                                                        \n",
       "1  Obama said he would have voted against the ame...                                                                                                                                                                                                        \n",
       "2  The release may have a point that Mikulskis co...                                                                                                                                                                                                        \n",
       "3  Crist said that the economic \"turnaround start...                                                                                                                                                                                                        \n",
       "4  But Vos specifically used the word \"fired,\" wh...                                                                                                                                                                                                        "
      ]
     },
     "execution_count": 3,
     "metadata": {},
     "output_type": "execute_result"
    }
   ],
   "source": [
    "train = pd.read_csv('train2.csv')\n",
    "train.head()"
   ]
  },
  {
   "cell_type": "markdown",
   "metadata": {},
   "source": [
    "Now data has been converted csv file. But it doesn't have column name. So, I had grab the what I need for training and then change the data into DataFrame using pandas"
   ]
  },
  {
   "cell_type": "code",
   "execution_count": 4,
   "metadata": {},
   "outputs": [],
   "source": [
    "train_dict = {'ID':train['0'],'train_statement':train['Says the Annies List political group supports third-trimester abortions on demand.'],\n",
    "          'Justification':train[\"That's a premise that he fails to back up. Annie's List makes no bones about being comfortable with candidates who oppose further restrictions on late-term abortions. Then again, this year its backing two House candidates who voted for more limits.\"],\n",
    "          'train_label':train['false']}\n",
    "train_df = pd.DataFrame(train_dict)"
   ]
  },
  {
   "cell_type": "markdown",
   "metadata": {},
   "source": [
    "Let's see the data now"
   ]
  },
  {
   "cell_type": "code",
   "execution_count": 5,
   "metadata": {},
   "outputs": [
    {
     "data": {
      "text/html": [
       "<div>\n",
       "<style scoped>\n",
       "    .dataframe tbody tr th:only-of-type {\n",
       "        vertical-align: middle;\n",
       "    }\n",
       "\n",
       "    .dataframe tbody tr th {\n",
       "        vertical-align: top;\n",
       "    }\n",
       "\n",
       "    .dataframe thead th {\n",
       "        text-align: right;\n",
       "    }\n",
       "</style>\n",
       "<table border=\"1\" class=\"dataframe\">\n",
       "  <thead>\n",
       "    <tr style=\"text-align: right;\">\n",
       "      <th></th>\n",
       "      <th>ID</th>\n",
       "      <th>train_statement</th>\n",
       "      <th>Justification</th>\n",
       "      <th>train_label</th>\n",
       "    </tr>\n",
       "  </thead>\n",
       "  <tbody>\n",
       "    <tr>\n",
       "      <th>0</th>\n",
       "      <td>1</td>\n",
       "      <td>When did the decline of coal start? It started...</td>\n",
       "      <td>Surovell said the decline of coal \"started whe...</td>\n",
       "      <td>half-true</td>\n",
       "    </tr>\n",
       "    <tr>\n",
       "      <th>1</th>\n",
       "      <td>2</td>\n",
       "      <td>Hillary Clinton agrees with John McCain \"by vo...</td>\n",
       "      <td>Obama said he would have voted against the ame...</td>\n",
       "      <td>mostly-true</td>\n",
       "    </tr>\n",
       "    <tr>\n",
       "      <th>2</th>\n",
       "      <td>3</td>\n",
       "      <td>Health care reform legislation is likely to ma...</td>\n",
       "      <td>The release may have a point that Mikulskis co...</td>\n",
       "      <td>false</td>\n",
       "    </tr>\n",
       "    <tr>\n",
       "      <th>3</th>\n",
       "      <td>4</td>\n",
       "      <td>The economic turnaround started at the end of ...</td>\n",
       "      <td>Crist said that the economic \"turnaround start...</td>\n",
       "      <td>half-true</td>\n",
       "    </tr>\n",
       "    <tr>\n",
       "      <th>4</th>\n",
       "      <td>5</td>\n",
       "      <td>The Chicago Bears have had more starting quart...</td>\n",
       "      <td>But Vos specifically used the word \"fired,\" wh...</td>\n",
       "      <td>true</td>\n",
       "    </tr>\n",
       "  </tbody>\n",
       "</table>\n",
       "</div>"
      ],
      "text/plain": [
       "   ID                                    train_statement  \\\n",
       "0   1  When did the decline of coal start? It started...   \n",
       "1   2  Hillary Clinton agrees with John McCain \"by vo...   \n",
       "2   3  Health care reform legislation is likely to ma...   \n",
       "3   4  The economic turnaround started at the end of ...   \n",
       "4   5  The Chicago Bears have had more starting quart...   \n",
       "\n",
       "                                       Justification  train_label  \n",
       "0  Surovell said the decline of coal \"started whe...    half-true  \n",
       "1  Obama said he would have voted against the ame...  mostly-true  \n",
       "2  The release may have a point that Mikulskis co...        false  \n",
       "3  Crist said that the economic \"turnaround start...    half-true  \n",
       "4  But Vos specifically used the word \"fired,\" wh...         true  "
      ]
     },
     "execution_count": 5,
     "metadata": {},
     "output_type": "execute_result"
    }
   ],
   "source": [
    "train_df.head()"
   ]
  },
  {
   "cell_type": "markdown",
   "metadata": {},
   "source": [
    "Similarly as train data I had converted .tsv file extension into csv file"
   ]
  },
  {
   "cell_type": "code",
   "execution_count": 7,
   "metadata": {},
   "outputs": [],
   "source": [
    "test2_tsv = 'test2.tsv'\n",
    "test2_csv = pd.read_table(test2_tsv,sep = '\\t')\n",
    "test2_csv.to_csv('test2.csv',index = False)"
   ]
  },
  {
   "cell_type": "code",
   "execution_count": 8,
   "metadata": {},
   "outputs": [
    {
     "data": {
      "text/html": [
       "<div>\n",
       "<style scoped>\n",
       "    .dataframe tbody tr th:only-of-type {\n",
       "        vertical-align: middle;\n",
       "    }\n",
       "\n",
       "    .dataframe tbody tr th {\n",
       "        vertical-align: top;\n",
       "    }\n",
       "\n",
       "    .dataframe thead th {\n",
       "        text-align: right;\n",
       "    }\n",
       "</style>\n",
       "<table border=\"1\" class=\"dataframe\">\n",
       "  <thead>\n",
       "    <tr style=\"text-align: right;\">\n",
       "      <th></th>\n",
       "      <th>0</th>\n",
       "      <th>11972.json</th>\n",
       "      <th>true</th>\n",
       "      <th>Building a wall on the U.S.-Mexico border will take literally years.</th>\n",
       "      <th>immigration</th>\n",
       "      <th>rick-perry</th>\n",
       "      <th>Governor</th>\n",
       "      <th>Texas</th>\n",
       "      <th>republican</th>\n",
       "      <th>30</th>\n",
       "      <th>30.1</th>\n",
       "      <th>42</th>\n",
       "      <th>23</th>\n",
       "      <th>18</th>\n",
       "      <th>Radio interview</th>\n",
       "      <th>Meantime, engineering experts agree the wall would most likely take years to complete. Keep in mind, too, it took more than six years to build roughly 700 miles of fence and barriers along the roughly 2,000-mile U. S. -Mexico border.</th>\n",
       "    </tr>\n",
       "  </thead>\n",
       "  <tbody>\n",
       "    <tr>\n",
       "      <th>0</th>\n",
       "      <td>1</td>\n",
       "      <td>11685.json</td>\n",
       "      <td>false</td>\n",
       "      <td>Wisconsin is on pace to double the number of l...</td>\n",
       "      <td>jobs</td>\n",
       "      <td>katrina-shankland</td>\n",
       "      <td>State representative</td>\n",
       "      <td>Wisconsin</td>\n",
       "      <td>democrat</td>\n",
       "      <td>2</td>\n",
       "      <td>1</td>\n",
       "      <td>0</td>\n",
       "      <td>0</td>\n",
       "      <td>0</td>\n",
       "      <td>a news conference</td>\n",
       "      <td>She cited layoff notices received by the state...</td>\n",
       "    </tr>\n",
       "    <tr>\n",
       "      <th>1</th>\n",
       "      <td>2</td>\n",
       "      <td>11096.json</td>\n",
       "      <td>false</td>\n",
       "      <td>Says John McCain has done nothing to help the ...</td>\n",
       "      <td>military,veterans,voting-record</td>\n",
       "      <td>donald-trump</td>\n",
       "      <td>President-Elect</td>\n",
       "      <td>New York</td>\n",
       "      <td>republican</td>\n",
       "      <td>63</td>\n",
       "      <td>114</td>\n",
       "      <td>51</td>\n",
       "      <td>37</td>\n",
       "      <td>61</td>\n",
       "      <td>comments on ABC's This Week.</td>\n",
       "      <td>Trump said that McCain \"has done nothing to he...</td>\n",
       "    </tr>\n",
       "    <tr>\n",
       "      <th>2</th>\n",
       "      <td>3</td>\n",
       "      <td>5209.json</td>\n",
       "      <td>half-true</td>\n",
       "      <td>Suzanne Bonamici supports a plan that will cut...</td>\n",
       "      <td>medicare,message-machine-2012,campaign-adverti...</td>\n",
       "      <td>rob-cornilles</td>\n",
       "      <td>consultant</td>\n",
       "      <td>Oregon</td>\n",
       "      <td>republican</td>\n",
       "      <td>1</td>\n",
       "      <td>1</td>\n",
       "      <td>3</td>\n",
       "      <td>1</td>\n",
       "      <td>1</td>\n",
       "      <td>a radio show</td>\n",
       "      <td>But spending still goes up. In addition, many ...</td>\n",
       "    </tr>\n",
       "    <tr>\n",
       "      <th>3</th>\n",
       "      <td>4</td>\n",
       "      <td>9524.json</td>\n",
       "      <td>pants-fire</td>\n",
       "      <td>When asked by a reporter whether hes at the ce...</td>\n",
       "      <td>campaign-finance,legal-issues,campaign-adverti...</td>\n",
       "      <td>state-democratic-party-wisconsin</td>\n",
       "      <td>NaN</td>\n",
       "      <td>Wisconsin</td>\n",
       "      <td>democrat</td>\n",
       "      <td>5</td>\n",
       "      <td>7</td>\n",
       "      <td>2</td>\n",
       "      <td>2</td>\n",
       "      <td>7</td>\n",
       "      <td>a web video</td>\n",
       "      <td>Our rating A Democratic Party web video making...</td>\n",
       "    </tr>\n",
       "    <tr>\n",
       "      <th>4</th>\n",
       "      <td>5</td>\n",
       "      <td>5962.json</td>\n",
       "      <td>true</td>\n",
       "      <td>Over the past five years the federal governmen...</td>\n",
       "      <td>federal-budget,pensions,retirement</td>\n",
       "      <td>brendan-doherty</td>\n",
       "      <td>NaN</td>\n",
       "      <td>Rhode Island</td>\n",
       "      <td>republican</td>\n",
       "      <td>1</td>\n",
       "      <td>2</td>\n",
       "      <td>1</td>\n",
       "      <td>1</td>\n",
       "      <td>0</td>\n",
       "      <td>a campaign website</td>\n",
       "      <td>Rhode Islands former top cop is setting his ba...</td>\n",
       "    </tr>\n",
       "  </tbody>\n",
       "</table>\n",
       "</div>"
      ],
      "text/plain": [
       "   0  11972.json        true  \\\n",
       "0  1  11685.json       false   \n",
       "1  2  11096.json       false   \n",
       "2  3   5209.json   half-true   \n",
       "3  4   9524.json  pants-fire   \n",
       "4  5   5962.json        true   \n",
       "\n",
       "  Building a wall on the U.S.-Mexico border will take literally years.  \\\n",
       "0  Wisconsin is on pace to double the number of l...                     \n",
       "1  Says John McCain has done nothing to help the ...                     \n",
       "2  Suzanne Bonamici supports a plan that will cut...                     \n",
       "3  When asked by a reporter whether hes at the ce...                     \n",
       "4  Over the past five years the federal governmen...                     \n",
       "\n",
       "                                         immigration  \\\n",
       "0                                               jobs   \n",
       "1                    military,veterans,voting-record   \n",
       "2  medicare,message-machine-2012,campaign-adverti...   \n",
       "3  campaign-finance,legal-issues,campaign-adverti...   \n",
       "4                 federal-budget,pensions,retirement   \n",
       "\n",
       "                         rick-perry              Governor         Texas  \\\n",
       "0                 katrina-shankland  State representative     Wisconsin   \n",
       "1                      donald-trump       President-Elect      New York   \n",
       "2                     rob-cornilles            consultant        Oregon   \n",
       "3  state-democratic-party-wisconsin                   NaN     Wisconsin   \n",
       "4                   brendan-doherty                   NaN  Rhode Island   \n",
       "\n",
       "   republican  30  30.1  42  23  18               Radio interview  \\\n",
       "0    democrat   2     1   0   0   0             a news conference   \n",
       "1  republican  63   114  51  37  61  comments on ABC's This Week.   \n",
       "2  republican   1     1   3   1   1                  a radio show   \n",
       "3    democrat   5     7   2   2   7                   a web video   \n",
       "4  republican   1     2   1   1   0            a campaign website   \n",
       "\n",
       "  Meantime, engineering experts agree the wall would most likely take years to complete. Keep in mind, too, it took more than six years to build roughly 700 miles of fence and barriers along the roughly 2,000-mile U. S. -Mexico border.  \n",
       "0  She cited layoff notices received by the state...                                                                                                                                                                                         \n",
       "1  Trump said that McCain \"has done nothing to he...                                                                                                                                                                                         \n",
       "2  But spending still goes up. In addition, many ...                                                                                                                                                                                         \n",
       "3  Our rating A Democratic Party web video making...                                                                                                                                                                                         \n",
       "4  Rhode Islands former top cop is setting his ba...                                                                                                                                                                                         "
      ]
     },
     "execution_count": 8,
     "metadata": {},
     "output_type": "execute_result"
    }
   ],
   "source": [
    "test = pd.read_csv('test2.csv')\n",
    "test.head()"
   ]
  },
  {
   "cell_type": "code",
   "execution_count": 9,
   "metadata": {},
   "outputs": [],
   "source": [
    "test_dict = {'ID':test['0'],'test_statement':test['Building a wall on the U.S.-Mexico border will take literally years.'],\n",
    "          'Justification':test['Meantime, engineering experts agree the wall would most likely take years to complete. Keep in mind, too, it took more than six years to build roughly 700 miles of fence and barriers along the roughly 2,000-mile U. S. -Mexico border.'],\n",
    "          'test_label':test['true']}\n",
    "test_df = pd.DataFrame(test_dict)"
   ]
  },
  {
   "cell_type": "markdown",
   "metadata": {},
   "source": [
    "Let's see the test data"
   ]
  },
  {
   "cell_type": "code",
   "execution_count": 10,
   "metadata": {},
   "outputs": [
    {
     "data": {
      "text/html": [
       "<div>\n",
       "<style scoped>\n",
       "    .dataframe tbody tr th:only-of-type {\n",
       "        vertical-align: middle;\n",
       "    }\n",
       "\n",
       "    .dataframe tbody tr th {\n",
       "        vertical-align: top;\n",
       "    }\n",
       "\n",
       "    .dataframe thead th {\n",
       "        text-align: right;\n",
       "    }\n",
       "</style>\n",
       "<table border=\"1\" class=\"dataframe\">\n",
       "  <thead>\n",
       "    <tr style=\"text-align: right;\">\n",
       "      <th></th>\n",
       "      <th>ID</th>\n",
       "      <th>test_statement</th>\n",
       "      <th>Justification</th>\n",
       "      <th>test_label</th>\n",
       "    </tr>\n",
       "  </thead>\n",
       "  <tbody>\n",
       "    <tr>\n",
       "      <th>0</th>\n",
       "      <td>1</td>\n",
       "      <td>Wisconsin is on pace to double the number of l...</td>\n",
       "      <td>She cited layoff notices received by the state...</td>\n",
       "      <td>false</td>\n",
       "    </tr>\n",
       "    <tr>\n",
       "      <th>1</th>\n",
       "      <td>2</td>\n",
       "      <td>Says John McCain has done nothing to help the ...</td>\n",
       "      <td>Trump said that McCain \"has done nothing to he...</td>\n",
       "      <td>false</td>\n",
       "    </tr>\n",
       "    <tr>\n",
       "      <th>2</th>\n",
       "      <td>3</td>\n",
       "      <td>Suzanne Bonamici supports a plan that will cut...</td>\n",
       "      <td>But spending still goes up. In addition, many ...</td>\n",
       "      <td>half-true</td>\n",
       "    </tr>\n",
       "    <tr>\n",
       "      <th>3</th>\n",
       "      <td>4</td>\n",
       "      <td>When asked by a reporter whether hes at the ce...</td>\n",
       "      <td>Our rating A Democratic Party web video making...</td>\n",
       "      <td>pants-fire</td>\n",
       "    </tr>\n",
       "    <tr>\n",
       "      <th>4</th>\n",
       "      <td>5</td>\n",
       "      <td>Over the past five years the federal governmen...</td>\n",
       "      <td>Rhode Islands former top cop is setting his ba...</td>\n",
       "      <td>true</td>\n",
       "    </tr>\n",
       "  </tbody>\n",
       "</table>\n",
       "</div>"
      ],
      "text/plain": [
       "   ID                                     test_statement  \\\n",
       "0   1  Wisconsin is on pace to double the number of l...   \n",
       "1   2  Says John McCain has done nothing to help the ...   \n",
       "2   3  Suzanne Bonamici supports a plan that will cut...   \n",
       "3   4  When asked by a reporter whether hes at the ce...   \n",
       "4   5  Over the past five years the federal governmen...   \n",
       "\n",
       "                                       Justification  test_label  \n",
       "0  She cited layoff notices received by the state...       false  \n",
       "1  Trump said that McCain \"has done nothing to he...       false  \n",
       "2  But spending still goes up. In addition, many ...   half-true  \n",
       "3  Our rating A Democratic Party web video making...  pants-fire  \n",
       "4  Rhode Islands former top cop is setting his ba...        true  "
      ]
     },
     "execution_count": 10,
     "metadata": {},
     "output_type": "execute_result"
    }
   ],
   "source": [
    "test_df.head()"
   ]
  },
  {
   "cell_type": "code",
   "execution_count": 11,
   "metadata": {},
   "outputs": [],
   "source": [
    "## CountVectorizer tokenizes the collection of text documents and build a vocabulary of known words it returns ints \n",
    "count_vectorizer = CountVectorizer(stop_words = 'english')\n",
    "\n",
    "## function of fit_transform is fit and transform the function for feature extraction \n",
    "count_train = count_vectorizer.fit_transform(train_df['train_statement'])\n",
    "\n",
    "## transforms documents to document-type matrix\n",
    "count_test = count_vectorizer.transform(test_df['test_statement'])"
   ]
  },
  {
   "cell_type": "code",
   "execution_count": 12,
   "metadata": {},
   "outputs": [],
   "source": [
    "## TfidVectorizer is same as CountVectorizer but it returns float  values. In the below I'd compare the both values it false \n",
    "tfidf_vectorizer = TfidfVectorizer(stop_words='english', max_df=0.7)\n",
    "\n",
    "## function of fit_transform is fit and transform the function for feature extraction \n",
    "tfidf_train = tfidf_vectorizer.fit_transform(train_df['train_statement'])\n",
    "\n",
    "## transforms documents to document-type matrix\n",
    "tfidf_test = tfidf_vectorizer.transform(test_df['test_statement'])"
   ]
  },
  {
   "cell_type": "markdown",
   "metadata": {},
   "source": [
    "Let's see the feature names names and their matrix values"
   ]
  },
  {
   "cell_type": "code",
   "execution_count": 13,
   "metadata": {},
   "outputs": [
    {
     "name": "stdout",
     "output_type": "stream",
     "text": [
      "['00', '000', '000new', '014', '02', '024', '029', '033', '036', '04']\n",
      "[[0. 0. 0. ... 0. 0. 0.]\n",
      " [0. 0. 0. ... 0. 0. 0.]\n",
      " [0. 0. 0. ... 0. 0. 0.]\n",
      " [0. 0. 0. ... 0. 0. 0.]\n",
      " [0. 0. 0. ... 0. 0. 0.]]\n"
     ]
    }
   ],
   "source": [
    "print(tfidf_vectorizer.get_feature_names()[:10])\n",
    "print(tfidf_train.A[:5])"
   ]
  },
  {
   "cell_type": "markdown",
   "metadata": {},
   "source": [
    "Below code let you know that CountVectorizer rerurns integer and TfidfVectorizer returns the float values values for the same dataset. Finally I'd compare the two values."
   ]
  },
  {
   "cell_type": "code",
   "execution_count": 14,
   "metadata": {},
   "outputs": [
    {
     "name": "stdout",
     "output_type": "stream",
     "text": [
      "   00  000  000new  014  02  024  029  033  036  04     ...       zip  zippo  \\\n",
      "0   0    0       0    0   0    0    0    0    0   0     ...         0      0   \n",
      "1   0    0       0    0   0    0    0    0    0   0     ...         0      0   \n",
      "2   0    0       0    0   0    0    0    0    0   0     ...         0      0   \n",
      "3   0    0       0    0   0    0    0    0    0   0     ...         0      0   \n",
      "4   0    0       0    0   0    0    0    0    0   0     ...         0      0   \n",
      "\n",
      "   zombie  zombies  zone  zones  zoning  zoo  zuckerberg  zuckerbergs  \n",
      "0       0        0     0      0       0    0           0            0  \n",
      "1       0        0     0      0       0    0           0            0  \n",
      "2       0        0     0      0       0    0           0            0  \n",
      "3       0        0     0      0       0    0           0            0  \n",
      "4       0        0     0      0       0    0           0            0  \n",
      "\n",
      "[5 rows x 11914 columns]\n",
      "    00  000  000new  014   02  024  029  033  036   04     ...       zip  \\\n",
      "0  0.0  0.0     0.0  0.0  0.0  0.0  0.0  0.0  0.0  0.0     ...       0.0   \n",
      "1  0.0  0.0     0.0  0.0  0.0  0.0  0.0  0.0  0.0  0.0     ...       0.0   \n",
      "2  0.0  0.0     0.0  0.0  0.0  0.0  0.0  0.0  0.0  0.0     ...       0.0   \n",
      "3  0.0  0.0     0.0  0.0  0.0  0.0  0.0  0.0  0.0  0.0     ...       0.0   \n",
      "4  0.0  0.0     0.0  0.0  0.0  0.0  0.0  0.0  0.0  0.0     ...       0.0   \n",
      "\n",
      "   zippo  zombie  zombies  zone  zones  zoning  zoo  zuckerberg  zuckerbergs  \n",
      "0    0.0     0.0      0.0   0.0    0.0     0.0  0.0         0.0          0.0  \n",
      "1    0.0     0.0      0.0   0.0    0.0     0.0  0.0         0.0          0.0  \n",
      "2    0.0     0.0      0.0   0.0    0.0     0.0  0.0         0.0          0.0  \n",
      "3    0.0     0.0      0.0   0.0    0.0     0.0  0.0         0.0          0.0  \n",
      "4    0.0     0.0      0.0   0.0    0.0     0.0  0.0         0.0          0.0  \n",
      "\n",
      "[5 rows x 11914 columns]\n",
      "set()\n",
      "False\n"
     ]
    }
   ],
   "source": [
    "count_df = pd.DataFrame(count_train.A, columns=count_vectorizer.get_feature_names())\n",
    "tfidf_df = pd.DataFrame(tfidf_train.A, columns=tfidf_vectorizer.get_feature_names())\n",
    "print(count_df.head())\n",
    "print(tfidf_df.head())\n",
    "difference = set(count_df.columns) - set(tfidf_df.columns)\n",
    "print(difference)\n",
    "print(count_df.equals(tfidf_df))"
   ]
  },
  {
   "cell_type": "markdown",
   "metadata": {},
   "source": [
    "## Multinomial Naive Bayes Classifier"
   ]
  },
  {
   "cell_type": "code",
   "execution_count": 19,
   "metadata": {},
   "outputs": [
    {
     "name": "stdout",
     "output_type": "stream",
     "text": [
      "Confusion Matrix --- Multinomial Naive Bayes\n",
      "[[36 42]\n",
      " [30 64]]\n",
      "Multinomial Naive Bayes classifier accuracy:   0.237\n"
     ]
    }
   ],
   "source": [
    "## Instantiate a Multinomial Naive Bayes classifier: nb_classifier\n",
    "nb_classifier = MultinomialNB()\n",
    "\n",
    "## Fit the classifier to the training data\n",
    "nb_classifier.fit(count_train, train_df['train_label'])\n",
    "\n",
    "## Create the predicted tags: pred\n",
    "mnb_pred = nb_classifier.predict(count_test)\n",
    "\n",
    "# Create the predicted tags: pred\n",
    "mnb_score = metrics.accuracy_score(test_df['test_label'], mnb_pred)\n",
    "\n",
    "# Calculate the confusion matrix: mnb_cm\n",
    "mnb_cm = metrics.confusion_matrix(test_df['test_label'], mnb_pred, labels=['true', 'false'])\n",
    "print('Confusion Matrix --- Multinomial Naive Bayes')\n",
    "print(mnb_cm)\n",
    "print(\"Multinomial Naive Bayes classifier accuracy:   %0.3f\" % mnb_score)"
   ]
  },
  {
   "cell_type": "markdown",
   "metadata": {},
   "source": [
    "Below code shows the confusion matrix in a graphical form for Multinomial Naive Bayes classifier and classification reports"
   ]
  },
  {
   "cell_type": "code",
   "execution_count": 16,
   "metadata": {},
   "outputs": [
    {
     "name": "stdout",
     "output_type": "stream",
     "text": [
      "              precision    recall  f1-score   support\n",
      "\n",
      " barely-true       0.23      0.18      0.20       212\n",
      "       false       0.24      0.26      0.25       249\n",
      "   half-true       0.24      0.32      0.28       265\n",
      " mostly-true       0.22      0.29      0.25       241\n",
      "  pants-fire       0.25      0.05      0.09        92\n",
      "        true       0.25      0.17      0.21       207\n",
      "\n",
      "    accuracy                           0.24      1266\n",
      "   macro avg       0.24      0.21      0.21      1266\n",
      "weighted avg       0.24      0.24      0.23      1266\n",
      "\n"
     ]
    },
    {
     "data": {
      "image/png": "[encoded data removed]",
      "text/plain": [
       "<Figure size 720x720 with 2 Axes>"
      ]
     },
     "metadata": {
      "needs_background": "light"
     },
     "output_type": "display_data"
    }
   ],
   "source": [
    "mnb_cm = metrics.confusion_matrix(test_df['test_label'],mnb_pred)\n",
    "plt.show()\n",
    "plt.figure(figsize=(10,10))\n",
    "sns.heatmap(mnb_cm, annot=True, linewidth=.5, square = True, cmap = 'Blues_r',fmt='f');\n",
    "plt.ylabel('Actual label');\n",
    "plt.xlabel('Predicted label');\n",
    "plt.title('Confusion Matrix', size = 15);\n",
    "\n",
    "report = classification_report(test_df['test_label'],mnb_pred)\n",
    "print(report)"
   ]
  },
  {
   "cell_type": "markdown",
   "metadata": {},
   "source": [
    "## Passive Aggressive Classifier"
   ]
  },
  {
   "cell_type": "code",
   "execution_count": 20,
   "metadata": {},
   "outputs": [
    {
     "name": "stdout",
     "output_type": "stream",
     "text": [
      "Confusion Matrix --- PassiveAggressiveClassifier\n",
      "[[43 46]\n",
      " [39 81]]\n",
      "Passive Aggressive Classifier accuracy:   0.227\n"
     ]
    }
   ],
   "source": [
    "## Instantiating a Passive Aggressive Classifier : pa_tfidf_clf\n",
    "pa_tfidf_clf = PassiveAggressiveClassifier()\n",
    "\n",
    "## Fit the classifier to the training data\n",
    "pa_tfidf_clf.fit(count_train, train_df['train_label'])\n",
    "\n",
    "## Create the predicted tags: pac_pred\n",
    "pac_pred = pa_tfidf_clf.predict(count_test)\n",
    "## Calculate the accuracy score: pac_score\n",
    "pac_score = metrics.accuracy_score(test_df['test_label'], pac_pred)\n",
    "\n",
    "## Calculate the confusion matrix: pac_cm\n",
    "pac_cm = metrics.confusion_matrix(test_df['test_label'], pac_pred, labels=['true', 'false'])\n",
    "print('Confusion Matrix --- PassiveAggressiveClassifier')\n",
    "print(pac_cm)\n",
    "print(\"Passive Aggressive Classifier accuracy:   %0.3f\" % pac_score)"
   ]
  },
  {
   "cell_type": "markdown",
   "metadata": {},
   "source": [
    "Below code shows the confusion matrix in a graphical form for PassiveAggressiveClassifier and classification reports"
   ]
  },
  {
   "cell_type": "code",
   "execution_count": 21,
   "metadata": {},
   "outputs": [
    {
     "name": "stdout",
     "output_type": "stream",
     "text": [
      "              precision    recall  f1-score   support\n",
      "\n",
      " barely-true       0.22      0.19      0.21       212\n",
      "       false       0.28      0.33      0.30       249\n",
      "   half-true       0.23      0.22      0.23       265\n",
      " mostly-true       0.20      0.20      0.20       241\n",
      "  pants-fire       0.18      0.20      0.19        92\n",
      "        true       0.20      0.21      0.20       207\n",
      "\n",
      "    accuracy                           0.23      1266\n",
      "   macro avg       0.22      0.22      0.22      1266\n",
      "weighted avg       0.23      0.23      0.23      1266\n",
      "\n"
     ]
    },
    {
     "data": {
      "image/png": "[encoded data removed]",
      "text/plain": [
       "<Figure size 720x720 with 2 Axes>"
      ]
     },
     "metadata": {
      "needs_background": "light"
     },
     "output_type": "display_data"
    }
   ],
   "source": [
    "pac_cm = metrics.confusion_matrix(test_df['test_label'],pac_pred)\n",
    "plt.show()\n",
    "plt.figure(figsize=(10,10))\n",
    "sns.heatmap(pac_cm, annot=True, linewidth=.5, square = True, cmap = 'Blues_r',fmt='f');\n",
    "plt.ylabel('Actual label');\n",
    "plt.xlabel('Predicted label');\n",
    "plt.title('Confusion Matrix', size = 15);\n",
    "\n",
    "report = classification_report(test_df['test_label'],pac_pred)\n",
    "print(report)"
   ]
  },
  {
   "cell_type": "markdown",
   "metadata": {},
   "source": [
    "## Support Vector Classifier"
   ]
  },
  {
   "cell_type": "code",
   "execution_count": 22,
   "metadata": {},
   "outputs": [
    {
     "name": "stdout",
     "output_type": "stream",
     "text": [
      "Confusion Matrix --- LinearSVC\n",
      "[[53 41]\n",
      " [39 75]]\n",
      "accuracy:   0.235\n"
     ]
    }
   ],
   "source": [
    "## Instantiate a Support Vector classifier: svc_tfidf_clf\n",
    "svc_tfidf_clf = LinearSVC()\n",
    "\n",
    "## Fit the classifier to the training data\n",
    "svc_tfidf_clf.fit(count_train, train_df['train_label'])\n",
    "\n",
    "## Create the predicted tags: svc_pred\n",
    "svc_pred = svc_tfidf_clf.predict(count_test)\n",
    "\n",
    "## Calculate the accuracy score: svc_score\n",
    "svc_score = metrics.accuracy_score(test_df['test_label'], svc_pred)\n",
    "\n",
    "## Calculate the confusion matrix: cm\n",
    "svc_cm = metrics.confusion_matrix(test_df['test_label'], svc_pred, labels=['true', 'false'])\n",
    "print('Confusion Matrix --- LinearSVC')\n",
    "print(svc_cm)\n",
    "print(\"accuracy:   %0.3f\" % svc_score)"
   ]
  },
  {
   "cell_type": "markdown",
   "metadata": {},
   "source": [
    "Below code shows the confusion matrix in a graphical form for SVCClassifier and classification reports"
   ]
  },
  {
   "cell_type": "code",
   "execution_count": 23,
   "metadata": {},
   "outputs": [
    {
     "name": "stdout",
     "output_type": "stream",
     "text": [
      "              precision    recall  f1-score   support\n",
      "\n",
      " barely-true       0.25      0.22      0.23       212\n",
      "       false       0.27      0.30      0.29       249\n",
      "   half-true       0.24      0.22      0.23       265\n",
      " mostly-true       0.20      0.21      0.20       241\n",
      "  pants-fire       0.16      0.15      0.15        92\n",
      "        true       0.24      0.26      0.25       207\n",
      "\n",
      "    accuracy                           0.23      1266\n",
      "   macro avg       0.23      0.23      0.23      1266\n",
      "weighted avg       0.23      0.23      0.23      1266\n",
      "\n"
     ]
    },
    {
     "data": {
      "image/png": "[encoded data removed]",
      "text/plain": [
       "<Figure size 720x720 with 2 Axes>"
      ]
     },
     "metadata": {
      "needs_background": "light"
     },
     "output_type": "display_data"
    }
   ],
   "source": [
    "svc_cm = metrics.confusion_matrix(test_df['test_label'],svc_pred)\n",
    "plt.show()\n",
    "plt.figure(figsize=(10,10))\n",
    "sns.heatmap(svc_cm, annot=True, linewidth=.5, square = True, cmap = 'Blues_r',fmt='f');\n",
    "plt.ylabel('Actual label');\n",
    "plt.xlabel('Predicted label');\n",
    "plt.title('Confusion Matrix', size = 15);\n",
    "\n",
    "report = classification_report(test_df['test_label'],svc_pred)\n",
    "print(report)"
   ]
  },
  {
   "cell_type": "markdown",
   "metadata": {},
   "source": [
    "## Stochastic Gradient Descent Classifier"
   ]
  },
  {
   "cell_type": "code",
   "execution_count": 25,
   "metadata": {},
   "outputs": [
    {
     "name": "stdout",
     "output_type": "stream",
     "text": [
      "Confusion Matrix --- SGD Classifier\n",
      "[[57 35]\n",
      " [35 72]]\n",
      "accuracy:   0.242\n"
     ]
    }
   ],
   "source": [
    "## Instantiate a Multinomial Naive Bayes classifier: sgd_tfidf_clf\n",
    "sgd_tfidf_clf = SGDClassifier()\n",
    "\n",
    "## Fit the classifier to the training data\n",
    "sgd_tfidf_clf.fit(count_train, train_df['train_label'])\n",
    "\n",
    "## Create the predicted tags: sgd_pred\n",
    "sgd_pred = sgd_tfidf_clf.predict(count_test)\n",
    "\n",
    "## Calculate the accuracy score: score\n",
    "sgd_score = metrics.accuracy_score(test_df['test_label'], sgd_pred)\n",
    "\n",
    "## Calculate the confusion matrix: cm\n",
    "sgd_cm = metrics.confusion_matrix(test_df['test_label'], sgd_pred, labels=['true', 'false'])\n",
    "print('Confusion Matrix --- SGD Classifier')\n",
    "print(sgd_cm)\n",
    "\n",
    "print(\"accuracy:   %0.3f\" % sgd_score)"
   ]
  },
  {
   "cell_type": "markdown",
   "metadata": {},
   "source": [
    "Below code shows the confusion matrix in a graphical form for SGDClassifier and classification reports\n"
   ]
  },
  {
   "cell_type": "code",
   "execution_count": 27,
   "metadata": {},
   "outputs": [
    {
     "name": "stdout",
     "output_type": "stream",
     "text": [
      "              precision    recall  f1-score   support\n",
      "\n",
      " barely-true       0.26      0.28      0.27       212\n",
      "       false       0.28      0.29      0.29       249\n",
      "   half-true       0.23      0.22      0.22       265\n",
      " mostly-true       0.20      0.17      0.18       241\n",
      "  pants-fire       0.19      0.21      0.20        92\n",
      "        true       0.26      0.28      0.27       207\n",
      "\n",
      "    accuracy                           0.24      1266\n",
      "   macro avg       0.24      0.24      0.24      1266\n",
      "weighted avg       0.24      0.24      0.24      1266\n",
      "\n"
     ]
    },
    {
     "data": {
      "image/png": "[encoded data removed]",
      "text/plain": [
       "<Figure size 720x720 with 2 Axes>"
      ]
     },
     "metadata": {
      "needs_background": "light"
     },
     "output_type": "display_data"
    }
   ],
   "source": [
    "sgd_cm = metrics.confusion_matrix(test_df['test_label'],sgd_pred)\n",
    "plt.show()\n",
    "plt.figure(figsize=(10,10))\n",
    "sns.heatmap(sgd_cm, annot=True, linewidth=.5, square = True, cmap = 'Blues_r',fmt='f');\n",
    "plt.ylabel('Actual label');\n",
    "plt.xlabel('Predicted label');\n",
    "plt.title('Confusion Matrix', size = 15);\n",
    "\n",
    "report = classification_report(test_df['test_label'],sgd_pred)\n",
    "print(report)"
   ]
  },
  {
   "cell_type": "code",
   "execution_count": null,
   "metadata": {},
   "outputs": [],
   "source": []
  },
  {
   "cell_type": "code",
   "execution_count": null,
   "metadata": {},
   "outputs": [],
   "source": []
  },
  {
   "cell_type": "code",
   "execution_count": null,
   "metadata": {},
   "outputs": [],
   "source": []
  },
  {
   "cell_type": "code",
   "execution_count": null,
   "metadata": {},
   "outputs": [],
   "source": []
  }
 ],
 "metadata": {
  "kernelspec": {
   "display_name": "Python 3",
   "language": "python",
   "name": "python3"
  },
  "language_info": {
   "codemirror_mode": {
    "name": "ipython",
    "version": 3
   },
   "file_extension": ".py",
   "mimetype": "text/x-python",
   "name": "python",
   "nbconvert_exporter": "python",
   "pygments_lexer": "ipython3",
   "version": "3.7.1"
  }
 },
 "nbformat": 4,
 "nbformat_minor": 2
}
