{
  "nbformat": 4,
  "nbformat_minor": 0,
  "metadata": {
    "colab": {
      "name": "Untitled0.ipynb",
      "version": "0.3.2",
      "provenance": [],
      "collapsed_sections": []
    },
    "kernelspec": {
      "name": "python3",
      "display_name": "Python 3"
    },
    "accelerator": "GPU"
  },
  "cells": [
    {
      "cell_type": "code",
      "metadata": {
        "id": "xEZ3BNMI1Pmx",
        "colab_type": "code",
        "colab": {}
      },
      "source": [
        "%matplotlib inline\n",
        "import matplotlib.pyplot as plt\n",
        "\n",
        "import torch\n",
        "from torch import nn\n",
        "from torch import optim\n",
        "import torch.nn.functional as F\n",
        "from torch.autograd import Variable\n",
        "from torchvision import datasets, transforms, models\n",
        "import cv2\n"
      ],
      "execution_count": 0,
      "outputs": []
    },
    {
      "cell_type": "code",
      "metadata": {
        "id": "_5nqpi29zlLo",
        "colab_type": "code",
        "outputId": "41494b70-3800-4882-80eb-452bfd50801a",
        "colab": {
          "base_uri": "https://localhost:8080/",
          "height": 124
        }
      },
      "source": [
        "from google.colab import drive\n",
        "drive.mount('/content/drive')"
      ],
      "execution_count": 0,
      "outputs": [
        {
          "output_type": "stream",
          "text": [
            "Go to this URL in a browser: https://accounts.google.com/o/oauth2/auth?client_id=947318989803-6bn6qk8qdgf4n4g3pfee6491hc0brc4i.apps.googleusercontent.com&redirect_uri=urn%3Aietf%3Awg%3Aoauth%3A2.0%3Aoob&scope=email%20https%3A%2F%2Fwww.googleapis.com%2Fauth%2Fdocs.test%20https%3A%2F%2Fwww.googleapis.com%2Fauth%2Fdrive%20https%3A%2F%2Fwww.googleapis.com%2Fauth%2Fdrive.photos.readonly%20https%3A%2F%2Fwww.googleapis.com%2Fauth%2Fpeopleapi.readonly&response_type=code\n",
            "\n",
            "Enter your authorization code:\n",
            "··········\n",
            "Mounted at /content/drive\n"
          ],
          "name": "stdout"
        }
      ]
    },
    {
      "cell_type": "code",
      "metadata": {
        "id": "_WubG0f-z-cL",
        "colab_type": "code",
        "colab": {}
      },
      "source": [
        "import os"
      ],
      "execution_count": 0,
      "outputs": []
    },
    {
      "cell_type": "code",
      "metadata": {
        "id": "pTkWlmCA0RSg",
        "colab_type": "code",
        "outputId": "09ebeb96-9051-4805-b461-5bda032735f2",
        "colab": {
          "base_uri": "https://localhost:8080/",
          "height": 35
        }
      },
      "source": [
        "os.listdir('/content/drive/My Drive/Accident')"
      ],
      "execution_count": 0,
      "outputs": [
        {
          "output_type": "execute_result",
          "data": {
            "text/plain": [
              "['Data.zip', 'Real_test', 'Untitled0.ipynb']"
            ]
          },
          "metadata": {
            "tags": []
          },
          "execution_count": 5
        }
      ]
    },
    {
      "cell_type": "code",
      "metadata": {
        "id": "wqiuIaAc0Uwu",
        "colab_type": "code",
        "colab": {}
      },
      "source": [
        "!unzip '/content/drive/My Drive/Accident/Data.zip'"
      ],
      "execution_count": 0,
      "outputs": []
    },
    {
      "cell_type": "code",
      "metadata": {
        "id": "Z34r__2f0mzO",
        "colab_type": "code",
        "outputId": "d9cb4f8a-4b53-4571-fb88-11ca1fa6ceb6",
        "colab": {
          "base_uri": "https://localhost:8080/",
          "height": 35
        }
      },
      "source": [
        "os.listdir('Data')"
      ],
      "execution_count": 0,
      "outputs": [
        {
          "output_type": "execute_result",
          "data": {
            "text/plain": [
              "['test', '.DS_Store', 'train']"
            ]
          },
          "metadata": {
            "tags": []
          },
          "execution_count": 7
        }
      ]
    },
    {
      "cell_type": "code",
      "metadata": {
        "id": "6rB17aPm06_l",
        "colab_type": "code",
        "colab": {}
      },
      "source": [
        "dataDirectory = 'Data'"
      ],
      "execution_count": 0,
      "outputs": []
    },
    {
      "cell_type": "code",
      "metadata": {
        "id": "66VUkZzN1AJG",
        "colab_type": "code",
        "colab": {}
      },
      "source": [
        "trainTransform = transforms.Compose([transforms.RandomRotation(30),\n",
        "                                    transforms.RandomResizedCrop(224),\n",
        "                                    transforms.RandomHorizontalFlip(),\n",
        "                                    transforms.ToTensor(),\n",
        "                                    transforms.Normalize([0.485,0.456,0.406],[0.229,0.224,0.225])])\n",
        "\n",
        "testTransform = transforms.Compose([transforms.Resize(255),\n",
        "                                   transforms.CenterCrop(224),\n",
        "                                   transforms.ToTensor(),\n",
        "                                   transforms.Normalize([0.485,0.456,0.406],[0.229,0.224,0.225])])"
      ],
      "execution_count": 0,
      "outputs": []
    },
    {
      "cell_type": "code",
      "metadata": {
        "id": "UZzh3FYJ1JIR",
        "colab_type": "code",
        "colab": {}
      },
      "source": [
        "#Data\n",
        "train_data = datasets.ImageFolder(dataDirectory+'/train',transform = trainTransform)\n",
        "test_data = datasets.ImageFolder(dataDirectory+'/test',transform = testTransform)\n",
        "\n",
        "#DataLoaders\n",
        "trainloader = torch.utils.data.DataLoader(train_data ,batch_size=64, shuffle=True)\n",
        "testloader = torch.utils.data.DataLoader(test_data, batch_size=64)\n"
      ],
      "execution_count": 0,
      "outputs": []
    },
    {
      "cell_type": "code",
      "metadata": {
        "id": "ieod7YDO1XNT",
        "colab_type": "code",
        "outputId": "2abb4ffe-837f-48b2-c669-ba589b06c9a7",
        "colab": {
          "base_uri": "https://localhost:8080/",
          "height": 52
        }
      },
      "source": [
        "model = models.densenet121(pretrained=True)"
      ],
      "execution_count": 0,
      "outputs": [
        {
          "output_type": "stream",
          "text": [
            "Downloading: \"https://download.pytorch.org/models/densenet121-a639ec97.pth\" to /root/.cache/torch/checkpoints/densenet121-a639ec97.pth\n",
            "100%|██████████| 32342954/32342954 [00:00<00:00, 77603936.10it/s]\n"
          ],
          "name": "stderr"
        }
      ]
    },
    {
      "cell_type": "code",
      "metadata": {
        "id": "tqx0Wytw1s9b",
        "colab_type": "code",
        "outputId": "dc3db7de-abc4-47cc-ad7a-6d4e4a7ebead",
        "colab": {
          "base_uri": "https://localhost:8080/",
          "height": 35
        }
      },
      "source": [
        "torch.cuda.is_available()"
      ],
      "execution_count": 0,
      "outputs": [
        {
          "output_type": "execute_result",
          "data": {
            "text/plain": [
              "True"
            ]
          },
          "metadata": {
            "tags": []
          },
          "execution_count": 12
        }
      ]
    },
    {
      "cell_type": "code",
      "metadata": {
        "id": "ojP5afQ91y15",
        "colab_type": "code",
        "colab": {}
      },
      "source": [
        "# Use GPU if it's available\n",
        "device = torch.device(\"cuda\" if torch.cuda.is_available() else \"cpu\")\n",
        "\n",
        "model = models.densenet121(pretrained=True)\n",
        "\n",
        "# Freeze parameters so we don't backprop through them\n",
        "for param in model.parameters():\n",
        "    param.requires_grad = False\n",
        "    \n",
        "model.classifier = nn.Sequential(nn.Linear(1024, 256),\n",
        "                                 nn.ReLU(),\n",
        "                                 nn.Dropout(0.5),\n",
        "                                 nn.Linear(256, 2),\n",
        "                                 nn.LogSoftmax(dim=1))\n",
        "\n",
        "criterion = nn.NLLLoss()\n",
        "\n",
        "# Only train the classifier parameters, feature parameters are frozen\n",
        "optimizer = optim.Adam(model.classifier.parameters(), lr=0.0005)\n",
        "\n",
        "model.to(device);\n"
      ],
      "execution_count": 0,
      "outputs": []
    },
    {
      "cell_type": "code",
      "metadata": {
        "id": "bTu38rXP159Q",
        "colab_type": "code",
        "outputId": "4cf373c8-07bf-45e0-9902-865257c4dd8f",
        "colab": {
          "base_uri": "https://localhost:8080/",
          "height": 484
        }
      },
      "source": [
        "epochs = 2\n",
        "steps = 0\n",
        "running_loss = 0\n",
        "print_every = 5\n",
        "for epoch in range(epochs):\n",
        "    for inputs, labels in trainloader:\n",
        "        steps += 1\n",
        "        \n",
        "        # Move input and label tensors to the default device\n",
        "        inputs, labels = inputs.to(device), labels.to(device)\n",
        "        \n",
        "        optimizer.zero_grad()\n",
        "        \n",
        "        logps = model.forward(inputs)\n",
        "        loss = criterion(logps, labels)\n",
        "        loss.backward()\n",
        "        optimizer.step()\n",
        "\n",
        "        running_loss += loss.item()\n",
        "        \n",
        "        if steps % print_every == 0:\n",
        "            test_loss = 0\n",
        "            accuracy = 0\n",
        "            model.eval()\n",
        "            with torch.no_grad():\n",
        "                for inputs, labels in testloader:\n",
        "                    inputs, labels = inputs.to(device), labels.to(device)\n",
        "                    logps = model.forward(inputs)\n",
        "                    batch_loss = criterion(logps, labels)\n",
        "                    \n",
        "                    test_loss += batch_loss.item()\n",
        "                    \n",
        "                    # Calculate accuracy\n",
        "                    ps = torch.exp(logps)\n",
        "                    top_p, top_class = ps.topk(1, dim=1)\n",
        "                    equals = top_class == labels.view(*top_class.shape)\n",
        "                    accuracy += torch.mean(equals.type(torch.FloatTensor)).item()\n",
        "                    \n",
        "            print(f\"Epoch {epoch+1}/{epochs}.. \"\n",
        "                  f\"Train loss: {running_loss/print_every:.3f}.. \"\n",
        "                  f\"Test loss: {test_loss/len(testloader):.3f}.. \"\n",
        "                  f\"Test accuracy: {accuracy/len(testloader):.3f}\")\n",
        "            running_loss = 0\n",
        "            model.train()\n"
      ],
      "execution_count": 0,
      "outputs": [
        {
          "output_type": "stream",
          "text": [
            "Epoch 1/2.. Train loss: 0.666.. Test loss: 0.648.. Test accuracy: 0.642\n",
            "Epoch 1/2.. Train loss: 0.629.. Test loss: 0.623.. Test accuracy: 0.704\n",
            "Epoch 1/2.. Train loss: 0.575.. Test loss: 0.612.. Test accuracy: 0.694\n",
            "Epoch 1/2.. Train loss: 0.573.. Test loss: 0.607.. Test accuracy: 0.679\n",
            "Epoch 1/2.. Train loss: 0.555.. Test loss: 0.613.. Test accuracy: 0.655\n",
            "Epoch 1/2.. Train loss: 0.488.. Test loss: 0.608.. Test accuracy: 0.624\n",
            "Epoch 1/2.. Train loss: 0.498.. Test loss: 0.614.. Test accuracy: 0.640\n",
            "Epoch 1/2.. Train loss: 0.511.. Test loss: 0.630.. Test accuracy: 0.620\n",
            "Epoch 1/2.. Train loss: 0.452.. Test loss: 0.616.. Test accuracy: 0.678\n",
            "Epoch 1/2.. Train loss: 0.518.. Test loss: 0.658.. Test accuracy: 0.623\n",
            "Epoch 1/2.. Train loss: 0.479.. Test loss: 0.641.. Test accuracy: 0.621\n",
            "Epoch 1/2.. Train loss: 0.445.. Test loss: 0.584.. Test accuracy: 0.682\n",
            "Epoch 1/2.. Train loss: 0.533.. Test loss: 0.756.. Test accuracy: 0.605\n",
            "Epoch 2/2.. Train loss: 0.549.. Test loss: 0.573.. Test accuracy: 0.678\n",
            "Epoch 2/2.. Train loss: 0.418.. Test loss: 0.617.. Test accuracy: 0.645\n",
            "Epoch 2/2.. Train loss: 0.483.. Test loss: 0.577.. Test accuracy: 0.688\n",
            "Epoch 2/2.. Train loss: 0.487.. Test loss: 0.591.. Test accuracy: 0.690\n",
            "Epoch 2/2.. Train loss: 0.448.. Test loss: 0.622.. Test accuracy: 0.647\n",
            "Epoch 2/2.. Train loss: 0.473.. Test loss: 0.567.. Test accuracy: 0.703\n",
            "Epoch 2/2.. Train loss: 0.396.. Test loss: 0.579.. Test accuracy: 0.697\n",
            "Epoch 2/2.. Train loss: 0.470.. Test loss: 0.605.. Test accuracy: 0.654\n",
            "Epoch 2/2.. Train loss: 0.437.. Test loss: 0.559.. Test accuracy: 0.704\n",
            "Epoch 2/2.. Train loss: 0.429.. Test loss: 0.542.. Test accuracy: 0.715\n",
            "Epoch 2/2.. Train loss: 0.412.. Test loss: 0.517.. Test accuracy: 0.732\n",
            "Epoch 2/2.. Train loss: 0.423.. Test loss: 0.541.. Test accuracy: 0.711\n",
            "Epoch 2/2.. Train loss: 0.408.. Test loss: 0.605.. Test accuracy: 0.674\n",
            "Epoch 2/2.. Train loss: 0.411.. Test loss: 0.536.. Test accuracy: 0.719\n"
          ],
          "name": "stdout"
        }
      ]
    },
    {
      "cell_type": "code",
      "metadata": {
        "id": "PjK6_5tb2Exz",
        "colab_type": "code",
        "outputId": "8eaad8d9-287f-4c76-c56b-24210fb7daad",
        "colab": {
          "base_uri": "https://localhost:8080/",
          "height": 35
        }
      },
      "source": [
        "os.listdir('/content/drive/My Drive/Accident/Real_test')"
      ],
      "execution_count": 0,
      "outputs": [
        {
          "output_type": "execute_result",
          "data": {
            "text/plain": [
              "['a.jpg']"
            ]
          },
          "metadata": {
            "tags": []
          },
          "execution_count": 47
        }
      ]
    },
    {
      "cell_type": "code",
      "metadata": {
        "id": "QUM0S1pxEfvS",
        "colab_type": "code",
        "colab": {}
      },
      "source": [
        "inTransform = transforms.Compose([transforms.ToPILImage(),\n",
        "                                  transforms.Resize(255),\n",
        "                                   transforms.CenterCrop(224),\n",
        "                                   transforms.ToTensor(),\n",
        "                                   transforms.Normalize([0.485,0.456,0.406],[0.229,0.224,0.225])])"
      ],
      "execution_count": 0,
      "outputs": []
    },
    {
      "cell_type": "code",
      "metadata": {
        "id": "CUS7lUDe6WJr",
        "colab_type": "code",
        "colab": {}
      },
      "source": [
        "inference = cv2.imread('/content/drive/My Drive/Accident/Real_test/a.jpg')"
      ],
      "execution_count": 0,
      "outputs": []
    },
    {
      "cell_type": "code",
      "metadata": {
        "id": "lPYjNF057EDh",
        "colab_type": "code",
        "colab": {}
      },
      "source": [
        "inf = inTransform(inference)"
      ],
      "execution_count": 0,
      "outputs": []
    },
    {
      "cell_type": "code",
      "metadata": {
        "id": "LdUP1ADOGzR7",
        "colab_type": "code",
        "colab": {}
      },
      "source": [
        "inf = inf.unsqueeze(0)"
      ],
      "execution_count": 0,
      "outputs": []
    },
    {
      "cell_type": "code",
      "metadata": {
        "id": "Wbu4fJR8FN5m",
        "colab_type": "code",
        "outputId": "a050b715-5c0d-4d75-e6b3-4401fbdee068",
        "colab": {
          "base_uri": "https://localhost:8080/",
          "height": 35
        }
      },
      "source": [
        "device"
      ],
      "execution_count": 0,
      "outputs": [
        {
          "output_type": "execute_result",
          "data": {
            "text/plain": [
              "device(type='cuda')"
            ]
          },
          "metadata": {
            "tags": []
          },
          "execution_count": 56
        }
      ]
    },
    {
      "cell_type": "code",
      "metadata": {
        "id": "UbgNUOw17LRl",
        "colab_type": "code",
        "colab": {}
      },
      "source": [
        "inf = inf.to(device)"
      ],
      "execution_count": 0,
      "outputs": []
    },
    {
      "cell_type": "code",
      "metadata": {
        "id": "LCbIM4DDDZVL",
        "colab_type": "code",
        "colab": {}
      },
      "source": [
        "logps = model.forward(inf)\n",
        "ps = torch.exp(logps)\n",
        "top_p, top_class = ps.topk(1, dim=1)"
      ],
      "execution_count": 0,
      "outputs": []
    },
    {
      "cell_type": "code",
      "metadata": {
        "id": "MoZbYnEb99vX",
        "colab_type": "code",
        "outputId": "198c9208-ad7c-449b-fe74-d5569c00db6a",
        "colab": {
          "base_uri": "https://localhost:8080/",
          "height": 35
        }
      },
      "source": [
        "top_class"
      ],
      "execution_count": 0,
      "outputs": [
        {
          "output_type": "execute_result",
          "data": {
            "text/plain": [
              "tensor([[1]], device='cuda:0')"
            ]
          },
          "metadata": {
            "tags": []
          },
          "execution_count": 62
        }
      ]
    },
    {
      "cell_type": "code",
      "metadata": {
        "id": "Bj4o-EA7HetX",
        "colab_type": "code",
        "colab": {}
      },
      "source": [
        "path = '/content/drive/My Drive/Accident/Model' "
      ],
      "execution_count": 0,
      "outputs": []
    },
    {
      "cell_type": "code",
      "metadata": {
        "id": "DIljdjO8IO90",
        "colab_type": "code",
        "colab": {}
      },
      "source": [
        "torch.save(model.state_dict() , path+'/checkpoint.pth')\n"
      ],
      "execution_count": 0,
      "outputs": []
    },
    {
      "cell_type": "code",
      "metadata": {
        "id": "LF5ZHpjjIzmZ",
        "colab_type": "code",
        "colab": {}
      },
      "source": [
        "model.state_dict()"
      ],
      "execution_count": 0,
      "outputs": []
    },
    {
      "cell_type": "code",
      "metadata": {
        "id": "k74byIxVJGMZ",
        "colab_type": "code",
        "colab": {}
      },
      "source": [
        ""
      ],
      "execution_count": 0,
      "outputs": []
    }
  ]
}