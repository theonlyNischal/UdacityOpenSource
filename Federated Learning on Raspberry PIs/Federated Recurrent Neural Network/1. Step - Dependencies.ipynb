{
 "cells": [
  {
   "cell_type": "code",
   "execution_count": null,
   "metadata": {},
   "outputs": [
    {
     "name": "stdout",
     "output_type": "stream",
     "text": [
      "Collecting tf-encrypted==0.5.6\n",
      "  Downloading https://files.pythonhosted.org/packages/49/ab/8b772e6d81f1a8af0141b1b7648c6826ed9f4306021568ec8165a3f7f71a/tf-encrypted-0.5.6.tar.gz (105kB)\n",
      "Requirement already satisfied: tensorflow<2,>=1.12.0 in c:\\users\\sankalp\\anaconda3\\envs\\udacity\\lib\\site-packages (from tf-encrypted==0.5.6) (1.13.1)\n",
      "Requirement already satisfied: numpy>=1.14.0 in c:\\users\\sankalp\\anaconda3\\envs\\udacity\\lib\\site-packages (from tf-encrypted==0.5.6) (1.16.4)\n",
      "Collecting pyyaml>=5.1 (from tf-encrypted==0.5.6)\n",
      "  Downloading https://files.pythonhosted.org/packages/bc/3f/4f733cd0b1b675f34beb290d465a65e0f06b492c00b111d1b75125062de1/PyYAML-5.1.2-cp37-cp37m-win_amd64.whl (215kB)\n",
      "Requirement already satisfied: wheel>=0.26 in c:\\users\\sankalp\\anaconda3\\envs\\udacity\\lib\\site-packages (from tensorflow<2,>=1.12.0->tf-encrypted==0.5.6) (0.33.4)\n",
      "Requirement already satisfied: protobuf>=3.6.1 in c:\\users\\sankalp\\anaconda3\\envs\\udacity\\lib\\site-packages (from tensorflow<2,>=1.12.0->tf-encrypted==0.5.6) (3.8.0)\n",
      "Requirement already satisfied: grpcio>=1.8.6 in c:\\users\\sankalp\\anaconda3\\envs\\udacity\\lib\\site-packages (from tensorflow<2,>=1.12.0->tf-encrypted==0.5.6) (1.16.1)\n",
      "Requirement already satisfied: astor>=0.6.0 in c:\\users\\sankalp\\anaconda3\\envs\\udacity\\lib\\site-packages (from tensorflow<2,>=1.12.0->tf-encrypted==0.5.6) (0.7.1)\n",
      "Requirement already satisfied: gast>=0.2.0 in c:\\users\\sankalp\\anaconda3\\envs\\udacity\\lib\\site-packages (from tensorflow<2,>=1.12.0->tf-encrypted==0.5.6) (0.2.2)\n",
      "Requirement already satisfied: keras-preprocessing>=1.0.5 in c:\\users\\sankalp\\anaconda3\\envs\\udacity\\lib\\site-packages (from tensorflow<2,>=1.12.0->tf-encrypted==0.5.6) (1.1.0)\n",
      "Requirement already satisfied: keras-applications>=1.0.6 in c:\\users\\sankalp\\anaconda3\\envs\\udacity\\lib\\site-packages (from tensorflow<2,>=1.12.0->tf-encrypted==0.5.6) (1.0.8)\n",
      "Requirement already satisfied: tensorflow-estimator<1.14.0rc0,>=1.13.0 in c:\\users\\sankalp\\anaconda3\\envs\\udacity\\lib\\site-packages (from tensorflow<2,>=1.12.0->tf-encrypted==0.5.6) (1.13.0)\n",
      "Requirement already satisfied: six>=1.10.0 in c:\\users\\sankalp\\anaconda3\\envs\\udacity\\lib\\site-packages (from tensorflow<2,>=1.12.0->tf-encrypted==0.5.6) (1.12.0)\n",
      "Requirement already satisfied: termcolor>=1.1.0 in c:\\users\\sankalp\\anaconda3\\envs\\udacity\\lib\\site-packages (from tensorflow<2,>=1.12.0->tf-encrypted==0.5.6) (1.1.0)\n",
      "Requirement already satisfied: tensorboard<1.14.0,>=1.13.0 in c:\\users\\sankalp\\anaconda3\\envs\\udacity\\lib\\site-packages (from tensorflow<2,>=1.12.0->tf-encrypted==0.5.6) (1.13.1)\n",
      "Requirement already satisfied: absl-py>=0.1.6 in c:\\users\\sankalp\\anaconda3\\envs\\udacity\\lib\\site-packages (from tensorflow<2,>=1.12.0->tf-encrypted==0.5.6) (0.7.1)\n",
      "Requirement already satisfied: setuptools in c:\\users\\sankalp\\anaconda3\\envs\\udacity\\lib\\site-packages (from protobuf>=3.6.1->tensorflow<2,>=1.12.0->tf-encrypted==0.5.6) (41.0.1)\n",
      "Requirement already satisfied: h5py in c:\\users\\sankalp\\anaconda3\\envs\\udacity\\lib\\site-packages (from keras-applications>=1.0.6->tensorflow<2,>=1.12.0->tf-encrypted==0.5.6) (2.9.0)\n",
      "Requirement already satisfied: werkzeug>=0.11.15 in c:\\users\\sankalp\\anaconda3\\envs\\udacity\\lib\\site-packages (from tensorboard<1.14.0,>=1.13.0->tensorflow<2,>=1.12.0->tf-encrypted==0.5.6) (0.15.4)\n",
      "Requirement already satisfied: markdown>=2.6.8 in c:\\users\\sankalp\\anaconda3\\envs\\udacity\\lib\\site-packages (from tensorboard<1.14.0,>=1.13.0->tensorflow<2,>=1.12.0->tf-encrypted==0.5.6) (3.1.1)\n",
      "Building wheels for collected packages: tf-encrypted\n",
      "  Building wheel for tf-encrypted (setup.py): started\n",
      "  Building wheel for tf-encrypted (setup.py): finished with status 'done'\n",
      "  Stored in directory: C:\\Users\\Sankalp\\AppData\\Local\\pip\\Cache\\wheels\\b1\\42\\32\\dfbd686975e0c953a8a8781446c55286abff2cd29b8b445506\n",
      "Successfully built tf-encrypted\n",
      "Installing collected packages: pyyaml, tf-encrypted\n",
      "Successfully installed pyyaml-5.1.2 tf-encrypted-0.5.6\n",
      "Collecting msgpack==0.6.1\n",
      "  Using cached https://files.pythonhosted.org/packages/d1/67/476640810609471e0f3a32c9f4388bf1318b773d0a64b116305d3b604dca/msgpack-0.6.1-cp37-cp37m-win_amd64.whl\n",
      "Installing collected packages: msgpack\n",
      "  Found existing installation: msgpack 0.5.6\n",
      "    Uninstalling msgpack-0.5.6:\n",
      "      Successfully uninstalled msgpack-0.5.6\n",
      "Successfully installed msgpack-0.6.1\n"
     ]
    },
    {
     "name": "stderr",
     "output_type": "stream",
     "text": [
      "ERROR: spacy 2.0.12 has requirement regex==2017.4.5, but you'll have regex 2018.7.11 which is incompatible.\n",
      "! was unexpected at this time.\n",
      "The system cannot find the path specified.\n"
     ]
    },
    {
     "name": "stdout",
     "output_type": "stream",
     "text": [
      "Collecting lz4\n",
      "  Using cached https://files.pythonhosted.org/packages/de/30/c241f360f769fd5a8623bf512de1b184a0473eaeaa6d32c7cda6cfeafef5/lz4-2.1.10-cp37-cp37m-win_amd64.whl\n",
      "Installing collected packages: lz4\n",
      "Successfully installed lz4-2.1.10\n",
      "Collecting websocket\n",
      "  Downloading https://files.pythonhosted.org/packages/f2/6d/a60d620ea575c885510c574909d2e3ed62129b121fa2df00ca1c81024c87/websocket-0.2.1.tar.gz (195kB)\n",
      "Collecting gevent (from websocket)\n",
      "  Downloading https://files.pythonhosted.org/packages/8a/dd/417aad4e69fa7f8882534b778c46cb28eb0421ffa1e924ec3b4efcfcc81f/gevent-1.4.0-cp37-cp37m-win_amd64.whl (3.0MB)\n",
      "Collecting greenlet (from websocket)\n",
      "  Downloading https://files.pythonhosted.org/packages/90/a3/da8593df08ee2efeb86ccf3201508a1fd2a3749e2735b7cadb7dd00416c6/greenlet-0.4.15-cp37-cp37m-win_amd64.whl\n",
      "Collecting cffi>=1.11.5; sys_platform == \"win32\" and platform_python_implementation == \"CPython\" (from gevent->websocket)\n",
      "  Downloading https://files.pythonhosted.org/packages/2f/ad/9722b7752fdd88c858be57b47f41d1049b5fb0ab79caf0ab11407945c1a7/cffi-1.12.3-cp37-cp37m-win_amd64.whl (171kB)\n",
      "Collecting pycparser (from cffi>=1.11.5; sys_platform == \"win32\" and platform_python_implementation == \"CPython\"->gevent->websocket)\n",
      "  Downloading https://files.pythonhosted.org/packages/68/9e/49196946aee219aead1290e00d1e7fdeab8567783e83e1b9ab5585e6206a/pycparser-2.19.tar.gz (158kB)\n",
      "Building wheels for collected packages: websocket, pycparser\n",
      "  Building wheel for websocket (setup.py): started\n",
      "  Building wheel for websocket (setup.py): finished with status 'done'\n",
      "  Stored in directory: C:\\Users\\Sankalp\\AppData\\Local\\pip\\Cache\\wheels\\35\\f7\\5c\\9e8243838269ea93f05295708519a6e183fa6b515d9ce3b636\n",
      "  Building wheel for pycparser (setup.py): started\n",
      "  Building wheel for pycparser (setup.py): finished with status 'done'\n",
      "  Stored in directory: C:\\Users\\Sankalp\\AppData\\Local\\pip\\Cache\\wheels\\f2\\9a\\90\\de94f8556265ddc9d9c8b271b0f63e57b26fb1d67a45564511\n",
      "Successfully built websocket pycparser\n",
      "Installing collected packages: greenlet, pycparser, cffi, gevent, websocket\n",
      "  Found existing installation: pycparser 2.19\n",
      "    Uninstalling pycparser-2.19:\n",
      "      Successfully uninstalled pycparser-2.19\n",
      "  Found existing installation: cffi 1.12.3\n",
      "    Uninstalling cffi-1.12.3:\n",
      "      Successfully uninstalled cffi-1.12.3\n",
      "Successfully installed cffi-1.12.3 gevent-1.4.0 greenlet-0.4.15 pycparser-2.19 websocket-0.2.1\n",
      "Collecting websockets\n",
      "  Downloading https://files.pythonhosted.org/packages/9c/60/f96f535f3354cb6ba5e5c7ab128b1c4802a2d040ee7225e3fe51242816c1/websockets-8.0.2-cp37-cp37m-win_amd64.whl (65kB)\n",
      "Installing collected packages: websockets\n",
      "Successfully installed websockets-8.0.2\n"
     ]
    }
   ],
   "source": [
    "#Install PySyft in Google Colab\n",
    "\n",
    "!pip install tf-encrypted==0.5.6\n",
    "!pip install msgpack==0.6.1\n",
    "!pip install regex==2017.4.5\n",
    "\n",
    "! URL=\"https://github.com/openmined/PySyft.git\" && FOLDER=\"PySyft\" && if [ ! -d $FOLDER ]; then git clone -b dev --single-branch $URL; else (cd $FOLDER && git pull $URL && cd ..); fi;\n",
    "\n",
    "!cd PySyft; python setup.py install  > /dev/null\n",
    "\n",
    "import os\n",
    "import sys\n",
    "module_path = os.path.abspath(os.path.join('./PySyft'))\n",
    "if module_path not in sys.path:\n",
    "    sys.path.append(module_path)\n",
    "    \n",
    "!pip install --upgrade --force-reinstall lz4\n",
    "!pip install --upgrade --force-reinstall websocket\n",
    "!pip install --upgrade --force-reinstall websockets\n",
    "!pip install --upgrade --force-reinstall zstd"
   ]
  },
  {
   "cell_type": "code",
   "execution_count": null,
   "metadata": {},
   "outputs": [],
   "source": [
    "from __future__ import unicode_literals, print_function, division\n",
    "from torch.utils.data import Dataset\n",
    "\n",
    "import torch\n",
    "from io import open\n",
    "import glob\n",
    "import os\n",
    "import numpy as np\n",
    "import unicodedata\n",
    "import string\n",
    "import random\n",
    "import torch.nn as nn\n",
    "import time\n",
    "import math\n",
    "import syft as sy\n",
    "import pandas as pd\n",
    "import random\n",
    "from syft.frameworks.torch.federated import utils\n",
    "\n",
    "from syft.workers import WebsocketClientWorker\n",
    "import matplotlib.pyplot as plt\n",
    "import matplotlib.ticker as ticker"
   ]
  },
  {
   "cell_type": "code",
   "execution_count": null,
   "metadata": {},
   "outputs": [],
   "source": [
    "!wget https://download.pytorch.org/tutorial/data.zip  "
   ]
  },
  {
   "cell_type": "code",
   "execution_count": null,
   "metadata": {},
   "outputs": [],
   "source": [
    "!unzip data.zip"
   ]
  },
  {
   "cell_type": "code",
   "execution_count": null,
   "metadata": {},
   "outputs": [],
   "source": []
  },
  {
   "cell_type": "code",
   "execution_count": null,
   "metadata": {},
   "outputs": [],
   "source": []
  },
  {
   "cell_type": "code",
   "execution_count": null,
   "metadata": {},
   "outputs": [],
   "source": []
  },
  {
   "cell_type": "code",
   "execution_count": null,
   "metadata": {},
   "outputs": [],
   "source": []
  }
 ],
 "metadata": {
  "kernelspec": {
   "display_name": "Python 3",
   "language": "python",
   "name": "python3"
  },
  "language_info": {
   "codemirror_mode": {
    "name": "ipython",
    "version": 3
   },
   "file_extension": ".py",
   "mimetype": "text/x-python",
   "name": "python",
   "nbconvert_exporter": "python",
   "pygments_lexer": "ipython3",
   "version": "3.7.3"
  }
 },
 "nbformat": 4,
 "nbformat_minor": 2
}
