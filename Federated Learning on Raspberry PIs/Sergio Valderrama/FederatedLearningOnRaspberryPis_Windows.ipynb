{
  "nbformat": 4,
  "nbformat_minor": 0,
  "metadata": {
    "colab": {
      "name": "FederatedLearningOnRaspberryPis_Windows.ipynb",
      "version": "0.3.2",
      "provenance": [],
      "collapsed_sections": []
    },
    "kernelspec": {
      "display_name": "Python 3",
      "language": "python",
      "name": "python3"
    },
    "language_info": {
      "codemirror_mode": {
        "name": "ipython",
        "version": 3
      },
      "file_extension": ".py",
      "mimetype": "text/x-python",
      "name": "python",
      "nbconvert_exporter": "python",
      "pygments_lexer": "ipython3",
      "version": "3.7.3"
    }
  },
  "cells": [
    {
      "cell_type": "code",
      "metadata": {
        "colab_type": "code",
        "id": "p2oW_FJYibER",
        "outputId": "803ed21a-9643-4641-bab5-00b31aefe303",
        "colab": {
          "base_uri": "https://localhost:8080/",
          "height": 102
        }
      },
      "source": [
        "!pip3 list"
      ],
      "execution_count": 0,
      "outputs": [
        {
          "output_type": "stream",
          "text": [
            "Package            Version    \n",
            "------------------ -----------\n",
            "attrs              19.1.0     \n",
            "backcall           0.1.0      \n",
            "bleach             3.1.0      \n",
            "Click              7.0        \n",
            "colorama           0.4.1      \n",
            "cycler             0.10.0     \n",
            "decorator          4.4.0      \n",
            "defusedxml         0.6.0      \n",
            "entrypoints        0.3        \n",
            "Flask              1.1.1      \n",
            "Flask-SocketIO     4.2.1      \n",
            "ipykernel          5.1.2      \n",
            "ipython            7.7.0      \n",
            "ipython-genutils   0.2.0      \n",
            "ipywidgets         7.5.1      \n",
            "itsdangerous       1.1.0      \n",
            "jedi               0.15.1     \n",
            "Jinja2             2.10.1     \n",
            "json5              0.8.5      \n",
            "jsonschema         3.0.2      \n",
            "jupyter            1.0.0      \n",
            "jupyter-client     5.3.1      \n",
            "jupyter-console    6.0.0      \n",
            "jupyter-core       4.5.0      \n",
            "jupyterlab         1.0.5      \n",
            "jupyterlab-server  1.0.0      \n",
            "kiwisolver         1.1.0      \n",
            "lz4                2.1.10     \n",
            "MarkupSafe         1.1.1      \n",
            "matplotlib         3.1.1      \n",
            "mistune            0.8.4      \n",
            "msgpack            0.6.1      \n",
            "nbconvert          5.6.0      \n",
            "nbformat           4.4.0      \n",
            "notebook           6.0.0      \n",
            "numpy              1.17.0     \n",
            "pandas             0.25.0     \n",
            "pandocfilters      1.4.2      \n",
            "parso              0.5.1      \n",
            "pickleshare        0.7.5      \n",
            "Pillow             6.1.0      \n",
            "pip                19.0.3     \n",
            "prometheus-client  0.7.1      \n",
            "prompt-toolkit     2.0.9      \n",
            "Pygments           2.4.2      \n",
            "pyparsing          2.4.2      \n",
            "pyrsistent         0.15.4     \n",
            "python-dateutil    2.8.0      \n",
            "python-engineio    3.9.3      \n",
            "python-socketio    4.3.1      \n",
            "pytz               2019.2     \n",
            "pywinpty           0.5.5      \n",
            "PyYAML             5.1.2      \n",
            "pyzmq              18.1.0     \n",
            "qtconsole          4.5.2      \n",
            "Send2Trash         1.5.0      \n",
            "setuptools         40.8.0     \n",
            "six                1.12.0     \n",
            "syft               0.1.13a1   \n",
            "terminado          0.8.2      \n",
            "testpath           0.4.2      \n",
            "torch              1.0.0      \n",
            "torchvision        0.2.2.post3\n",
            "tornado            6.0.3      \n",
            "traitlets          4.3.2      \n",
            "wcwidth            0.1.7      \n",
            "webencodings       0.5.1      \n",
            "websocket-client   0.56.0     \n",
            "websockets         8.0.2      \n",
            "Werkzeug           0.15.5     \n",
            "widgetsnbextension 3.5.1      \n",
            "zstd               1.4.1.0    \n"
          ],
          "name": "stdout"
        },
        {
          "output_type": "stream",
          "text": [
            "You are using pip version 19.0.3, however version 19.2.2 is available.\n",
            "You should consider upgrading via the 'python -m pip install --upgrade pip' command.\n"
          ],
          "name": "stderr"
        }
      ]
    },
    {
      "cell_type": "code",
      "metadata": {
        "colab_type": "code",
        "id": "EMf1JulmrMSU",
        "scrolled": true,
        "colab": {}
      },
      "source": [
        "from __future__ import unicode_literals, print_function, division\n",
        "from torch.utils.data import Dataset\n",
        "\n",
        "import torch\n",
        "from io import open\n",
        "import glob\n",
        "import os\n",
        "import numpy as np\n",
        "import unicodedata\n",
        "import string\n",
        "import random\n",
        "import torch.nn as nn\n",
        "import time\n",
        "import math\n",
        "import syft as sy\n",
        "import pandas as pd\n",
        "import random\n",
        "from syft.frameworks.torch.federated import utils\n",
        "\n",
        "from syft.workers import WebsocketClientWorker\n",
        "import matplotlib.pyplot as plt\n",
        "import matplotlib.ticker as ticker"
      ],
      "execution_count": 0,
      "outputs": []
    },
    {
      "cell_type": "code",
      "metadata": {
        "colab_type": "code",
        "id": "SfRtGt8GFlTO",
        "colab": {}
      },
      "source": [
        "#Load all the files in a certain path\n",
        "def findFiles(path):\n",
        "    return glob.glob(path)\n",
        "\n",
        "# Read a file and split into lines\n",
        "def readLines(filename):\n",
        "    lines = open(filename, encoding='utf-8').read().strip().split('\\n')\n",
        "    return [unicodeToAscii(line) for line in lines]\n",
        "\n",
        "#convert a string 's' in unicode format to ASCII format\n",
        "def unicodeToAscii(s):\n",
        "    return ''.join (\n",
        "        c for c in unicodedata.normalize('NFD', s)\n",
        "        if unicodedata.category(c) != 'Mn'\n",
        "        and c in all_letters\n",
        "    )\n"
      ],
      "execution_count": 0,
      "outputs": []
    },
    {
      "cell_type": "code",
      "metadata": {
        "colab_type": "code",
        "id": "01Z3MAOQFq-z",
        "outputId": "5fdc6c0e-e8f6-4878-a0fc-68f5bb892454",
        "colab": {
          "base_uri": "https://localhost:8080/",
          "height": 340
        }
      },
      "source": [
        "data_path = './data/names/*.txt'\n",
        "\n",
        "all_letters = string.ascii_letters + \" .,;'\"\n",
        "n_letters = len(all_letters)\n",
        "\n",
        "category_lines = {}\n",
        "all_categories = []\n",
        "\n",
        "for filename in findFiles(data_path):\n",
        "    print(filename)\n",
        "    category = os.path.splitext(os.path.basename(filename))[0]\n",
        "    all_categories.append(category)\n",
        "    lines = readLines(filename)\n",
        "    category_lines[category] = lines   \n",
        "    \n",
        "n_categories = len(all_categories)\n",
        "\n",
        "print(\"Amount of categories:\" + str(n_categories))"
      ],
      "execution_count": 0,
      "outputs": [
        {
          "output_type": "stream",
          "text": [
            "./data/names\\Arabic.txt\n",
            "./data/names\\Chinese.txt\n",
            "./data/names\\Czech.txt\n",
            "./data/names\\Dutch.txt\n",
            "./data/names\\English.txt\n",
            "./data/names\\French.txt\n",
            "./data/names\\German.txt\n",
            "./data/names\\Greek.txt\n",
            "./data/names\\Irish.txt\n",
            "./data/names\\Italian.txt\n",
            "./data/names\\Japanese.txt\n",
            "./data/names\\Korean.txt\n",
            "./data/names\\Polish.txt\n",
            "./data/names\\Portuguese.txt\n",
            "./data/names\\Russian.txt\n",
            "./data/names\\Scottish.txt\n",
            "./data/names\\Spanish.txt\n",
            "./data/names\\Vietnamese.txt\n",
            "Amount of categories:18\n"
          ],
          "name": "stdout"
        }
      ]
    },
    {
      "cell_type": "code",
      "metadata": {
        "colab_type": "code",
        "id": "BbCNl5vOG7Q0",
        "colab": {}
      },
      "source": [
        "class LanguageDataset(Dataset):\n",
        "    #Constructor is mandatory\n",
        "        def __init__(self, text, labels, transform=None):\n",
        "            self.data = text\n",
        "            self.targets = labels #categories\n",
        "            #self.to_torchtensor()\n",
        "            self.transform = transform\n",
        "        \n",
        "        def to_torchtensor(self):            \n",
        "            self.data = torch.from_numpy(self.text, requires_grad=True)\n",
        "            self.labels = torch.from_numpy(self.targets, requires_grad=True)\n",
        "        \n",
        "        def __len__(self):\n",
        "            #Mandatory\n",
        "            '''Returns:\n",
        "                    Length [int]: Length of Dataset/batches\n",
        "            '''\n",
        "            return len(self.data)\n",
        "    \n",
        "        def __getitem__(self, idx): \n",
        "            #Mandatory \n",
        "            \n",
        "            '''Returns:\n",
        "                     Data [Torch Tensor]: \n",
        "                     Target [ Torch Tensor]:\n",
        "            '''\n",
        "            sample = self.data[idx]\n",
        "            target = self.targets[idx]\n",
        "                    \n",
        "            if self.transform:\n",
        "                sample = self.transform(sample)\n",
        "    \n",
        "            return sample,target"
      ],
      "execution_count": 0,
      "outputs": []
    },
    {
      "cell_type": "code",
      "metadata": {
        "colab_type": "code",
        "id": "eQba15YQHYR2",
        "colab": {}
      },
      "source": [
        "#The list of arguments for our program. We will be needing most of them soon.\n",
        "class Arguments():\n",
        "    def __init__(self):\n",
        "        self.batch_size = 1\n",
        "        self.learning_rate = 0.005\n",
        "        self.epochs = 10000\n",
        "        self.federate_after_n_batches = 15000\n",
        "        self.seed = 1\n",
        "        self.print_every = 200\n",
        "        self.plot_every = 100\n",
        "        self.use_cuda = False\n",
        "        \n",
        "args = Arguments()"
      ],
      "execution_count": 0,
      "outputs": []
    },
    {
      "cell_type": "code",
      "metadata": {
        "colab_type": "code",
        "id": "u34QkoBkHlb0",
        "outputId": "8311180e-e4ca-4dc8-a48d-8b932204716f",
        "colab": {
          "base_uri": "https://localhost:8080/",
          "height": 34
        }
      },
      "source": [
        "%%latex\n",
        "\n",
        "\\begin{split}\n",
        "names\\_list = [d_1,...,d_n]  \\\\\n",
        "\n",
        "category\\_list = [c_1,...,c_n] \n",
        "\\end{split}\n",
        "\n",
        "\n",
        "Where $n$ is the total amount of data points"
      ],
      "execution_count": 0,
      "outputs": [
        {
          "output_type": "display_data",
          "data": {
            "text/latex": "\n\\begin{split}\nnames\\_list = [d_1,...,d_n]  \\\\\n\ncategory\\_list = [c_1,...,c_n] \n\\end{split}\n\n\nWhere $n$ is the total amount of data points\n",
            "text/plain": [
              "<IPython.core.display.Latex object>"
            ]
          },
          "metadata": {
            "tags": []
          }
        }
      ]
    },
    {
      "cell_type": "code",
      "metadata": {
        "colab_type": "code",
        "id": "R0aZBnZEHpfH",
        "outputId": "c485476b-d3d3-4b14-f1c1-b6443eefc7cb",
        "colab": {
          "base_uri": "https://localhost:8080/",
          "height": 122
        }
      },
      "source": [
        "#Set of names(X)\n",
        "names_list = []\n",
        "#Set of labels (Y)\n",
        "category_list = []\n",
        "\n",
        "#Convert into a list with corresponding label.\n",
        "\n",
        "for nation, names in category_lines.items():\n",
        "    #iterate over every single name\n",
        "    for name in names:\n",
        "        names_list.append(name)      #input data point\n",
        "        category_list.append(nation) #label\n",
        "        \n",
        "#let's see if it was successfully loaded. Each data sample(X) should have its own corresponding category(Y)\n",
        "print(names_list[1:20])\n",
        "print(category_list[1:20])\n",
        "\n",
        "print(\"\\n \\n Amount of data points loaded: \" + str(len(names_list)))"
      ],
      "execution_count": 0,
      "outputs": [
        {
          "output_type": "stream",
          "text": [
            "['Nahas', 'Daher', 'Gerges', 'Nazari', 'Maalouf', 'Gerges', 'Naifeh', 'Guirguis', 'Baba', 'Sabbagh', 'Attia', 'Tahan', 'Haddad', 'Aswad', 'Najjar', 'Dagher', 'Maloof', 'Isa', 'Asghar']\n",
            "['Arabic', 'Arabic', 'Arabic', 'Arabic', 'Arabic', 'Arabic', 'Arabic', 'Arabic', 'Arabic', 'Arabic', 'Arabic', 'Arabic', 'Arabic', 'Arabic', 'Arabic', 'Arabic', 'Arabic', 'Arabic', 'Arabic']\n",
            "\n",
            " \n",
            " Amount of data points loaded: 20074\n"
          ],
          "name": "stdout"
        }
      ]
    },
    {
      "cell_type": "code",
      "metadata": {
        "colab_type": "code",
        "id": "Z5QXRytdH2NQ",
        "outputId": "bbf5de9a-0e8a-4123-c023-794b8a409688",
        "colab": {
          "base_uri": "https://localhost:8080/",
          "height": 51
        }
      },
      "source": [
        "#Assign an integer to every category\n",
        "categories_numerical = pd.factorize(category_list)[0]\n",
        "#Let's wrap our categories with a tensor, so that it can be loaded by LanguageDataset\n",
        "category_tensor = torch.tensor(np.array(categories_numerical), dtype=torch.long)\n",
        "#Ready to be processed by torch.from_numpy in LanguageDataset\n",
        "categories_numpy = np.array(category_tensor)\n",
        "\n",
        "#Let's see a few resulting categories\n",
        "print(names_list[1200:1210])\n",
        "print(categories_numpy[1200:1210])"
      ],
      "execution_count": 0,
      "outputs": [
        {
          "output_type": "stream",
          "text": [
            "['Said', 'Guirguis', 'Nader', 'Harb', 'Atiyeh', 'Zogby', 'Basara', 'Nassar', 'Kalb', 'Khoury']\n",
            "[0 0 0 0 0 0 0 0 0 0]\n"
          ],
          "name": "stdout"
        }
      ]
    },
    {
      "cell_type": "code",
      "metadata": {
        "colab_type": "code",
        "id": "-uFEKcRYH8np",
        "outputId": "bc9db229-132f-402e-b69c-59c47099e5f2",
        "colab": {
          "base_uri": "https://localhost:8080/",
          "height": 238
        }
      },
      "source": [
        "def letterToIndex(letter):\n",
        "    return all_letters.find(letter)\n",
        "    \n",
        "# Just for demonstration, turn a letter into a <1 x n_letters> Tensor\n",
        "def letterToTensor(letter):\n",
        "    tensor = torch.zeros(1, n_letters)\n",
        "    tensor[0][letterToIndex(letter)] = 1\n",
        "    return tensor\n",
        "\n",
        "# Turn a line into a <line_length x 1 x n_letters>,\n",
        "# or an array of one-hot letter vectors\n",
        "def lineToTensor(line):\n",
        "    tensor = torch.zeros(len(line), 1, n_letters) #Daniele: len(max_line_size) was len(line)\n",
        "    for li, letter in enumerate(line):\n",
        "        tensor[li][0][letterToIndex(letter)] = 1\n",
        "    #Daniele: add blank elements over here\n",
        "    return tensor    \n",
        "    \n",
        "    \n",
        "    \n",
        "def list_strings_to_list_tensors(names_list):\n",
        "    lines_tensors = []\n",
        "    for index, line in enumerate(names_list):\n",
        "        lineTensor = lineToTensor(line)\n",
        "        lineNumpy = lineTensor.numpy()\n",
        "        lines_tensors.append(lineNumpy)\n",
        "        \n",
        "    return(lines_tensors)\n",
        "\n",
        "lines_tensors = list_strings_to_list_tensors(names_list)\n",
        "\n",
        "print(names_list[0])\n",
        "print(lines_tensors[0])\n",
        "print(lines_tensors[0].shape)"
      ],
      "execution_count": 0,
      "outputs": [
        {
          "output_type": "stream",
          "text": [
            "Khoury\n",
            "[[[0. 0. 0. 0. 0. 0. 0. 0. 0. 0. 0. 0. 0. 0. 0. 0. 0. 0. 0. 0. 0. 0. 0.\n",
            "   0. 0. 0. 0. 0. 0. 0. 0. 0. 0. 0. 0. 0. 1. 0. 0. 0. 0. 0. 0. 0. 0. 0.\n",
            "   0. 0. 0. 0. 0. 0. 0. 0. 0. 0. 0.]]\n",
            "\n",
            " [[0. 0. 0. 0. 0. 0. 0. 1. 0. 0. 0. 0. 0. 0. 0. 0. 0. 0. 0. 0. 0. 0. 0.\n",
            "   0. 0. 0. 0. 0. 0. 0. 0. 0. 0. 0. 0. 0. 0. 0. 0. 0. 0. 0. 0. 0. 0. 0.\n",
            "   0. 0. 0. 0. 0. 0. 0. 0. 0. 0. 0.]]\n",
            "\n",
            " [[0. 0. 0. 0. 0. 0. 0. 0. 0. 0. 0. 0. 0. 0. 1. 0. 0. 0. 0. 0. 0. 0. 0.\n",
            "   0. 0. 0. 0. 0. 0. 0. 0. 0. 0. 0. 0. 0. 0. 0. 0. 0. 0. 0. 0. 0. 0. 0.\n",
            "   0. 0. 0. 0. 0. 0. 0. 0. 0. 0. 0.]]\n",
            "\n",
            " [[0. 0. 0. 0. 0. 0. 0. 0. 0. 0. 0. 0. 0. 0. 0. 0. 0. 0. 0. 0. 1. 0. 0.\n",
            "   0. 0. 0. 0. 0. 0. 0. 0. 0. 0. 0. 0. 0. 0. 0. 0. 0. 0. 0. 0. 0. 0. 0.\n",
            "   0. 0. 0. 0. 0. 0. 0. 0. 0. 0. 0.]]\n",
            "\n",
            " [[0. 0. 0. 0. 0. 0. 0. 0. 0. 0. 0. 0. 0. 0. 0. 0. 0. 1. 0. 0. 0. 0. 0.\n",
            "   0. 0. 0. 0. 0. 0. 0. 0. 0. 0. 0. 0. 0. 0. 0. 0. 0. 0. 0. 0. 0. 0. 0.\n",
            "   0. 0. 0. 0. 0. 0. 0. 0. 0. 0. 0.]]\n",
            "\n",
            " [[0. 0. 0. 0. 0. 0. 0. 0. 0. 0. 0. 0. 0. 0. 0. 0. 0. 0. 0. 0. 0. 0. 0.\n",
            "   0. 1. 0. 0. 0. 0. 0. 0. 0. 0. 0. 0. 0. 0. 0. 0. 0. 0. 0. 0. 0. 0. 0.\n",
            "   0. 0. 0. 0. 0. 0. 0. 0. 0. 0. 0.]]]\n",
            "(6, 1, 57)\n"
          ],
          "name": "stdout"
        }
      ]
    },
    {
      "cell_type": "code",
      "metadata": {
        "colab_type": "code",
        "id": "Y575umqqJVI5",
        "outputId": "888a24cc-6638-4a79-cce8-24b246a6aa8f",
        "colab": {
          "base_uri": "https://localhost:8080/",
          "height": 272
        }
      },
      "source": [
        "max_line_size = max(len(x) for x in lines_tensors)\n",
        "\n",
        "def lineToTensorFillEmpty(line, max_line_size):\n",
        "    tensor = torch.zeros(max_line_size, 1, n_letters) #notice the difference between this method and the previous one\n",
        "    for li, letter in enumerate(line):\n",
        "        tensor[li][0][letterToIndex(letter)] = 1\n",
        "        \n",
        "        #Vectors with (0,0,.... ,0) are placed where there are no characters\n",
        "    return tensor\n",
        "\n",
        "def list_strings_to_list_tensors_fill_empty(names_list):\n",
        "    lines_tensors = []\n",
        "    for index, line in enumerate(names_list):\n",
        "        lineTensor = lineToTensorFillEmpty(line, max_line_size)\n",
        "        lines_tensors.append(lineTensor)\n",
        "    return(lines_tensors)\n",
        "\n",
        "lines_tensors = list_strings_to_list_tensors_fill_empty(names_list)\n",
        "\n",
        "#Let's take a look at what a word now looks like\n",
        "print(names_list[0])\n",
        "print(lines_tensors[0])\n",
        "print(lines_tensors[0].shape)"
      ],
      "execution_count": 0,
      "outputs": [
        {
          "output_type": "stream",
          "text": [
            "Khoury\n",
            "tensor([[[0., 0., 0.,  ..., 0., 0., 0.]],\n",
            "\n",
            "        [[0., 0., 0.,  ..., 0., 0., 0.]],\n",
            "\n",
            "        [[0., 0., 0.,  ..., 0., 0., 0.]],\n",
            "\n",
            "        ...,\n",
            "\n",
            "        [[0., 0., 0.,  ..., 0., 0., 0.]],\n",
            "\n",
            "        [[0., 0., 0.,  ..., 0., 0., 0.]],\n",
            "\n",
            "        [[0., 0., 0.,  ..., 0., 0., 0.]]])\n",
            "torch.Size([19, 1, 57])\n"
          ],
          "name": "stdout"
        }
      ]
    },
    {
      "cell_type": "code",
      "metadata": {
        "colab_type": "code",
        "id": "XDS_xjBlIAax",
        "outputId": "960956d6-666a-43db-eb45-8a81ac5e578c",
        "colab": {
          "base_uri": "https://localhost:8080/",
          "height": 51
        }
      },
      "source": [
        "#And finally, from a list, we can create a numpy array with all our word embeddings having the same shape:\n",
        "array_lines_tensors = np.stack(lines_tensors)\n",
        "#However, such operation introduces one extra dimension (look at the dimension with index=2 having size '1')\n",
        "print(array_lines_tensors.shape)\n",
        "#Because that dimension just has size 1, we can get rid of it with the following function call\n",
        "array_lines_proper_dimension = np.squeeze(array_lines_tensors, axis=2)\n",
        "print(array_lines_proper_dimension.shape)"
      ],
      "execution_count": 0,
      "outputs": [
        {
          "output_type": "stream",
          "text": [
            "(20074, 19, 1, 57)\n",
            "(20074, 19, 57)\n"
          ],
          "name": "stdout"
        }
      ]
    },
    {
      "cell_type": "code",
      "metadata": {
        "colab_type": "code",
        "id": "y1UD93dXIVhg",
        "outputId": "cd46650c-c45a-4b96-fce2-9b0b6d211c1c",
        "colab": {
          "base_uri": "https://localhost:8080/",
          "height": 54
        }
      },
      "source": [
        "\n",
        "def find_start_index_per_category(category_list):\n",
        "    categories_start_index = {}\n",
        "    \n",
        "    #Initialize every category with an empty list\n",
        "    for category in all_categories:\n",
        "        categories_start_index[category] = []\n",
        "    \n",
        "    #Insert the start index of each category into the dictionary categories_start_index\n",
        "    #Example: \"Italian\" --> 203\n",
        "    #         \"Spanish\" --> 19776\n",
        "    last_category = None\n",
        "    i = 0\n",
        "    for name in names_list:\n",
        "        cur_category = category_list[i]\n",
        "        if(cur_category != last_category):\n",
        "            categories_start_index[cur_category] = i\n",
        "            last_category = cur_category\n",
        "        \n",
        "        i = i + 1\n",
        "        \n",
        "    return(categories_start_index)\n",
        "\n",
        "categories_start_index = find_start_index_per_category(category_list)\n",
        "\n",
        "print(categories_start_index)"
      ],
      "execution_count": 0,
      "outputs": [
        {
          "output_type": "stream",
          "text": [
            "{'Arabic': 0, 'Chinese': 2000, 'Czech': 2268, 'Dutch': 2787, 'English': 3084, 'French': 6752, 'German': 7029, 'Greek': 7753, 'Irish': 7956, 'Italian': 8188, 'Japanese': 8897, 'Korean': 9888, 'Polish': 9982, 'Portuguese': 10121, 'Russian': 10195, 'Scottish': 19603, 'Spanish': 19703, 'Vietnamese': 20001}\n"
          ],
          "name": "stdout"
        }
      ]
    },
    {
      "cell_type": "code",
      "metadata": {
        "colab_type": "code",
        "id": "xlk_lLPSJ0n-",
        "colab": {}
      },
      "source": [
        "def randomChoice(l):\n",
        "    rand_value = random.randint(0, len(l) - 1)\n",
        "    return l[rand_value], rand_value\n",
        "\n",
        "\n",
        "def randomTrainingIndex():\n",
        "    category, rand_cat_index = randomChoice(all_categories) #cat = category, it's not a random animal\n",
        "    #rand_line_index is a relative index for a data point within the random category rand_cat_index\n",
        "    line, rand_line_index = randomChoice(category_lines[category])\n",
        "    category_start_index = categories_start_index[category]\n",
        "    absolute_index = category_start_index + rand_line_index\n",
        "    return(absolute_index)"
      ],
      "execution_count": 0,
      "outputs": []
    },
    {
      "cell_type": "code",
      "metadata": {
        "colab_type": "code",
        "id": "RSZ3_EKmJ9v6",
        "colab": {}
      },
      "source": [
        "## 3. Step: Model - Recurrent Neural Network"
      ],
      "execution_count": 0,
      "outputs": []
    },
    {
      "cell_type": "code",
      "metadata": {
        "colab_type": "code",
        "id": "dnElNc76KQrs",
        "outputId": "cffc819c-3858-47b2-b79c-d11004454f7d",
        "colab": {
          "base_uri": "https://localhost:8080/",
          "height": 102
        }
      },
      "source": [
        "#Two hidden layers, based on simple linear layers\n",
        "\n",
        "class RNN(nn.Module):\n",
        "    def __init__(self, input_size, hidden_size, output_size):\n",
        "        super(RNN, self).__init__()\n",
        "        self.hidden_size = hidden_size\n",
        "        self.i2h = nn.Linear(input_size + hidden_size, hidden_size)\n",
        "        self.i2o = nn.Linear(input_size + hidden_size, output_size)\n",
        "        self.softmax = nn.LogSoftmax(dim=1)\n",
        "\n",
        "    def forward(self, input, hidden):\n",
        "        combined = torch.cat((input, hidden), 1)\n",
        "        hidden = self.i2h(combined)\n",
        "        output = self.i2o(combined)\n",
        "        output = self.softmax(output)\n",
        "        return output, hidden\n",
        "\n",
        "    def initHidden(self):\n",
        "        return torch.zeros(1, self.hidden_size)\n",
        "\n",
        "#Let's instantiate the neural network already:\n",
        "n_hidden = 128\n",
        "#Instantiate RNN\n",
        "\n",
        "device = torch.device(\"cuda\" if args.use_cuda else \"cpu\")\n",
        "model = RNN(n_letters, n_hidden, n_categories).to(device)\n",
        "#The final softmax layer will produce a probability for each one of our 18 categories\n",
        "print(model)"
      ],
      "execution_count": 0,
      "outputs": [
        {
          "output_type": "stream",
          "text": [
            "RNN(\n",
            "  (i2h): Linear(in_features=185, out_features=128, bias=True)\n",
            "  (i2o): Linear(in_features=185, out_features=18, bias=True)\n",
            "  (softmax): LogSoftmax()\n",
            ")\n"
          ],
          "name": "stdout"
        }
      ]
    },
    {
      "cell_type": "code",
      "metadata": {
        "colab_type": "code",
        "id": "nPIjPtnuKmc-",
        "colab": {}
      },
      "source": [
        "#Now let's define our workers. You can either use remote workers or virtual workers\n",
        "\n",
        "hook = sy.TorchHook(torch)  # <-- NEW: hook PyTorch ie add extra functionalities to support Federated Learning\n",
        "\n",
        "#alice = sy.VirtualWorker(hook, id=\"alice\")  \n",
        "#bob = sy.VirtualWorker(hook, id=\"bob\")  \n",
        "#charlie = sy.VirtualWorker(hook, id=\"charlie\") \n",
        "\n",
        "#workers_virtual = [alice, bob]\n",
        "\n",
        "#If you have your workers operating remotely, like on Raspberry PIs\n",
        "my_ip=\"YOUR_IP\"\n",
        "kwargs_websocket_alice = {\"host\": my_ip, \"hook\": hook}\n",
        "alice = WebsocketClientWorker(id=\"alice\", port=8777, **kwargs_websocket_alice)\n",
        "kwargs_websocket_bob = {\"host\": my_ip, \"hook\": hook}\n",
        "bob = WebsocketClientWorker(id=\"bob\", port=8778, **kwargs_websocket_bob)\n",
        "workers_virtual = [alice, bob]"
      ],
      "execution_count": 0,
      "outputs": []
    },
    {
      "cell_type": "code",
      "metadata": {
        "colab_type": "code",
        "id": "YTjDBCOkKxG8",
        "colab": {}
      },
      "source": [
        "#array_lines_proper_dimension = our data points(X)\n",
        "#categories_numpy = our labels (Y)\n",
        "langDataset =  LanguageDataset(array_lines_proper_dimension, categories_numpy)\n",
        "\n",
        "#assign the data points and the corresponding categories to workers.\n",
        "federated_train_loader = sy.FederatedDataLoader(\n",
        "            langDataset\n",
        "            .federate(workers_virtual),\n",
        "            batch_size=args.batch_size)"
      ],
      "execution_count": 0,
      "outputs": []
    },
    {
      "cell_type": "code",
      "metadata": {
        "colab_type": "code",
        "id": "eZTu8CPEK1W-",
        "colab": {}
      },
      "source": [
        "## 4. Step - Model Training!"
      ],
      "execution_count": 0,
      "outputs": []
    },
    {
      "cell_type": "code",
      "metadata": {
        "colab_type": "code",
        "id": "G7svbudkK6aG",
        "colab": {}
      },
      "source": [
        "def categoryFromOutput(output):\n",
        "    top_n, top_i = output.topk(1)\n",
        "    category_i = top_i[0].item()\n",
        "    return all_categories[category_i], category_i\n",
        "\n",
        "def timeSince(since):\n",
        "    now = time.time()\n",
        "    s = now - since\n",
        "    m = math.floor(s / 60)\n",
        "    s -= m * 60\n",
        "    return '%dm %ds' % (m, s)\n",
        "\n",
        "\n",
        "def fed_avg_every_n_iters(model_pointers, iter, federate_after_n_batches):\n",
        "        models_local = {}\n",
        "        \n",
        "        if(iter % args.federate_after_n_batches == 0):\n",
        "            for worker_name, model_pointer in model_pointers.items():\n",
        "#                #need to assign the model to the worker it belongs to.\n",
        "                models_local[worker_name] = model_pointer.copy().get()\n",
        "            model_avg = utils.federated_avg(models_local)\n",
        "           \n",
        "            for worker in workers_virtual:\n",
        "                model_copied_avg = model_avg.copy()\n",
        "                model_ptr = model_copied_avg.send(worker) \n",
        "                model_pointers[worker.id] = model_ptr\n",
        "                \n",
        "        return(model_pointers)     \n",
        "\n",
        "def fw_bw_pass_model(model_pointers, line_single, category_single):\n",
        "    #get the right initialized model\n",
        "    model_ptr = model_pointers[line_single.location.id]   \n",
        "    line_reshaped = line_single.reshape(max_line_size, 1, len(all_letters))\n",
        "    line_reshaped, category_single = line_reshaped.to(device), category_single.to(device)\n",
        "    #Firstly, initialize hidden layer\n",
        "    hidden_init = model_ptr.initHidden() \n",
        "    #And now zero grad the model\n",
        "    model_ptr.zero_grad()\n",
        "    hidden_ptr = hidden_init.send(line_single.location)\n",
        "    amount_lines_non_zero = len(torch.nonzero(line_reshaped.copy().get()))\n",
        "    #now need to perform forward passes\n",
        "    for i in range(amount_lines_non_zero): \n",
        "        output, hidden_ptr = model_ptr(line_reshaped[i], hidden_ptr) \n",
        "    criterion = nn.NLLLoss()   \n",
        "    loss = criterion(output, category_single) \n",
        "    loss.backward()\n",
        "    \n",
        "    model_got = model_ptr.get() \n",
        "    \n",
        "    #Perform model weights' updates    \n",
        "    for param in model_got.parameters():\n",
        "        param.data.add_(-args.learning_rate, param.grad.data)\n",
        "        \n",
        "        \n",
        "    model_sent = model_got.send(line_single.location.id)\n",
        "    model_pointers[line_single.location.id] = model_sent\n",
        "    \n",
        "    return(model_pointers, loss, output)\n",
        "            \n",
        "  \n",
        "    \n",
        "def train_RNN(n_iters, print_every, plot_every, federate_after_n_batches, list_federated_train_loader):\n",
        "    current_loss = 0\n",
        "    all_losses = []    \n",
        "    \n",
        "    model_pointers = {}\n",
        "    \n",
        "    #Send the initialized model to every single worker just before the training procedure starts\n",
        "    for worker in workers_virtual:\n",
        "        model_copied = model.copy()\n",
        "        model_ptr = model_copied.send(worker) \n",
        "        model_pointers[worker.id] = model_ptr\n",
        "\n",
        "    #extract a random element from the list and perform training on it\n",
        "    for iter in range(1, n_iters + 1):        \n",
        "        random_index = randomTrainingIndex()\n",
        "        line_single, category_single = list_federated_train_loader[random_index]\n",
        "        #print(category_single.copy().get())\n",
        "        line_name = names_list[random_index]\n",
        "        model_pointers, loss, output = fw_bw_pass_model(model_pointers, line_single, category_single)\n",
        "        #model_pointers = fed_avg_every_n_iters(model_pointers, iter, args.federate_after_n_batches)\n",
        "        #Update the current loss a\n",
        "        loss_got = loss.get().item() \n",
        "        current_loss += loss_got\n",
        "        \n",
        "        if iter % plot_every == 0:\n",
        "            all_losses.append(current_loss / plot_every)\n",
        "            current_loss = 0\n",
        "             \n",
        "        if(iter % print_every == 0):\n",
        "            output_got = output.get()  #Without copy()\n",
        "            guess, guess_i = categoryFromOutput(output_got)\n",
        "            category = all_categories[category_single.copy().get().item()]\n",
        "            correct = '✓' if guess == category else '✗ (%s)' % category\n",
        "            print('%d %d%% (%s) %.4f %s / %s %s' % (iter, iter / n_iters * 100, timeSince(start), loss_got, line_name, guess, correct))\n",
        "    return(all_losses, model_pointers)"
      ],
      "execution_count": 0,
      "outputs": []
    },
    {
      "cell_type": "code",
      "metadata": {
        "colab_type": "code",
        "id": "GGole52rK-mT",
        "outputId": "22ba8e6d-6435-4b65-e325-df9914c3f872",
        "colab": {
          "base_uri": "https://localhost:8080/",
          "height": 34
        }
      },
      "source": [
        "#This may take a few seconds to complete.\n",
        "print(\"Generating list of batches for the workers...\")\n",
        "list_federated_train_loader = list(federated_train_loader)"
      ],
      "execution_count": 0,
      "outputs": [
        {
          "output_type": "stream",
          "text": [
            "Generating list of batches for the workers...\n"
          ],
          "name": "stdout"
        }
      ]
    },
    {
      "cell_type": "code",
      "metadata": {
        "colab_type": "code",
        "id": "wyE8mZl9LA1j",
        "outputId": "6ef8285c-0ce1-499f-8227-b8734688628f",
        "colab": {
          "base_uri": "https://localhost:8080/",
          "height": 867
        }
      },
      "source": [
        "start = time.time()\n",
        "all_losses, model_pointers = train_RNN(args.epochs, args.print_every, args.plot_every, args.federate_after_n_batches, list_federated_train_loader)"
      ],
      "execution_count": 0,
      "outputs": [
        {
          "output_type": "stream",
          "text": [
            "200 2% (5m 29s) 2.9391 Morcos / Dutch ✗ (Arabic)\n",
            "400 4% (11m 28s) 2.7829 Rosa / German ✗ (Italian)\n",
            "600 6% (17m 10s) 2.7406 Gilmour / German ✗ (English)\n",
            "800 8% (23m 1s) 2.6871 Khoo / Chinese ✓\n",
            "1000 10% (28m 14s) 2.6200 Koizumi / Japanese ✓\n",
            "1200 12% (33m 16s) 2.6039 Deng / Chinese ✓\n",
            "1400 14% (38m 39s) 1.8089 Bautista / Scottish ✗ (Spanish)\n",
            "1600 16% (43m 55s) 1.9574 Nunes / Spanish ✗ (Portuguese)\n",
            "1800 18% (48m 53s) 2.5664 Burt / Dutch ✗ (English)\n",
            "2000 20% (53m 59s) 2.9513 Youn / English ✗ (Korean)\n",
            "2200 22% (59m 34s) 2.7775 Mcnally / Greek ✗ (English)\n",
            "2400 24% (65m 15s) 1.4349 Alves / Portuguese ✓\n",
            "2600 26% (70m 56s) 2.5769 Martin / English ✗ (French)\n",
            "2800 28% (76m 26s) 1.9034 Peeters / Dutch ✓\n",
            "3000 30% (82m 3s) 2.4535 Lew / German ✗ (Chinese)\n",
            "3200 32% (87m 38s) 2.1623 Tosi / Italian ✓\n",
            "3400 34% (92m 41s) 1.8401 Gomes / Scottish ✗ (Portuguese)\n",
            "3600 36% (97m 42s) 2.6528 Pfenning / Dutch ✗ (German)\n",
            "3800 38% (103m 52s) 2.0320 Paulis / Greek ✗ (Dutch)\n",
            "4000 40% (108m 38s) 1.1929 Chau / Vietnamese ✓\n",
            "4200 42% (113m 19s) 2.1259 Yeoman / German ✗ (English)\n",
            "4400 44% (117m 58s) 2.6850 Attrill / German ✗ (English)\n",
            "4600 46% (122m 46s) 1.3127 Onoprienko / Russian ✓\n",
            "4800 48% (127m 35s) 3.1633 Adamou / Japanese ✗ (Greek)\n",
            "5000 50% (132m 13s) 1.5418 Lefebvre / French ✓\n",
            "5200 52% (136m 41s) 3.1002 Czajka / Japanese ✗ (Polish)\n",
            "5400 54% (141m 57s) 2.5674 O'Halloran / Greek ✗ (Irish)\n",
            "5600 56% (146m 45s) 3.0844 Townsley / Italian ✗ (English)\n",
            "5800 57% (151m 30s) 1.1878 Song / Chinese ✗ (Korean)\n",
            "6000 60% (156m 12s) 3.1841 Lama / Korean ✗ (Italian)\n",
            "6200 62% (160m 57s) 2.4656 Simon / Arabic ✗ (French)\n",
            "6400 64% (165m 35s) 1.8678 Alberghini / Italian ✓\n",
            "6600 66% (170m 22s) 2.4334 Gerges / Dutch ✗ (Arabic)\n",
            "6800 68% (175m 5s) 0.4312 Phi / Vietnamese ✓\n",
            "7000 70% (179m 47s) 2.0810 Ruadhain / Dutch ✗ (Irish)\n",
            "7200 72% (184m 41s) 1.8331 Tailler / French ✓\n",
            "7400 74% (189m 31s) 2.3329 Bartonova / Italian ✗ (Czech)\n",
            "7600 76% (194m 16s) 0.6225 Batchelis / Russian ✓\n",
            "7800 78% (199m 9s) 1.9825 Niadh / Arabic ✗ (Irish)\n",
            "8000 80% (204m 11s) 2.7903 Kett / Korean ✗ (English)\n",
            "8200 82% (209m 11s) 1.6786 Raneri / Italian ✓\n",
            "8400 84% (213m 45s) 1.6833 Portner / German ✓\n",
            "8600 86% (218m 29s) 3.4946 Jmaev / Vietnamese ✗ (Russian)\n",
            "8800 88% (223m 10s) 0.5598 Thuy / Vietnamese ✓\n",
            "9000 90% (227m 53s) 3.3617 Rana / Korean ✗ (Italian)\n",
            "9200 92% (232m 52s) 1.4573 Segawa / Japanese ✓\n",
            "9400 94% (239m 53s) 2.1548 Emmanuel / German ✗ (English)\n",
            "9600 96% (244m 56s) 0.9693 Malinowski / Polish ✓\n",
            "9800 98% (250m 8s) 4.0732 Gwang  / Arabic ✗ (Korean)\n",
            "10000 100% (255m 17s) 1.6932 Wiesner / Czech ✓\n"
          ],
          "name": "stdout"
        }
      ]
    },
    {
      "cell_type": "code",
      "metadata": {
        "colab_type": "code",
        "id": "iDjZMoPHLEsc",
        "outputId": "85f252c9-cbfa-4efc-d256-22752d83c572",
        "colab": {
          "base_uri": "https://localhost:8080/",
          "height": 300
        }
      },
      "source": [
        "#Let's plot the loss we got during the training procedure\n",
        "plt.figure()\n",
        "plt.ylabel(\"Loss\")\n",
        "plt.xlabel('Epochs (100s)')\n",
        "plt.plot(all_losses)"
      ],
      "execution_count": 0,
      "outputs": [
        {
          "output_type": "execute_result",
          "data": {
            "text/plain": [
              "[<matplotlib.lines.Line2D at 0x2b184a39748>]"
            ]
          },
          "metadata": {
            "tags": []
          },
          "execution_count": 23
        },
        {
          "output_type": "display_data",
          "data": {
            "image/png": "[encoded data removed]",
            "text/plain": [
              "<Figure size 432x288 with 1 Axes>"
            ]
          },
          "metadata": {
            "tags": [],
            "needs_background": "light"
          }
        }
      ]
    },
    {
      "cell_type": "code",
      "metadata": {
        "colab_type": "code",
        "id": "K0cchH6PLG-N",
        "colab": {}
      },
      "source": [
        "## 5. Step - Predict!"
      ],
      "execution_count": 0,
      "outputs": []
    },
    {
      "cell_type": "code",
      "metadata": {
        "colab_type": "code",
        "id": "qlAAnsgWLKAV",
        "outputId": "19ff19f7-0528-43d2-fe98-97b9208d3b8d",
        "colab": {
          "base_uri": "https://localhost:8080/",
          "height": 68
        }
      },
      "source": [
        "input_line = \"Daniele\"\n",
        "model_remote = model_pointers[\"alice\"]\n",
        "line_tensor = lineToTensor(input_line)\n",
        "line_tensor\n",
        "line_remote = line_tensor.send(alice)\n",
        "hidden = model_remote.initHidden()\n",
        "hidden_remote = hidden.copy().send(alice)\n",
        "hidden_remote\n",
        "with torch.no_grad():\n",
        "    for i in range(line_remote.shape[0]):\n",
        "        output, hidden_remote = model_remote(line_remote[i], hidden_remote)\n",
        "        \n",
        "n_predictions = 3\n",
        "topv, topi = output.copy().get().topk(n_predictions, 1, True)\n",
        "topv\n",
        "\n",
        "predictions = []\n",
        "\n",
        "\n",
        "for i in range(n_predictions):\n",
        "            value = topv[0][i].item()\n",
        "            category_index = topi[0][i].item()\n",
        "            print('(%.2f) %s' % (value, all_categories[category_index]))\n",
        "            predictions.append([value, all_categories[category_index]])"
      ],
      "execution_count": 0,
      "outputs": [
        {
          "output_type": "stream",
          "text": [
            "(-1.42) Irish\n",
            "(-1.65) French\n",
            "(-2.00) Czech\n"
          ],
          "name": "stdout"
        }
      ]
    },
    {
      "cell_type": "code",
      "metadata": {
        "colab_type": "code",
        "id": "MZnx7U_bLNUB",
        "colab": {}
      },
      "source": [
        "def predict(model, input_line, worker, n_predictions=3):\n",
        "    model = model.copy().get()\n",
        "    print('\\n> %s' % input_line)\n",
        "    model_remote = model.send(worker)\n",
        "    line_tensor = lineToTensor(input_line)\n",
        "    line_remote = line_tensor.copy().send(worker)\n",
        "    #line_tensor = lineToTensor(input_line)\n",
        "    #output = evaluate(model, line_remote)\n",
        "    # Get top N categories\n",
        "    hidden = model_remote.initHidden()\n",
        "    hidden_remote = hidden.copy().send(worker)\n",
        "        \n",
        "    with torch.no_grad():\n",
        "        for i in range(line_remote.shape[0]):\n",
        "            output, hidden_remote = model_remote(line_remote[i], hidden_remote)\n",
        "        \n",
        "    topv, topi = output.copy().get().topk(n_predictions, 1, True)\n",
        "    predictions = []\n",
        "\n",
        "    for i in range(n_predictions):\n",
        "        value = topv[0][i].item()\n",
        "        category_index = topi[0][i].item()\n",
        "        print('(%.2f) %s' % (value, all_categories[category_index]))\n",
        "        predictions.append([value, all_categories[category_index]])"
      ],
      "execution_count": 0,
      "outputs": []
    },
    {
      "cell_type": "code",
      "metadata": {
        "colab_type": "code",
        "id": "3JBZLFbrLP3M",
        "outputId": "01a48078-4d0a-42a6-c995-b60ade59a429",
        "colab": {
          "base_uri": "https://localhost:8080/",
          "height": 102
        }
      },
      "source": [
        "predict(model_pointers[\"alice\"], \"Qing\", alice)"
      ],
      "execution_count": 0,
      "outputs": [
        {
          "output_type": "stream",
          "text": [
            "\n",
            "> Qing\n",
            "(-1.10) Chinese\n",
            "(-1.45) Korean\n",
            "(-2.72) German\n"
          ],
          "name": "stdout"
        }
      ]
    },
    {
      "cell_type": "code",
      "metadata": {
        "colab_type": "code",
        "id": "yhugkGySLRpe",
        "colab": {}
      },
      "source": [
        ""
      ],
      "execution_count": 0,
      "outputs": []
    }
  ]
}