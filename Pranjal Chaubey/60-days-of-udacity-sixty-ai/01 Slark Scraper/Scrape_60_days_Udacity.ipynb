{
 "cells": [
  {
   "cell_type": "markdown",
   "metadata": {},
   "source": [
    "# Scraping Slark 60 Days of Udacity Data\n",
    "\n",
    "\n",
    "<br/><br/> Import the show stopper library, BeautifulSoup, along with others. "
   ]
  },
  {
   "cell_type": "code",
   "execution_count": 1,
   "metadata": {},
   "outputs": [],
   "source": [
    "# Import  things worth importing\n",
    "\n",
    "# The Showstopper\n",
    "from bs4 import BeautifulSoup \n",
    "# The usual chaddi-buddies \n",
    "import numpy as np\n",
    "import pandas as pd\n",
    "# Writers \n",
    "import csv\n",
    "\n",
    "# Some debugging jing-bang \n",
    "_GLOBAL_DEBUG_ = False "
   ]
  },
  {
   "cell_type": "markdown",
   "metadata": {},
   "source": [
    " ### Reading the HTML Page  \n",
    "We open the html file for parsing. Notice the `_encoding='utf-8', errors='ignore'_` parameters passed along with the open() command. This will ensure that we don't run into any encoding related issues while parsing. "
   ]
  },
  {
   "cell_type": "code",
   "execution_count": 2,
   "metadata": {},
   "outputs": [],
   "source": [
    "# Open the HTML file for June and create a BeautifulSoup Object\n",
    "with open('./data/June_Corpus.html', encoding='utf-8', errors='ignore') as f:\n",
    "    contents = f.read()\n",
    "    page_content = BeautifulSoup(contents, 'lxml')\n"
   ]
  },
  {
   "cell_type": "code",
   "execution_count": 3,
   "metadata": {},
   "outputs": [
    {
     "name": "stdout",
     "output_type": "stream",
     "text": [
      "3\n",
      "<meta content=\"text/html; charset=utf-8\" http-equiv=\"Content-Type\"/>\n",
      "<title>\n",
      "\n",
      "#60daysofudacity (June 2019) - Secure &amp; Private AI Challenge Course (Public) - \n",
      "Slarck\n",
      "\n",
      "\n",
      "</title>\n",
      "\n",
      "\n",
      "#60daysofudacity (June 2019) - Secure & Private AI Challenge Course (Public) - \n",
      "Slarck\n",
      "\n",
      "\n",
      "\n"
     ]
    }
   ],
   "source": [
    "# Warming Up \n",
    "print(len(page_content))\n",
    "print(page_content.head.meta)\n",
    "print(page_content.head.title)\n",
    "print(page_content.head.title.get_text())\n"
   ]
  },
  {
   "cell_type": "markdown",
   "metadata": {},
   "source": [
    "### Finding the Tags \n",
    "The chat details are buried inside a labyrinth of HTML tags, with the last one being\n",
    "> `_div class = \"chat-wrapper chat-SL\"_`  \n",
    "\n",
    "<br/>Inside this parent _div_, there are two kinds of divs that hold information, and they are both at the same level. \n",
    "1. `_div class = \"chat-msg-chrome\"_` --> Contains data about Username and Timestamp\n",
    "2. `_div class = \"chat-msg\"_` --> Contains the message posted by the user \n",
    "\n",
    "<br/>We want to parse the data into a dictionary that would look like, \n",
    "> `raw_data_dict { 'timestamp': _TIME_, 'username': _Pranjal_, 'messages': _[ 'List', 'of', 'messages' ]_ }`\n",
    "\n",
    "<br/>Problem we face here is that if a user posted two or more messages (they broke their messages in smaller pieces) back to back, there can be two or more `_chat-msg_` divs. So we cannot simply index `_chat-msg-chrome_` and `_chat-msg_` and assume that they'll match. \n",
    "\n",
    "<br/>A simple parsing algorithm in this could look like, \n",
    "> Loop over children of `_div class = 'chat-wrapper chat-SL'`_\n",
    ">> extract Username and Timestamp from `_chat-msg-chrome_`\n",
    ">> Loop over `_chat-msg_` divs \n",
    ">>> extract chat message data <br/>\n",
    ">>> break the inner loop as soon as you hit another `_chat-wrapper chat-SL_` \n",
    "\n",
    "<br/>To test our algorithm, let's first try it out on a smaller subset of data that is manageable and easier to debug. "
   ]
  },
  {
   "cell_type": "code",
   "execution_count": 4,
   "metadata": {
    "scrolled": true
   },
   "outputs": [
    {
     "name": "stdout",
     "output_type": "stream",
     "text": [
      "<div class=\"chat-msg-chrome\">\n",
      " <div class=\"chat-msg-avatar\">\n",
      "  <img src=\"./June_Corpus_files/636018085989_befa8273275ecfbdb596_72.jpg\"/>\n",
      " </div>\n",
      " <div class=\"chat-msg-content\">\n",
      "  <div class=\"chat-msg-topline\">\n",
      "   <span class=\"chat-msg-auth\">\n",
      "    akshit\n",
      "   </span>\n",
      "   <span class=\"chat-msg-ts\" title=\"06/21/2019 4:58 p.m.\">\n",
      "    16:58\n",
      "   </span>\n",
      "  </div>\n",
      " </div>\n",
      "</div>\n",
      "\n",
      "<div class=\"chat-msg\">\n",
      " <div>\n",
      "  <strong>\n",
      "   @akshit\n",
      "  </strong>\n",
      "  has joined the channel\n",
      "  <br/>\n",
      " </div>\n",
      "</div>\n",
      "\n",
      "<div class=\"chat-msg\">\n",
      "</div>\n",
      "\n",
      "<div class=\"chat-msg-chrome\">\n",
      " <div class=\"chat-msg-avatar\">\n",
      "  <img src=\"./June_Corpus_files/0142ed5ea0e340d6fe0df3ba8331e1da.jpg\"/>\n",
      " </div>\n",
      " <div class=\"chat-msg-content\">\n",
      "  <div class=\"chat-msg-topline\">\n",
      "   <span class=\"chat-msg-auth\">\n",
      "    aleksandra.mozejko\n",
      "   </span>\n",
      "   <span class=\"chat-msg-ts\" title=\"06/21/2019 5:07 p.m.\">\n",
      "    17:07\n",
      "   </span>\n",
      "  </div>\n",
      " </div>\n",
      "</div>\n",
      "\n",
      "<div class=\"chat-msg\">\n",
      " <div>\n",
      "  <strong>\n",
      "   @aleksandra.mozejko\n",
      "  </strong>\n",
      "  has joined the channel\n",
      "  <br/>\n",
      " </div>\n",
      "</div>\n",
      "\n",
      "<div class=\"chat-msg-chrome\">\n",
      " <div class=\"chat-msg-avatar\">\n",
      "  <img src=\"./June_Corpus_files/650354705204_1f23210cc53acac51ca8_72.jpg\"/>\n",
      " </div>\n",
      " <div class=\"chat-msg-content\">\n",
      "  <div class=\"chat-msg-topline\">\n",
      "   <span class=\"chat-msg-auth\">\n",
      "    161210032\n",
      "   </span>\n",
      "   <span class=\"chat-msg-ts\" title=\"06/21/2019 5:09 p.m.\">\n",
      "    17:09\n",
      "   </span>\n",
      "  </div>\n",
      " </div>\n",
      "</div>\n",
      "\n",
      "<div class=\"chat-msg\">\n",
      " <div>\n",
      "  <strong>\n",
      "   @161210032\n",
      "  </strong>\n",
      "  has joined the channel\n",
      "  <br/>\n",
      " </div>\n",
      "</div>\n",
      "\n",
      "<div class=\"chat-msg\">\n",
      " <div>\n",
      "  <strong>\n",
      "   @161210032\n",
      "  </strong>\n",
      "  set the channel topic: Posting your daily report of your project\n",
      "  <br/>\n",
      " </div>\n",
      "</div>\n",
      "\n",
      "<div class=\"chat-msg\">\n",
      " <div class=\"chat-att\">\n",
      "  <blockquote style=\"border-left-color: #D0D0D0\">\n",
      "   <div>\n",
      "    <strong>\n",
      "     @akshit\n",
      "    </strong>\n",
      "    if you can make all the memebers admin for a channel we can directly post out git commits in that channel through slack bot , I suppose you will look into this as we have\n",
      "    <strong>\n",
      "     #60daysofudacity\n",
      "    </strong>\n",
      "    <br/>\n",
      "   </div>\n",
      "  </blockquote>\n",
      " </div>\n",
      "</div>\n",
      "\n",
      "<div class=\"chat-msg-chrome\">\n",
      " <div class=\"chat-msg-avatar\">\n",
      "  <img src=\"./June_Corpus_files/e0be7138a2fa0e2a69db8da786d03a0b.jpg\"/>\n",
      " </div>\n",
      " <div class=\"chat-msg-content\">\n",
      "  <div class=\"chat-msg-topline\">\n",
      "   <span class=\"chat-msg-auth\">\n",
      "    ziad.esam.ezat\n",
      "   </span>\n",
      "   <span class=\"chat-msg-ts\" title=\"06/21/2019 5:26 p.m.\">\n",
      "    17:26\n",
      "   </span>\n",
      "  </div>\n",
      " </div>\n",
      "</div>\n",
      "\n"
     ]
    }
   ],
   "source": [
    "# Let's do a find_all and limit the tags it finds\n",
    "# So that its easy to analyse the results \n",
    "for tag in page_content.find_all(class_=['chat-msg-chrome','chat-msg'], limit=10):\n",
    "    print(tag.prettify())"
   ]
  },
  {
   "cell_type": "markdown",
   "metadata": {},
   "source": [
    "### Extracting Text \n",
    "The above results are a big relief. It can be seen that passing the respective div tags as a list and then looping over the response results in data being parsed sequentially. Therefore, we can now have a simple _if_ condition that aligns the data to its respective key in the dictionary. \n",
    "\n",
    "<br/>Also, at this stage we will be keeping the structure of the dictionary very simple. \n",
    "> `super_raw_data_dict = { 'username': _Relevant Data_, 'chat-msg': _Relevant Data_ }`"
   ]
  },
  {
   "cell_type": "code",
   "execution_count": 5,
   "metadata": {},
   "outputs": [
    {
     "name": "stdout",
     "output_type": "stream",
     "text": [
      "AUTH MSG akshit\n",
      "06/21/2019 4:58 p.m.\n",
      "CHAT MSG \n",
      "@akshit has joined the channel\n",
      "\n",
      "CHAT MSG \n",
      "\n",
      "AUTH MSG aleksandra.mozejko\n",
      "06/21/2019 5:07 p.m.\n",
      "CHAT MSG \n",
      "@aleksandra.mozejko has joined the channel\n",
      "\n",
      "AUTH MSG 161210032\n",
      "06/21/2019 5:09 p.m.\n",
      "CHAT MSG \n",
      "@161210032 has joined the channel\n",
      "\n",
      "CHAT MSG \n",
      "@161210032 set the channel topic: Posting your daily report of your project\n",
      "\n",
      "CHAT MSG \n",
      "@akshit if you can make all the memebers admin for a channel we can directly post out git commits in that channel through slack bot , I suppose you will look into this as we have #60daysofudacity\n",
      "\n",
      "AUTH MSG ziad.esam.ezat\n",
      "06/21/2019 5:26 p.m.\n"
     ]
    }
   ],
   "source": [
    "# Let's loop over the previous data again and see if we can parse it into \n",
    "# Different categories\n",
    "\n",
    "for tag in page_content.find_all(class_=['chat-msg-chrome','chat-msg'], limit=10):\n",
    "    # Let's extract the username from the chat-msg-chrome div\n",
    "    if tag['class'] == ['chat-msg-chrome']:\n",
    "        print('AUTH MSG ' + tag.find(class_ = 'chat-msg-auth').get_text())\n",
    "        # Now try extracting the timestamp as well \n",
    "        print(tag.find(class_ = 'chat-msg-ts')['title'])\n",
    "    elif tag['class'] == ['chat-msg']:\n",
    "        # Let's see if we can get the chat message as well \n",
    "        print('CHAT MSG ' + tag.get_text())\n",
    "        "
   ]
  },
  {
   "cell_type": "markdown",
   "metadata": {},
   "source": [
    "## Chat Extraction Routine \n",
    "As we can see above, I have managed to extract all the necessary information from the pages. There's something more, I don't think the dictionary oriented data structure I had imagined in the start makes sense now since the data extracted doesn't require any further HTML level preprocessing. \n",
    "\n",
    "<br/>Right now I need a data structure where I can add the sequentially and then later on perform preprocessing and munging to extract insights. \n",
    "\n",
    "<br/>You guessed it, we are going to use the Pandas Dataframe for this job. \n",
    "<br/><br/>DF Structure, \n",
    "<br/>`index   timestamp   username   message`"
   ]
  },
  {
   "cell_type": "code",
   "execution_count": 6,
   "metadata": {},
   "outputs": [],
   "source": [
    "# Start populating the DF with raw text corpus\n",
    "# If we get back to back 'chat-msg' tags, we are simply \n",
    "# Going to .join them in a single string before adding to the DF\n",
    "# We initially populate DF for only 100 matches to test the output\n",
    "\n",
    "def extract_chat(page_content, limit=None):\n",
    "    \"\"\"\n",
    "    Extract chat message details from the HTML document.\n",
    "\n",
    "    Parameters\n",
    "    ----------\n",
    "    page_content : BeautifulSoup Object  \n",
    "        The HTML page object parsed by Beautiful Soup\n",
    "    limit : integer\n",
    "        number of matches to find in the HTML page \n",
    "        object. Default = None, find all the matches. \n",
    "        \n",
    "    Returns\n",
    "    -------\n",
    "    df_list : list of dict\n",
    "         A list of dictionaries containing the extracted \n",
    "         information about chat messages. \n",
    "         [{\n",
    "             'timestamp': timestamp string,\n",
    "             'username': username string,\n",
    "             'message': messages\n",
    "        }]\n",
    "    \"\"\"\n",
    "    \n",
    "    # We will store the data of the PREVIOUS message in these variables \n",
    "    # and push it to the df_list[] only when we find the start of a \n",
    "    # new message, i.e. 'chat-msg-chrome' tag. This ensures that we are \n",
    "    # collecting all the 'chat-msg'es in the prev_messages list before \n",
    "    # adding it to the df_list[].\n",
    "    prev_timestamp = None\n",
    "    prev_username = None\n",
    "    prev_messages = []\n",
    "\n",
    "    # Local debug flag\n",
    "    _LOCAL_DEBUG_ = False\n",
    "\n",
    "    # We will create a list-of-dictionaries to generate our dataframe. \n",
    "    # It is by far the FASTEST method in the world to create a DF :P \n",
    "    df_list = []\n",
    "    for tag in page_content.find_all(class_=['chat-msg-chrome','chat-msg'], limit=limit):\n",
    "        if tag['class'] == ['chat-msg-chrome']:\n",
    "        # We are at the start of a new message, therefore\n",
    "        # Add the contents of the previous message to df_list\n",
    "            temp_dict = {\n",
    "                'timestamp': prev_timestamp,\n",
    "                'username': prev_username,\n",
    "                'message': ' '.join(prev_messages)}\n",
    "            df_list.append(temp_dict)\n",
    "\n",
    "            # Check what we parsin' \n",
    "            if _GLOBAL_DEBUG_ and _LOCAL_DEBUG_: \n",
    "                print(prev_username)\n",
    "                print(prev_timestamp)\n",
    "                print(' '.join(prev_messages))\n",
    "                print(len(' '.join(prev_messages)))\n",
    "                print()\n",
    "\n",
    "            # Add the new information to username and timestamp variables \n",
    "            prev_username = tag.find(class_ = 'chat-msg-auth').get_text()\n",
    "            prev_timestamp = tag.find(class_ = 'chat-msg-ts')['title']\n",
    "            # Clear up the old messages from the buffer\n",
    "            prev_messages = []\n",
    "        elif tag['class'] == ['chat-msg']:\n",
    "            # Came across a new chat message\n",
    "            # append it to prev_messages[] \n",
    "            prev_messages.append(tag.get_text())\n",
    "    \n",
    "    return df_list"
   ]
  },
  {
   "cell_type": "code",
   "execution_count": 7,
   "metadata": {},
   "outputs": [],
   "source": [
    "# Extract the chat information from the HTML page object \n",
    "df_list = extract_chat(page_content, limit=100)\n",
    "\n",
    "# Check What we got in the df_list \n",
    "if _GLOBAL_DEBUG_:\n",
    "    print(df_list[:5])"
   ]
  },
  {
   "cell_type": "code",
   "execution_count": 8,
   "metadata": {
    "scrolled": true
   },
   "outputs": [
    {
     "data": {
      "text/html": [
       "<div>\n",
       "<style scoped>\n",
       "    .dataframe tbody tr th:only-of-type {\n",
       "        vertical-align: middle;\n",
       "    }\n",
       "\n",
       "    .dataframe tbody tr th {\n",
       "        vertical-align: top;\n",
       "    }\n",
       "\n",
       "    .dataframe thead th {\n",
       "        text-align: right;\n",
       "    }\n",
       "</style>\n",
       "<table border=\"1\" class=\"dataframe\">\n",
       "  <thead>\n",
       "    <tr style=\"text-align: right;\">\n",
       "      <th></th>\n",
       "      <th>message</th>\n",
       "      <th>timestamp</th>\n",
       "      <th>username</th>\n",
       "    </tr>\n",
       "  </thead>\n",
       "  <tbody>\n",
       "    <tr>\n",
       "      <th>0</th>\n",
       "      <td></td>\n",
       "      <td>None</td>\n",
       "      <td>None</td>\n",
       "    </tr>\n",
       "    <tr>\n",
       "      <th>1</th>\n",
       "      <td>\\n@akshit has joined the channel\\n \\n</td>\n",
       "      <td>06/21/2019 4:58 p.m.</td>\n",
       "      <td>akshit</td>\n",
       "    </tr>\n",
       "    <tr>\n",
       "      <th>2</th>\n",
       "      <td>\\n@aleksandra.mozejko has joined the channel\\n</td>\n",
       "      <td>06/21/2019 5:07 p.m.</td>\n",
       "      <td>aleksandra.mozejko</td>\n",
       "    </tr>\n",
       "    <tr>\n",
       "      <th>3</th>\n",
       "      <td>\\n@161210032 has joined the channel\\n \\n@16121...</td>\n",
       "      <td>06/21/2019 5:09 p.m.</td>\n",
       "      <td>161210032</td>\n",
       "    </tr>\n",
       "    <tr>\n",
       "      <th>4</th>\n",
       "      <td>\\n@ziad.esam.ezat has joined the channel\\n \\n@...</td>\n",
       "      <td>06/21/2019 5:26 p.m.</td>\n",
       "      <td>ziad.esam.ezat</td>\n",
       "    </tr>\n",
       "  </tbody>\n",
       "</table>\n",
       "</div>"
      ],
      "text/plain": [
       "                                             message             timestamp  \\\n",
       "0                                                                     None   \n",
       "1              \\n@akshit has joined the channel\\n \\n  06/21/2019 4:58 p.m.   \n",
       "2     \\n@aleksandra.mozejko has joined the channel\\n  06/21/2019 5:07 p.m.   \n",
       "3  \\n@161210032 has joined the channel\\n \\n@16121...  06/21/2019 5:09 p.m.   \n",
       "4  \\n@ziad.esam.ezat has joined the channel\\n \\n@...  06/21/2019 5:26 p.m.   \n",
       "\n",
       "             username  \n",
       "0                None  \n",
       "1              akshit  \n",
       "2  aleksandra.mozejko  \n",
       "3           161210032  \n",
       "4      ziad.esam.ezat  "
      ]
     },
     "execution_count": 8,
     "metadata": {},
     "output_type": "execute_result"
    }
   ],
   "source": [
    "# Create the god damn dataframe and go to sleep! \n",
    "raw_text_df = pd.DataFrame(df_list)\n",
    "raw_text_df.head()\n",
    "# PS - Its 4:15AM in the morning! "
   ]
  },
  {
   "cell_type": "markdown",
   "metadata": {},
   "source": [
    "## Mild Preprocessing\n",
    "Few more things we need to do before we can parse the whole dataset to a CSV file. \n",
    "1. Remove the first row. Due to our chat scraping method, first row in the DF is going to be full of Nulls. \n",
    "2. Add a fresh column called `'m_length'` which will hold the length of each message. We will use this column later on when figuring out the optimum length of our training messages for the generative text AI. \n",
    "3. Convert the timestamps in the timestamp column to real timestamps. \n"
   ]
  },
  {
   "cell_type": "code",
   "execution_count": 9,
   "metadata": {},
   "outputs": [],
   "source": [
    "# Remove the first row \n",
    "raw_text_df.drop([0], axis=0, inplace=True)\n",
    "# Check! \n",
    "if _GLOBAL_DEBUG_:\n",
    "    print(raw_text_df.head())"
   ]
  },
  {
   "cell_type": "code",
   "execution_count": 10,
   "metadata": {
    "scrolled": true
   },
   "outputs": [
    {
     "data": {
      "text/html": [
       "<div>\n",
       "<style scoped>\n",
       "    .dataframe tbody tr th:only-of-type {\n",
       "        vertical-align: middle;\n",
       "    }\n",
       "\n",
       "    .dataframe tbody tr th {\n",
       "        vertical-align: top;\n",
       "    }\n",
       "\n",
       "    .dataframe thead th {\n",
       "        text-align: right;\n",
       "    }\n",
       "</style>\n",
       "<table border=\"1\" class=\"dataframe\">\n",
       "  <thead>\n",
       "    <tr style=\"text-align: right;\">\n",
       "      <th></th>\n",
       "      <th>message</th>\n",
       "      <th>timestamp</th>\n",
       "      <th>username</th>\n",
       "      <th>m_length</th>\n",
       "    </tr>\n",
       "  </thead>\n",
       "  <tbody>\n",
       "    <tr>\n",
       "      <th>1</th>\n",
       "      <td>\\n@akshit has joined the channel\\n \\n</td>\n",
       "      <td>06/21/2019 4:58 p.m.</td>\n",
       "      <td>akshit</td>\n",
       "      <td>34</td>\n",
       "    </tr>\n",
       "    <tr>\n",
       "      <th>2</th>\n",
       "      <td>\\n@aleksandra.mozejko has joined the channel\\n</td>\n",
       "      <td>06/21/2019 5:07 p.m.</td>\n",
       "      <td>aleksandra.mozejko</td>\n",
       "      <td>44</td>\n",
       "    </tr>\n",
       "    <tr>\n",
       "      <th>3</th>\n",
       "      <td>\\n@161210032 has joined the channel\\n \\n@16121...</td>\n",
       "      <td>06/21/2019 5:09 p.m.</td>\n",
       "      <td>161210032</td>\n",
       "      <td>311</td>\n",
       "    </tr>\n",
       "    <tr>\n",
       "      <th>4</th>\n",
       "      <td>\\n@ziad.esam.ezat has joined the channel\\n \\n@...</td>\n",
       "      <td>06/21/2019 5:26 p.m.</td>\n",
       "      <td>ziad.esam.ezat</td>\n",
       "      <td>234</td>\n",
       "    </tr>\n",
       "    <tr>\n",
       "      <th>5</th>\n",
       "      <td>\\n@ziad.esam.ezat No , i didn't find a way . i...</td>\n",
       "      <td>06/21/2019 5:40 p.m.</td>\n",
       "      <td>161210032</td>\n",
       "      <td>122</td>\n",
       "    </tr>\n",
       "  </tbody>\n",
       "</table>\n",
       "</div>"
      ],
      "text/plain": [
       "                                             message             timestamp  \\\n",
       "1              \\n@akshit has joined the channel\\n \\n  06/21/2019 4:58 p.m.   \n",
       "2     \\n@aleksandra.mozejko has joined the channel\\n  06/21/2019 5:07 p.m.   \n",
       "3  \\n@161210032 has joined the channel\\n \\n@16121...  06/21/2019 5:09 p.m.   \n",
       "4  \\n@ziad.esam.ezat has joined the channel\\n \\n@...  06/21/2019 5:26 p.m.   \n",
       "5  \\n@ziad.esam.ezat No , i didn't find a way . i...  06/21/2019 5:40 p.m.   \n",
       "\n",
       "             username  m_length  \n",
       "1              akshit        34  \n",
       "2  aleksandra.mozejko        44  \n",
       "3           161210032       311  \n",
       "4      ziad.esam.ezat       234  \n",
       "5           161210032       122  "
      ]
     },
     "execution_count": 10,
     "metadata": {},
     "output_type": "execute_result"
    }
   ],
   "source": [
    "# Add the new column called m_length \n",
    "# Deploy Optimization EXTREME! \n",
    "raw_text_df['m_length'] = raw_text_df['message'].apply(lambda row: len(row))\n",
    "raw_text_df.head()"
   ]
  },
  {
   "cell_type": "code",
   "execution_count": 11,
   "metadata": {},
   "outputs": [
    {
     "name": "stdout",
     "output_type": "stream",
     "text": [
      "<class 'pandas.core.frame.DataFrame'>\n",
      "Int64Index: 45 entries, 1 to 45\n",
      "Data columns (total 4 columns):\n",
      "message      45 non-null object\n",
      "timestamp    45 non-null object\n",
      "username     45 non-null object\n",
      "m_length     45 non-null int64\n",
      "dtypes: int64(1), object(3)\n",
      "memory usage: 1.8+ KB\n",
      "None\n",
      "<class 'pandas.core.frame.DataFrame'>\n",
      "Int64Index: 45 entries, 1 to 45\n",
      "Data columns (total 5 columns):\n",
      "message      45 non-null object\n",
      "timestamp    45 non-null object\n",
      "username     45 non-null object\n",
      "m_length     45 non-null int64\n",
      "datetime     45 non-null datetime64[ns]\n",
      "dtypes: datetime64[ns](1), int64(1), object(3)\n",
      "memory usage: 2.1+ KB\n",
      "None\n",
      "                                             message             timestamp  \\\n",
      "1              \\n@akshit has joined the channel\\n \\n  06/21/2019 4:58 p.m.   \n",
      "2     \\n@aleksandra.mozejko has joined the channel\\n  06/21/2019 5:07 p.m.   \n",
      "3  \\n@161210032 has joined the channel\\n \\n@16121...  06/21/2019 5:09 p.m.   \n",
      "4  \\n@ziad.esam.ezat has joined the channel\\n \\n@...  06/21/2019 5:26 p.m.   \n",
      "5  \\n@ziad.esam.ezat No , i didn't find a way . i...  06/21/2019 5:40 p.m.   \n",
      "\n",
      "             username  m_length            datetime  \n",
      "1              akshit        34 2019-06-21 16:58:00  \n",
      "2  aleksandra.mozejko        44 2019-06-21 17:07:00  \n",
      "3           161210032       311 2019-06-21 17:09:00  \n",
      "4      ziad.esam.ezat       234 2019-06-21 17:26:00  \n",
      "5           161210032       122 2019-06-21 17:40:00  \n"
     ]
    }
   ],
   "source": [
    "# Time to fix the time column!!! \n",
    "print(raw_text_df.info())\n",
    "raw_text_df['datetime'] = raw_text_df['timestamp'].astype('datetime64[ns]') \n",
    "print(raw_text_df.info())\n",
    "print(raw_text_df.head())"
   ]
  },
  {
   "cell_type": "markdown",
   "metadata": {},
   "source": [
    "### Mild Preprocessing Routine\n",
    "Looks like we are all set, ready to roll and parse the whole document in a CSV. \n",
    "Before we do that, let's make a sub-routine of the above steps and call it `mild_preprocessing`. "
   ]
  },
  {
   "cell_type": "code",
   "execution_count": 12,
   "metadata": {},
   "outputs": [],
   "source": [
    "def mild_preprocessing(df): \n",
    "    \"\"\"\n",
    "    Employs a few preprocessing steps to the dataframe. \n",
    "    1. Removes the top row with Nulls\n",
    "    2. Adds a new column, m_length, that contains the length \n",
    "    of the 'message'\n",
    "    3. Converts the string timestamp to a recognized datetime \n",
    "    format in a new column called 'datetime'\n",
    "    \n",
    "    Parameters\n",
    "    ----------\n",
    "    df : Pandas DataFrame   \n",
    "        Unprocessed dataframe\n",
    "    \n",
    "    Returns\n",
    "    -------\n",
    "    df : Post processed dataframe \n",
    "    \"\"\"    \n",
    "    \n",
    "    # Local Debug Flag\n",
    "    _LOCAL_DEBUG_ = False \n",
    "    \n",
    "    # 1\n",
    "    # Remove the first row \n",
    "    df.drop([0], axis=0, inplace=True)\n",
    "    # 2\n",
    "    # Add the new column called m_length \n",
    "    df['m_length'] = df['message'].apply(lambda row: len(row))\n",
    "    # 3 \n",
    "    # Fix the date column \n",
    "    # I have figured that, for some really weird and RETARDED reason, the \n",
    "    # timestamps are 'corrupted'!!!\n",
    "    # Like a dumbass, the html page stamps 'midnight' or 'noon' for comments \n",
    "    # that arrive on 12:00AM or 12:00PM. This absolutely screws up the \n",
    "    # .astype('datetime64[ns]') casting and throws up an error. \n",
    "    # Therefore, need to add an additional step here to cleanse the \n",
    "    # stupid timestamping system at Slark/Slack \n",
    "    n_slice = len('noon')\n",
    "    m_slice = len('midnight')\n",
    "    df.loc[:, 'timestamp'] = df['timestamp'].apply(lambda x: x[:-n_slice] + '12:00 p.m.' if x.endswith('noon') else x)    \n",
    "    df.loc[:, 'timestamp'] = df['timestamp'].apply(lambda x: x[:-m_slice] + '12:00 a.m.' if x.endswith('midnight') else x)    \n",
    "    df['datetime'] = df['timestamp'].astype('datetime64[ns]')    \n",
    "    \n",
    "    # Trust, but always verify! \n",
    "    if _GLOBAL_DEBUG_ and _LOCAL_DEBUG_:\n",
    "        print(df.info())\n",
    "        print(df.head(20))\n",
    "    \n",
    "    return df"
   ]
  },
  {
   "cell_type": "markdown",
   "metadata": {},
   "source": [
    "# Extracting the chat data from Slark 60 Days \n",
    "\n",
    "<br/><br/>I summon the Old Gods and The New, _EXTRACT THE DATA!_ "
   ]
  },
  {
   "cell_type": "code",
   "execution_count": 13,
   "metadata": {},
   "outputs": [
    {
     "name": "stdout",
     "output_type": "stream",
     "text": [
      "<class 'pandas.core.frame.DataFrame'>\n",
      "Int64Index: 3406 entries, 1 to 3406\n",
      "Data columns (total 5 columns):\n",
      "message      3406 non-null object\n",
      "timestamp    3406 non-null object\n",
      "username     3406 non-null object\n",
      "m_length     3406 non-null int64\n",
      "datetime     3406 non-null datetime64[ns]\n",
      "dtypes: datetime64[ns](1), int64(1), object(3)\n",
      "memory usage: 159.7+ KB\n"
     ]
    },
    {
     "data": {
      "text/html": [
       "<div>\n",
       "<style scoped>\n",
       "    .dataframe tbody tr th:only-of-type {\n",
       "        vertical-align: middle;\n",
       "    }\n",
       "\n",
       "    .dataframe tbody tr th {\n",
       "        vertical-align: top;\n",
       "    }\n",
       "\n",
       "    .dataframe thead th {\n",
       "        text-align: right;\n",
       "    }\n",
       "</style>\n",
       "<table border=\"1\" class=\"dataframe\">\n",
       "  <thead>\n",
       "    <tr style=\"text-align: right;\">\n",
       "      <th></th>\n",
       "      <th>message</th>\n",
       "      <th>timestamp</th>\n",
       "      <th>username</th>\n",
       "      <th>m_length</th>\n",
       "      <th>datetime</th>\n",
       "    </tr>\n",
       "  </thead>\n",
       "  <tbody>\n",
       "    <tr>\n",
       "      <th>1</th>\n",
       "      <td>\\n@akshit has joined the channel\\n \\n</td>\n",
       "      <td>06/21/2019 4:58 p.m.</td>\n",
       "      <td>akshit</td>\n",
       "      <td>34</td>\n",
       "      <td>2019-06-21 16:58:00</td>\n",
       "    </tr>\n",
       "    <tr>\n",
       "      <th>2</th>\n",
       "      <td>\\n@aleksandra.mozejko has joined the channel\\n</td>\n",
       "      <td>06/21/2019 5:07 p.m.</td>\n",
       "      <td>aleksandra.mozejko</td>\n",
       "      <td>44</td>\n",
       "      <td>2019-06-21 17:07:00</td>\n",
       "    </tr>\n",
       "    <tr>\n",
       "      <th>3</th>\n",
       "      <td>\\n@161210032 has joined the channel\\n \\n@16121...</td>\n",
       "      <td>06/21/2019 5:09 p.m.</td>\n",
       "      <td>161210032</td>\n",
       "      <td>311</td>\n",
       "      <td>2019-06-21 17:09:00</td>\n",
       "    </tr>\n",
       "    <tr>\n",
       "      <th>4</th>\n",
       "      <td>\\n@ziad.esam.ezat has joined the channel\\n \\n@...</td>\n",
       "      <td>06/21/2019 5:26 p.m.</td>\n",
       "      <td>ziad.esam.ezat</td>\n",
       "      <td>234</td>\n",
       "      <td>2019-06-21 17:26:00</td>\n",
       "    </tr>\n",
       "    <tr>\n",
       "      <th>5</th>\n",
       "      <td>\\n@ziad.esam.ezat No , i didn't find a way . i...</td>\n",
       "      <td>06/21/2019 5:40 p.m.</td>\n",
       "      <td>161210032</td>\n",
       "      <td>122</td>\n",
       "      <td>2019-06-21 17:40:00</td>\n",
       "    </tr>\n",
       "  </tbody>\n",
       "</table>\n",
       "</div>"
      ],
      "text/plain": [
       "                                             message             timestamp  \\\n",
       "1              \\n@akshit has joined the channel\\n \\n  06/21/2019 4:58 p.m.   \n",
       "2     \\n@aleksandra.mozejko has joined the channel\\n  06/21/2019 5:07 p.m.   \n",
       "3  \\n@161210032 has joined the channel\\n \\n@16121...  06/21/2019 5:09 p.m.   \n",
       "4  \\n@ziad.esam.ezat has joined the channel\\n \\n@...  06/21/2019 5:26 p.m.   \n",
       "5  \\n@ziad.esam.ezat No , i didn't find a way . i...  06/21/2019 5:40 p.m.   \n",
       "\n",
       "             username  m_length            datetime  \n",
       "1              akshit        34 2019-06-21 16:58:00  \n",
       "2  aleksandra.mozejko        44 2019-06-21 17:07:00  \n",
       "3           161210032       311 2019-06-21 17:09:00  \n",
       "4      ziad.esam.ezat       234 2019-06-21 17:26:00  \n",
       "5           161210032       122 2019-06-21 17:40:00  "
      ]
     },
     "execution_count": 13,
     "metadata": {},
     "output_type": "execute_result"
    }
   ],
   "source": [
    "# 1\n",
    "# Get the raw list of dictionaries \n",
    "df_raw_list = extract_chat(page_content)\n",
    "# 2 \n",
    "# Create the DataFrame \n",
    "raw_chat_df = pd.DataFrame(df_raw_list)\n",
    "# 3 \n",
    "# Mild preprocessing \n",
    "chat_df = mild_preprocessing(raw_chat_df)\n",
    "\n",
    "chat_df.info()\n",
    "chat_df.head(5)"
   ]
  },
  {
   "cell_type": "code",
   "execution_count": 14,
   "metadata": {},
   "outputs": [],
   "source": [
    "# 4 \n",
    "# Save the data to a CSV file \n",
    "chat_df.to_csv('./data/60_days_of_udacity_june.csv')"
   ]
  },
  {
   "cell_type": "markdown",
   "metadata": {},
   "source": [
    "<br/><br/>Repeat the steps for July chats as well, till 13th July. "
   ]
  },
  {
   "cell_type": "code",
   "execution_count": 15,
   "metadata": {},
   "outputs": [],
   "source": [
    "# Lets repeat the steps for extracting July Chats\n",
    "with open('./data/July_13_Corpus.html', encoding='utf-8', errors='ignore') as f:\n",
    "    contents = f.read()\n",
    "    page_content = BeautifulSoup(contents, 'lxml')"
   ]
  },
  {
   "cell_type": "code",
   "execution_count": 16,
   "metadata": {},
   "outputs": [
    {
     "name": "stdout",
     "output_type": "stream",
     "text": [
      "<class 'pandas.core.frame.DataFrame'>\n",
      "Int64Index: 9612 entries, 1 to 9612\n",
      "Data columns (total 5 columns):\n",
      "message      9612 non-null object\n",
      "timestamp    9612 non-null object\n",
      "username     9612 non-null object\n",
      "m_length     9612 non-null int64\n",
      "datetime     9612 non-null datetime64[ns]\n",
      "dtypes: datetime64[ns](1), int64(1), object(3)\n",
      "memory usage: 450.6+ KB\n"
     ]
    },
    {
     "data": {
      "text/html": [
       "<div>\n",
       "<style scoped>\n",
       "    .dataframe tbody tr th:only-of-type {\n",
       "        vertical-align: middle;\n",
       "    }\n",
       "\n",
       "    .dataframe tbody tr th {\n",
       "        vertical-align: top;\n",
       "    }\n",
       "\n",
       "    .dataframe thead th {\n",
       "        text-align: right;\n",
       "    }\n",
       "</style>\n",
       "<table border=\"1\" class=\"dataframe\">\n",
       "  <thead>\n",
       "    <tr style=\"text-align: right;\">\n",
       "      <th></th>\n",
       "      <th>message</th>\n",
       "      <th>timestamp</th>\n",
       "      <th>username</th>\n",
       "      <th>m_length</th>\n",
       "      <th>datetime</th>\n",
       "    </tr>\n",
       "  </thead>\n",
       "  <tbody>\n",
       "    <tr>\n",
       "      <th>1</th>\n",
       "      <td>\\n*Day 4*\\n- Finished *Lesson 5: Introducing L...</td>\n",
       "      <td>07/01/2019 5:30 a.m.</td>\n",
       "      <td>suzan.hamza</td>\n",
       "      <td>378</td>\n",
       "      <td>2019-07-01 05:30:00</td>\n",
       "    </tr>\n",
       "    <tr>\n",
       "      <th>2</th>\n",
       "      <td>\\nExcellent work :torch_heart_big:\\n</td>\n",
       "      <td>07/01/2019 5:32 a.m.</td>\n",
       "      <td>ahmedthabit99</td>\n",
       "      <td>34</td>\n",
       "      <td>2019-07-01 05:32:00</td>\n",
       "    </tr>\n",
       "    <tr>\n",
       "      <th>3</th>\n",
       "      <td>\\n@ahmedthabit99 thank you, and good luck with...</td>\n",
       "      <td>07/01/2019 5:37 a.m.</td>\n",
       "      <td>almaari.eman</td>\n",
       "      <td>67</td>\n",
       "      <td>2019-07-01 05:37:00</td>\n",
       "    </tr>\n",
       "    <tr>\n",
       "      <th>4</th>\n",
       "      <td>\\n#60daysofudacity\\nDay 4:\\n- Studied the #rea...</td>\n",
       "      <td>07/01/2019 5:45 a.m.</td>\n",
       "      <td>mudeledimeji</td>\n",
       "      <td>865</td>\n",
       "      <td>2019-07-01 05:45:00</td>\n",
       "    </tr>\n",
       "    <tr>\n",
       "      <th>5</th>\n",
       "      <td>\\nWe are waiting your article Zik \\n</td>\n",
       "      <td>07/01/2019 5:49 a.m.</td>\n",
       "      <td>george.christ1987</td>\n",
       "      <td>34</td>\n",
       "      <td>2019-07-01 05:49:00</td>\n",
       "    </tr>\n",
       "  </tbody>\n",
       "</table>\n",
       "</div>"
      ],
      "text/plain": [
       "                                             message             timestamp  \\\n",
       "1  \\n*Day 4*\\n- Finished *Lesson 5: Introducing L...  07/01/2019 5:30 a.m.   \n",
       "2               \\nExcellent work :torch_heart_big:\\n  07/01/2019 5:32 a.m.   \n",
       "3  \\n@ahmedthabit99 thank you, and good luck with...  07/01/2019 5:37 a.m.   \n",
       "4  \\n#60daysofudacity\\nDay 4:\\n- Studied the #rea...  07/01/2019 5:45 a.m.   \n",
       "5               \\nWe are waiting your article Zik \\n  07/01/2019 5:49 a.m.   \n",
       "\n",
       "            username  m_length            datetime  \n",
       "1        suzan.hamza       378 2019-07-01 05:30:00  \n",
       "2      ahmedthabit99        34 2019-07-01 05:32:00  \n",
       "3       almaari.eman        67 2019-07-01 05:37:00  \n",
       "4       mudeledimeji       865 2019-07-01 05:45:00  \n",
       "5  george.christ1987        34 2019-07-01 05:49:00  "
      ]
     },
     "execution_count": 16,
     "metadata": {},
     "output_type": "execute_result"
    }
   ],
   "source": [
    "# 1\n",
    "# Get the raw list of dictionaries \n",
    "df_raw_list = extract_chat(page_content)\n",
    "# 2 \n",
    "# Create the DataFrame \n",
    "raw_chat_df = pd.DataFrame(df_raw_list)\n",
    "# 3 \n",
    "# Mild preprocessing \n",
    "chat_df_jul = mild_preprocessing(raw_chat_df)\n",
    "\n",
    "chat_df_jul.info()\n",
    "chat_df_jul.head()"
   ]
  },
  {
   "cell_type": "code",
   "execution_count": 17,
   "metadata": {},
   "outputs": [],
   "source": [
    "# 4 \n",
    "# Save the data to a CSV file \n",
    "chat_df.to_csv('./data/60_days_of_udacity_july_13.csv')"
   ]
  },
  {
   "cell_type": "markdown",
   "metadata": {},
   "source": [
    "## Extract participants' usernames \n",
    "This is going to be my last shenanigan, I promise! \n",
    "<br/>Let's extract the usernames of all those who are participating in the 60 Days Challenge. "
   ]
  },
  {
   "cell_type": "code",
   "execution_count": 18,
   "metadata": {},
   "outputs": [],
   "source": [
    "lst_username_jun = chat_df['username'].unique()\n",
    "lst_username_jul = chat_df_jul['username'].unique()"
   ]
  },
  {
   "cell_type": "code",
   "execution_count": 19,
   "metadata": {},
   "outputs": [],
   "source": [
    "# Add an ampersand '@' at the start of each username \n",
    "username_jun = ['@' + user for user in lst_username_jun]\n",
    "username_jul = ['@' + user for user in lst_username_jul]"
   ]
  },
  {
   "cell_type": "code",
   "execution_count": 20,
   "metadata": {},
   "outputs": [],
   "source": [
    "# Trust, but always verify\n",
    "if _GLOBAL_DEBUG_:\n",
    "    print(type(username_jun))\n",
    "    print(len(username_jun))\n",
    "    print(username_jun[:25])    \n",
    "    print(type(username_jul))\n",
    "    print(len(username_jul))\n",
    "    print(username_jul[:25])"
   ]
  },
  {
   "cell_type": "code",
   "execution_count": 21,
   "metadata": {},
   "outputs": [
    {
     "name": "stdout",
     "output_type": "stream",
     "text": [
      "Total Number of Members in #60DaysOfUdacity till 13th July: 1705\n"
     ]
    }
   ],
   "source": [
    "# Combine both the lists and extract the unique usernames \n",
    "june_set = set(username_jun)\n",
    "july_set = set(username_jul)\n",
    "username_set = june_set.union(july_set)\n",
    "\n",
    "print(f'Total Number of Members in #60DaysOfUdacity till 13th July: {len(username_set)}')"
   ]
  },
  {
   "cell_type": "code",
   "execution_count": 22,
   "metadata": {},
   "outputs": [
    {
     "data": {
      "text/plain": [
       "'File Write Complete!'"
      ]
     },
     "metadata": {},
     "output_type": "display_data"
    }
   ],
   "source": [
    "# Save all the usernames \n",
    "with open('./data/usernames.csv', 'w', newline='') as myfile:\n",
    "    wr = csv.writer(myfile, quoting=csv.QUOTE_ALL)\n",
    "    for user in username_set:\n",
    "        wr.writerow([user])\n",
    "\n",
    "display('File Write Complete!')        "
   ]
  },
  {
   "cell_type": "code",
   "execution_count": null,
   "metadata": {},
   "outputs": [],
   "source": []
  }
 ],
 "metadata": {
  "hide_input": false,
  "kernelspec": {
   "display_name": "my_NLP",
   "language": "python",
   "name": "my_nlp"
  },
  "language_info": {
   "codemirror_mode": {
    "name": "ipython",
    "version": 3
   },
   "file_extension": ".py",
   "mimetype": "text/x-python",
   "name": "python",
   "nbconvert_exporter": "python",
   "pygments_lexer": "ipython3",
   "version": "3.6.7"
  },
  "toc": {
   "base_numbering": 1,
   "nav_menu": {},
   "number_sections": true,
   "sideBar": true,
   "skip_h1_title": false,
   "title_cell": "Table of Contents",
   "title_sidebar": "Contents",
   "toc_cell": false,
   "toc_position": {
    "height": "calc(100% - 180px)",
    "left": "10px",
    "top": "150px",
    "width": "182.125px"
   },
   "toc_section_display": true,
   "toc_window_display": false
  },
  "varInspector": {
   "cols": {
    "lenName": 16,
    "lenType": 16,
    "lenVar": 40
   },
   "kernels_config": {
    "python": {
     "delete_cmd_postfix": "",
     "delete_cmd_prefix": "del ",
     "library": "var_list.py",
     "varRefreshCmd": "print(var_dic_list())"
    },
    "r": {
     "delete_cmd_postfix": ") ",
     "delete_cmd_prefix": "rm(",
     "library": "var_list.r",
     "varRefreshCmd": "cat(var_dic_list()) "
    }
   },
   "position": {
    "height": "175.895px",
    "left": "813.798px",
    "right": "20px",
    "top": "86.7756px",
    "width": "419.304px"
   },
   "types_to_exclude": [
    "module",
    "function",
    "builtin_function_or_method",
    "instance",
    "_Feature"
   ],
   "window_display": false
  }
 },
 "nbformat": 4,
 "nbformat_minor": 2
}
