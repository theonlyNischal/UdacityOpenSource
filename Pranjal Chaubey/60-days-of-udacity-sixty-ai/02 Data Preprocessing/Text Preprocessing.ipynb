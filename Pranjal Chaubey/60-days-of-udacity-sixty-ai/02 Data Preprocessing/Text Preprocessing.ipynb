{
 "cells": [
  {
   "cell_type": "markdown",
   "metadata": {},
   "source": [
    "# Text Preprocessing \n",
    "\n",
    "<br/><br/>In this notebook we are going to perform a few basic text preprocessing steps on the extracted data. "
   ]
  },
  {
   "cell_type": "code",
   "execution_count": 53,
   "metadata": {},
   "outputs": [],
   "source": [
    "# Import some import-worthy things \n",
    "import numpy as np\n",
    "import pandas as pd \n",
    "import re\n",
    "# For some Plottery on the fly\n",
    "import matplotlib.pyplot as plt\n",
    "from matplotlib.ticker import StrMethodFormatter\n",
    "\n",
    "# Some stuff the help me with the debugging \n",
    "_GLOBAL_DEBUG_ = False\n",
    "# Note to self - I really need to start using Python Logger!!! "
   ]
  },
  {
   "cell_type": "markdown",
   "metadata": {},
   "source": [
    "### Load the data in a Pandas DataFrame \n",
    "\n",
    "<br/>Initially we will work with just 1,000 entries and scale up later. "
   ]
  },
  {
   "cell_type": "code",
   "execution_count": 54,
   "metadata": {},
   "outputs": [
    {
     "data": {
      "text/html": [
       "<div>\n",
       "<style scoped>\n",
       "    .dataframe tbody tr th:only-of-type {\n",
       "        vertical-align: middle;\n",
       "    }\n",
       "\n",
       "    .dataframe tbody tr th {\n",
       "        vertical-align: top;\n",
       "    }\n",
       "\n",
       "    .dataframe thead th {\n",
       "        text-align: right;\n",
       "    }\n",
       "</style>\n",
       "<table border=\"1\" class=\"dataframe\">\n",
       "  <thead>\n",
       "    <tr style=\"text-align: right;\">\n",
       "      <th></th>\n",
       "      <th>message</th>\n",
       "    </tr>\n",
       "  </thead>\n",
       "  <tbody>\n",
       "    <tr>\n",
       "      <th>0</th>\n",
       "      <td>\\n@akshit has joined the channel\\n \\n</td>\n",
       "    </tr>\n",
       "    <tr>\n",
       "      <th>1</th>\n",
       "      <td>\\n@aleksandra.mozejko has joined the channel\\n</td>\n",
       "    </tr>\n",
       "    <tr>\n",
       "      <th>2</th>\n",
       "      <td>\\n@161210032 has joined the channel\\n \\n@16121...</td>\n",
       "    </tr>\n",
       "    <tr>\n",
       "      <th>3</th>\n",
       "      <td>\\n@ziad.esam.ezat has joined the channel\\n \\n@...</td>\n",
       "    </tr>\n",
       "    <tr>\n",
       "      <th>4</th>\n",
       "      <td>\\n@ziad.esam.ezat No , i didn't find a way . i...</td>\n",
       "    </tr>\n",
       "    <tr>\n",
       "      <th>5</th>\n",
       "      <td>\\n@rekha.chandrasekaran2 has joined the channel\\n</td>\n",
       "    </tr>\n",
       "    <tr>\n",
       "      <th>6</th>\n",
       "      <td>\\n@aleksandra.mozejko has joined the channel\\n</td>\n",
       "    </tr>\n",
       "    <tr>\n",
       "      <th>7</th>\n",
       "      <td>\\n@abhinav.raj116 has joined the channel\\n \\nT...</td>\n",
       "    </tr>\n",
       "    <tr>\n",
       "      <th>8</th>\n",
       "      <td>\\n@rupeshpurum has joined the channel\\n</td>\n",
       "    </tr>\n",
       "    <tr>\n",
       "      <th>9</th>\n",
       "      <td>\\n@amatseshe has joined the channel\\n \\nI'm ex...</td>\n",
       "    </tr>\n",
       "  </tbody>\n",
       "</table>\n",
       "</div>"
      ],
      "text/plain": [
       "                                             message\n",
       "0              \\n@akshit has joined the channel\\n \\n\n",
       "1     \\n@aleksandra.mozejko has joined the channel\\n\n",
       "2  \\n@161210032 has joined the channel\\n \\n@16121...\n",
       "3  \\n@ziad.esam.ezat has joined the channel\\n \\n@...\n",
       "4  \\n@ziad.esam.ezat No , i didn't find a way . i...\n",
       "5  \\n@rekha.chandrasekaran2 has joined the channel\\n\n",
       "6     \\n@aleksandra.mozejko has joined the channel\\n\n",
       "7  \\n@abhinav.raj116 has joined the channel\\n \\nT...\n",
       "8            \\n@rupeshpurum has joined the channel\\n\n",
       "9  \\n@amatseshe has joined the channel\\n \\nI'm ex..."
      ]
     },
     "execution_count": 54,
     "metadata": {},
     "output_type": "execute_result"
    }
   ],
   "source": [
    "# Let's load a small subset of the June data. \n",
    "# We will work on it, test it, verify it\n",
    "# Once confident, we will apply all the steps to the whole dataset.\n",
    "\n",
    "\"\"\"\n",
    "header : int, list of int, default ‘infer’\n",
    "    Row number(s) to use as the column names, and the start of the data. \n",
    "index_col : int, str, sequence of int / str, or False, default None\n",
    "    Column(s) to use as the row labels of the DataFrame, either given as string name or column index.\n",
    "usecols : list-like or callable, optional\n",
    "    Return a subset of the columns. If list-like, all elements must either be positional \n",
    "    (i.e. integer indices into the document columns) or strings that correspond to column names \n",
    "    provided either by the user in names or inferred from the document header row(s).    \n",
    "prefix : str, optional\n",
    "    Prefix to add to column numbers when no header, e.g. ‘X’ for X0, X1, …\n",
    "nrows : int, optional\n",
    "    Number of rows of file to read. Useful for reading pieces of large files.    \n",
    "\"\"\"\n",
    "raw_text_df = pd.read_csv('./data/60_days_of_udacity_june.csv', \n",
    "                          header=0, usecols=['message'], nrows=1000)\n",
    "\n",
    "# This little bit of pandas hackery will ensure that we get to see all the columns\n",
    "# and rows, whenever a dataframe is printed \n",
    "pd.set_option('display.max_columns', None)\n",
    "pd.set_option('display.max_rows', None)\n",
    "\n",
    "if _GLOBAL_DEBUG_:\n",
    "    print(raw_text_df.shape)\n",
    "\n",
    "raw_text_df.head(10)"
   ]
  },
  {
   "cell_type": "markdown",
   "metadata": {},
   "source": [
    "### Preprocess Text\n",
    "<br/>We are going to preprocess text now. Following preprocessing steps are going to get applied, \n",
    "<br/>\n",
    "1. Lowercase all text messages \n",
    "2. Replace URLs with a space \n",
    "3. Replace usernames with a space \n",
    "4. Replace all special characters with a space "
   ]
  },
  {
   "cell_type": "code",
   "execution_count": 55,
   "metadata": {
    "scrolled": false
   },
   "outputs": [
    {
     "data": {
      "text/html": [
       "<div>\n",
       "<style scoped>\n",
       "    .dataframe tbody tr th:only-of-type {\n",
       "        vertical-align: middle;\n",
       "    }\n",
       "\n",
       "    .dataframe tbody tr th {\n",
       "        vertical-align: top;\n",
       "    }\n",
       "\n",
       "    .dataframe thead th {\n",
       "        text-align: right;\n",
       "    }\n",
       "</style>\n",
       "<table border=\"1\" class=\"dataframe\">\n",
       "  <thead>\n",
       "    <tr style=\"text-align: right;\">\n",
       "      <th></th>\n",
       "      <th>message</th>\n",
       "    </tr>\n",
       "  </thead>\n",
       "  <tbody>\n",
       "    <tr>\n",
       "      <th>0</th>\n",
       "      <td>\\n@akshit has joined the channel\\n \\n</td>\n",
       "    </tr>\n",
       "    <tr>\n",
       "      <th>1</th>\n",
       "      <td>\\n@aleksandra.mozejko has joined the channel\\n</td>\n",
       "    </tr>\n",
       "    <tr>\n",
       "      <th>2</th>\n",
       "      <td>\\n@161210032 has joined the channel\\n \\n@16121...</td>\n",
       "    </tr>\n",
       "    <tr>\n",
       "      <th>3</th>\n",
       "      <td>\\n@ziad.esam.ezat has joined the channel\\n \\n@...</td>\n",
       "    </tr>\n",
       "    <tr>\n",
       "      <th>4</th>\n",
       "      <td>\\n@ziad.esam.ezat no , i didn't find a way . i...</td>\n",
       "    </tr>\n",
       "  </tbody>\n",
       "</table>\n",
       "</div>"
      ],
      "text/plain": [
       "                                             message\n",
       "0              \\n@akshit has joined the channel\\n \\n\n",
       "1     \\n@aleksandra.mozejko has joined the channel\\n\n",
       "2  \\n@161210032 has joined the channel\\n \\n@16121...\n",
       "3  \\n@ziad.esam.ezat has joined the channel\\n \\n@...\n",
       "4  \\n@ziad.esam.ezat no , i didn't find a way . i..."
      ]
     },
     "execution_count": 55,
     "metadata": {},
     "output_type": "execute_result"
    }
   ],
   "source": [
    "# 1\n",
    "# Lowercase all message strings \n",
    "raw_text_df['message'] = raw_text_df['message'].str.lower()\n",
    "raw_text_df.head()"
   ]
  },
  {
   "cell_type": "code",
   "execution_count": 56,
   "metadata": {},
   "outputs": [
    {
     "name": "stdout",
     "output_type": "stream",
     "text": [
      "Messages containing links = 76\n",
      "Messages containing links after removal = 0\n"
     ]
    },
    {
     "name": "stderr",
     "output_type": "stream",
     "text": [
      "C:\\Anaconda3\\envs\\my_NLP\\lib\\site-packages\\ipykernel_launcher.py:13: UserWarning: This pattern has match groups. To actually get the groups, use str.extract.\n",
      "  del sys.path[0]\n",
      "C:\\Anaconda3\\envs\\my_NLP\\lib\\site-packages\\ipykernel_launcher.py:20: UserWarning: This pattern has match groups. To actually get the groups, use str.extract.\n"
     ]
    }
   ],
   "source": [
    "# 2 \n",
    "# Replace URLs with a space \" \"\n",
    "# This nasty regex string covers ALL the edge cases for a URL \n",
    "re_string = r'(https?:\\/\\/(?:www\\.|(?!www))[a-zA-Z0-9][a-zA-Z0-9-]+[a-zA-Z0-9]\\.[^\\s]{2,}|www\\.[a-zA-Z0-9][a-zA-Z0-9-]+[a-zA-Z0-9]\\.[^\\s]{2,}|https?:\\/\\/(?:www\\.|(?!www))[a-zA-Z0-9]+\\.[^\\s]{2,}|www\\.[a-zA-Z0-9]+\\.[^\\s]{2,})'\n",
    "\n",
    "# Before we go around removing links from the data, \n",
    "# we need to have a way to VERIFY if our regex removal \n",
    "# system as worked or not. \n",
    "# VERIFICATION is a very important aspect of data preproccessing. \n",
    "\n",
    "# A simple method would be find the messages containing links using the same regex string \n",
    "# After removal, we should not find anything using the same string. \n",
    "print(f'Messages containing links = {sum(raw_text_df[\"message\"].str.contains(re_string, regex=True).astype(int))}')\n",
    "\n",
    "# Let's remove the links \n",
    "raw_text_df['message'] = raw_text_df['message'].replace(to_replace=re_string, value=' ', regex=True)\n",
    "\n",
    "# Let's try again and see if we can find any messages containing links to verify \n",
    "# A value of 0 should indicate that we have been successful! \n",
    "print(f'Messages containing links after removal = {sum(raw_text_df[\"message\"].str.contains(re_string, regex=True).astype(int))}')\n"
   ]
  },
  {
   "cell_type": "code",
   "execution_count": 57,
   "metadata": {
    "code_folding": []
   },
   "outputs": [
    {
     "data": {
      "text/plain": [
       "0                      \\n  has joined the channel\\n \\n\n",
       "1                         \\n  has joined the channel\\n\n",
       "2    \\n  has joined the channel\\n \\n  set the chann...\n",
       "3    \\n  has joined the channel\\n \\n  isn't there a...\n",
       "4    \\n  no , i didn't find a way . if   can help i...\n",
       "5                         \\n  has joined the channel\\n\n",
       "6                         \\n  has joined the channel\\n\n",
       "7    \\n  has joined the channel\\n \\nthis is my firs...\n",
       "8                         \\n  has joined the channel\\n\n",
       "9    \\n  has joined the channel\\n \\ni'm excited for...\n",
       "Name: message, dtype: object"
      ]
     },
     "execution_count": 57,
     "metadata": {},
     "output_type": "execute_result"
    }
   ],
   "source": [
    "# 3\n",
    "# Usernames don't really add any semantic meaning for the machine \n",
    "# Therefore, replace all usernames with a space \n",
    "raw_text_df['message'] = raw_text_df['message'].replace(to_replace=r'@(\\S)*', value=' ', regex=True)\n",
    "\n",
    "raw_text_df['message'].head(10)"
   ]
  },
  {
   "cell_type": "code",
   "execution_count": 59,
   "metadata": {},
   "outputs": [
    {
     "data": {
      "text/plain": [
       "0                              has joined the channel \n",
       "1                              has joined the channel \n",
       "2     has joined the channel set the channel topic ...\n",
       "3     has joined the channel isn t there a way we c...\n",
       "4     no i didn t find a way if can help in finding...\n",
       "Name: message, dtype: object"
      ]
     },
     "execution_count": 59,
     "metadata": {},
     "output_type": "execute_result"
    }
   ],
   "source": [
    "# 4\n",
    "# Remove all the special characters except for letters and numbers with a space\n",
    "raw_text_df['message'] = raw_text_df['message'].replace(to_replace=r'[^0-9a-z]+', value=' ', regex=True)\n",
    "\n",
    "raw_text_df['message'].head()"
   ]
  },
  {
   "cell_type": "markdown",
   "metadata": {},
   "source": [
    "### Text Preprocessing Routine \n",
    "<br/>Looks like we did a good job up there. Time to put everything together into a \n",
    "_one-routine-to-process-them-all_. "
   ]
  },
  {
   "cell_type": "code",
   "execution_count": 60,
   "metadata": {
    "code_folding": []
   },
   "outputs": [],
   "source": [
    "def text_preprocess(df, column='message'):\n",
    "    \"\"\"\n",
    "    ==============================================================================\n",
    "    EDIT: After training the GPT-2 on the text data a number of times I have \n",
    "        figured that removing special characters, usernames, and punctuation \n",
    "        is taking the flavor out of the generated text. GPT-2 is smart enough \n",
    "        to know where to use what, so I don't need to filter these out. \n",
    "        I only have to remove the URLs and newline '\\n' character. \\n is causing\n",
    "        havoc when writing the DF to a CSV file. \n",
    "        \n",
    "        Also, we need to remove the stupid 'mojibakes'. \n",
    "    ==============================================================================\n",
    "    \n",
    "    Text preprocessing routine. Performs the following \n",
    "    steps on the data,\n",
    "    1. Lowercase all text messages\n",
    "    2. Replace URLs with a space\n",
    "    3. Replace usernames with a space\n",
    "    4. Replace all special characters with a space    \n",
    "    \n",
    "    Parameters\n",
    "    ----------\n",
    "    df : Pandas DataFrame   \n",
    "        Unprocessed dataframe\n",
    "    \n",
    "    column : string \n",
    "        Column name that is going to be processed\n",
    "   \n",
    "    Returns\n",
    "    -------\n",
    "    df : Post processed dataframe \n",
    "    \"\"\"\n",
    "    # Debug Flag\n",
    "    _LOCAL_DEBUG_ = True\n",
    "    \n",
    "    # 1\n",
    "    # Lowercase all message strings \n",
    "    df[column] = df[column].astype(str).str.lower()\n",
    "    # 2 \n",
    "    # Replace URLs with a space \" \"\n",
    "    re_string = r'(https?:\\/\\/(?:www\\.|(?!www))[a-zA-Z0-9][a-zA-Z0-9-]+[a-zA-Z0-9]\\.[^\\s]{2,}|www\\.[a-zA-Z0-9][a-zA-Z0-9-]+[a-zA-Z0-9]\\.[^\\s]{2,}|https?:\\/\\/(?:www\\.|(?!www))[a-zA-Z0-9]+\\.[^\\s]{2,}|www\\.[a-zA-Z0-9]+\\.[^\\s]{2,})'\n",
    "    df[column] = df[column].replace(to_replace=re_string, value=' ', regex=True)\n",
    "    # 3\n",
    "    # Replace all usernames with a space \n",
    "    # df[column] = df[column].replace(to_replace=r'@(\\S)*', value=' ', regex=True)\n",
    "    # 4\n",
    "    # Remove all the special characters except for letters and numbers, with a space\n",
    "    # df[column] = df[column].replace(to_replace=r'[^0-9a-z:@]+', value=' ', regex=True)\n",
    "    \n",
    "    # Only need to remove the newline \\n character.  \n",
    "    df[column] = df[column].replace(to_replace=r'\\n', value=' ', regex=True)\n",
    "    # Remove mojibakes with corret replacement (I could have used ftfy here, but I didn't)\n",
    "    df[column] = df[column].replace(to_replace='â€¦', value='…', regex=True)\n",
    "    df[column] = df[column].replace(to_replace='â€“', value='–', regex=True)\n",
    "    df[column] = df[column].replace(to_replace='â€™', value='’', regex=True)\n",
    "    df[column] = df[column].replace(to_replace='â€œ', value='“', regex=True)\n",
    "   \n",
    "    if _GLOBAL_DEBUG_ and _LOCAL_DEBUG_:\n",
    "        print(df[column].head(25))\n",
    "        print(df[column][1000:1020])\n",
    "  \n",
    "    return df"
   ]
  },
  {
   "cell_type": "markdown",
   "metadata": {},
   "source": [
    "Let's do a quick test run of our new and shiny text_preprocess() routine. "
   ]
  },
  {
   "cell_type": "code",
   "execution_count": 61,
   "metadata": {},
   "outputs": [
    {
     "data": {
      "text/html": [
       "<div>\n",
       "<style scoped>\n",
       "    .dataframe tbody tr th:only-of-type {\n",
       "        vertical-align: middle;\n",
       "    }\n",
       "\n",
       "    .dataframe tbody tr th {\n",
       "        vertical-align: top;\n",
       "    }\n",
       "\n",
       "    .dataframe thead th {\n",
       "        text-align: right;\n",
       "    }\n",
       "</style>\n",
       "<table border=\"1\" class=\"dataframe\">\n",
       "  <thead>\n",
       "    <tr style=\"text-align: right;\">\n",
       "      <th></th>\n",
       "      <th>message</th>\n",
       "    </tr>\n",
       "  </thead>\n",
       "  <tbody>\n",
       "    <tr>\n",
       "      <th>0</th>\n",
       "      <td>has joined the channel</td>\n",
       "    </tr>\n",
       "    <tr>\n",
       "      <th>1</th>\n",
       "      <td>has joined the channel</td>\n",
       "    </tr>\n",
       "    <tr>\n",
       "      <th>2</th>\n",
       "      <td>has joined the channel set the channel topic ...</td>\n",
       "    </tr>\n",
       "    <tr>\n",
       "      <th>3</th>\n",
       "      <td>has joined the channel isn t there a way we c...</td>\n",
       "    </tr>\n",
       "    <tr>\n",
       "      <th>4</th>\n",
       "      <td>no i didn t find a way if can help in finding...</td>\n",
       "    </tr>\n",
       "  </tbody>\n",
       "</table>\n",
       "</div>"
      ],
      "text/plain": [
       "                                             message\n",
       "0                            has joined the channel \n",
       "1                            has joined the channel \n",
       "2   has joined the channel set the channel topic ...\n",
       "3   has joined the channel isn t there a way we c...\n",
       "4   no i didn t find a way if can help in finding..."
      ]
     },
     "execution_count": 61,
     "metadata": {},
     "output_type": "execute_result"
    }
   ],
   "source": [
    "filtered_df = text_preprocess(raw_text_df, 'message')\n",
    "\n",
    "filtered_df.head()"
   ]
  },
  {
   "cell_type": "markdown",
   "metadata": {},
   "source": [
    "# Preprocessing for GPT-2\n",
    "\n",
    "<br/>With our text_preprocess routine working fine. We are left with the following tasks, \n",
    "<br/>\n",
    "1. Load the full text corpus from both the files\n",
    "2. Preprocess the complete text corpus \n",
    "3. Combine the processed text corpus into a single file "
   ]
  },
  {
   "cell_type": "code",
   "execution_count": 62,
   "metadata": {},
   "outputs": [
    {
     "name": "stdout",
     "output_type": "stream",
     "text": [
      "(3406, 1)\n",
      "(9612, 1)\n",
      "Total Messages in the corpus = 13018\n"
     ]
    }
   ],
   "source": [
    "# 1\n",
    "# Load the data from both the files in two separate dataframes\n",
    "raw_text_df_1 = pd.read_csv('./data/60_days_of_udacity_june.csv', header=0, usecols=['message'])\n",
    "raw_text_df_2 = pd.read_csv('./data/60_days_of_udacity_july_13.csv', header=0, usecols=['message'])\n",
    "\n",
    "print(raw_text_df_1.shape)\n",
    "print(raw_text_df_2.shape)\n",
    "print(f'Total Messages in the corpus = {raw_text_df_1.shape[0]+raw_text_df_2.shape[0]}')"
   ]
  },
  {
   "cell_type": "code",
   "execution_count": 63,
   "metadata": {},
   "outputs": [
    {
     "name": "stdout",
     "output_type": "stream",
     "text": [
      "Done!\n"
     ]
    }
   ],
   "source": [
    "# 2\n",
    "# Preprocess both the dataframes separately \n",
    "filtered_df_1 = text_preprocess(raw_text_df_1, 'message')\n",
    "filtered_df_2 = text_preprocess(raw_text_df_2, 'message')\n",
    "\n",
    "print('Done!')"
   ]
  },
  {
   "cell_type": "code",
   "execution_count": 64,
   "metadata": {},
   "outputs": [
    {
     "name": "stdout",
     "output_type": "stream",
     "text": [
      "Total Messages in filtered_df_1 and filtered_df_2 = 13018\n",
      "Total Messages in the text_corpus_df = 13018\n",
      "Above numbers should be same. \n"
     ]
    }
   ],
   "source": [
    "# 3\n",
    "# Combine both the dataframes \n",
    "text_corpus_df = pd.concat([filtered_df_1, filtered_df_2], ignore_index=True)\n",
    "\n",
    "# Trust, but verify! \n",
    "print(f'Total Messages in filtered_df_1 and filtered_df_2 = {filtered_df_1.shape[0]+filtered_df_2.shape[0]}')\n",
    "print(f'Total Messages in the text_corpus_df = {text_corpus_df.shape[0]}')\n",
    "print('Above numbers should be same. ')"
   ]
  },
  {
   "cell_type": "code",
   "execution_count": 65,
   "metadata": {},
   "outputs": [
    {
     "name": "stdout",
     "output_type": "stream",
     "text": [
      "File Write Complete!\n"
     ]
    }
   ],
   "source": [
    "# Also, we save our processed data \n",
    "text_corpus_df.to_csv('./data/complete_text_corpus.csv')\n",
    "\n",
    "print('File Write Complete!')"
   ]
  },
  {
   "cell_type": "markdown",
   "metadata": {},
   "source": [
    "### Filtering out the Messages \n",
    "\n",
    "<br/>Our work is not done yet. We need to filter out sentences that are too short. \n"
   ]
  },
  {
   "cell_type": "code",
   "execution_count": 66,
   "metadata": {},
   "outputs": [],
   "source": [
    "# Calculate the length of each message \n",
    "text_corpus_df['m_length'] = text_corpus_df['message'].astype(str).apply(lambda row: len(row))\n",
    "\n",
    "if _GLOBAL_DEBUG_:\n",
    "    display(text_corpus_df[['message', 'm_length']].head())"
   ]
  },
  {
   "cell_type": "code",
   "execution_count": 67,
   "metadata": {},
   "outputs": [
    {
     "data": {
      "text/plain": [
       "count    13018.000000\n",
       "mean       218.881549\n",
       "std        526.743901\n",
       "min          1.000000\n",
       "20%         42.000000\n",
       "40%         80.000000\n",
       "50%        107.000000\n",
       "60%        143.000000\n",
       "80%        278.000000\n",
       "max      14991.000000\n",
       "Name: m_length, dtype: float64"
      ]
     },
     "execution_count": 67,
     "metadata": {},
     "output_type": "execute_result"
    }
   ],
   "source": [
    "# 'Describe' our m_length column \n",
    "# Divide the message lengths in 'Quintiles'\n",
    "text_corpus_df['m_length'].describe(percentiles=[0.2, 0.4, 0.6, 0.8])"
   ]
  },
  {
   "cell_type": "markdown",
   "metadata": {},
   "source": [
    "Above we can see the problem with our data. \n",
    "1. From a simple visual inspection and a little bit of common sense I can tell that 99% of the messages with length smaller than 100 are not related to daily updates. \n",
    "2. Messages with length equal to 24 are just bot messages announcing someone has joined the channel. \n",
    "\n",
    "<br/>In short, We DO NOT HAVE ENOUGH DATA! \n",
    "\n",
    "<br/>Nevertheless we will finish what we started. We will filter out all messages less than 75 characters long. If you look at the quintiles above, that should be roughly about half of all the messages that we have. _Sad but True_. "
   ]
  },
  {
   "cell_type": "code",
   "execution_count": 68,
   "metadata": {},
   "outputs": [
    {
     "data": {
      "text/plain": [
       "count     8084.000000\n",
       "mean       326.365661\n",
       "std        645.106253\n",
       "min         76.000000\n",
       "20%        108.000000\n",
       "40%        155.000000\n",
       "50%        189.000000\n",
       "60%        232.000000\n",
       "80%        385.000000\n",
       "max      14991.000000\n",
       "Name: m_length, dtype: float64"
      ]
     },
     "execution_count": 68,
     "metadata": {},
     "output_type": "execute_result"
    }
   ],
   "source": [
    "text_corpus_df = text_corpus_df[ (text_corpus_df.m_length > 75) ]\n",
    "\n",
    "text_corpus_df['m_length'].describe(percentiles=[0.2, 0.4, 0.6, 0.8])"
   ]
  },
  {
   "cell_type": "code",
   "execution_count": 69,
   "metadata": {},
   "outputs": [
    {
     "data": {
      "image/png": "[encoded data removed]",
      "text/plain": [
       "<Figure size 864x576 with 1 Axes>"
      ]
     },
     "metadata": {
      "needs_background": "light"
     },
     "output_type": "display_data"
    }
   ],
   "source": [
    "# Let's draw a histogram to visualize the distribution of our data  \n",
    "\n",
    "ax = text_corpus_df.hist(column='m_length', bins=10, grid=False, figsize=(12,8), color='#86bf91', zorder=2, rwidth=0.9)\n",
    "\n",
    "ax = ax[0]\n",
    "for x in ax:\n",
    "    # Despine\n",
    "    x.spines['right'].set_visible(False)\n",
    "    x.spines['top'].set_visible(False)\n",
    "    x.spines['left'].set_visible(False)\n",
    "    # Switch off ticks\n",
    "    x.tick_params(axis=\"both\", which=\"both\", bottom=\"off\", top=\"off\", labelbottom=\"on\", left=\"off\", right=\"off\", labelleft=\"on\")\n",
    "    # Draw horizontal axis lines\n",
    "    vals = x.get_yticks()\n",
    "    for tick in vals:\n",
    "        x.axhline(y=tick, linestyle='dashed', alpha=0.4, color='#eeeeee', zorder=1)\n",
    "    # Remove title\n",
    "    x.set_title(\"\")\n",
    "    # Set x-axis label\n",
    "    x.set_xlabel(\"Message Length\", labelpad=20, weight='bold', size=12)\n",
    "    # Set y-axis label\n",
    "    x.set_ylabel(\"No of Messages\", labelpad=20, weight='bold', size=12)\n",
    "    # Format y-axis label\n",
    "    x.yaxis.set_major_formatter(StrMethodFormatter('{x:,g}'))"
   ]
  },
  {
   "cell_type": "markdown",
   "metadata": {},
   "source": [
    "Some thoughts on the preprocessing results above, \n",
    "1. Out of the 13,000 odd messages, ~40% were either bot announcements or were too short to be useful. \n",
    "2. Almost 99% of the messages have a character length of less than 2000. \n",
    "3. We keep the outliers in our dataset since our data is pretty darn small anyway. "
   ]
  },
  {
   "cell_type": "code",
   "execution_count": 70,
   "metadata": {},
   "outputs": [
    {
     "data": {
      "text/html": [
       "<div>\n",
       "<style scoped>\n",
       "    .dataframe tbody tr th:only-of-type {\n",
       "        vertical-align: middle;\n",
       "    }\n",
       "\n",
       "    .dataframe tbody tr th {\n",
       "        vertical-align: top;\n",
       "    }\n",
       "\n",
       "    .dataframe thead th {\n",
       "        text-align: right;\n",
       "    }\n",
       "</style>\n",
       "<table border=\"1\" class=\"dataframe\">\n",
       "  <thead>\n",
       "    <tr style=\"text-align: right;\">\n",
       "      <th></th>\n",
       "      <th>message</th>\n",
       "      <th>m_length</th>\n",
       "    </tr>\n",
       "  </thead>\n",
       "  <tbody>\n",
       "    <tr>\n",
       "      <th>2</th>\n",
       "      <td>@161210032 has joined the channel   @16121003...</td>\n",
       "      <td>311</td>\n",
       "    </tr>\n",
       "    <tr>\n",
       "      <th>3</th>\n",
       "      <td>@ziad.esam.ezat has joined the channel   @161...</td>\n",
       "      <td>234</td>\n",
       "    </tr>\n",
       "    <tr>\n",
       "      <th>4</th>\n",
       "      <td>@ziad.esam.ezat no , i didn't find a way . if...</td>\n",
       "      <td>122</td>\n",
       "    </tr>\n",
       "    <tr>\n",
       "      <th>7</th>\n",
       "      <td>@abhinav.raj116 has joined the channel   this...</td>\n",
       "      <td>140</td>\n",
       "    </tr>\n",
       "    <tr>\n",
       "      <th>26</th>\n",
       "      <td>excited to be the part of this   can someone ...</td>\n",
       "      <td>127</td>\n",
       "    </tr>\n",
       "  </tbody>\n",
       "</table>\n",
       "</div>"
      ],
      "text/plain": [
       "                                              message  m_length\n",
       "2    @161210032 has joined the channel   @16121003...       311\n",
       "3    @ziad.esam.ezat has joined the channel   @161...       234\n",
       "4    @ziad.esam.ezat no , i didn't find a way . if...       122\n",
       "7    @abhinav.raj116 has joined the channel   this...       140\n",
       "26   excited to be the part of this   can someone ...       127"
      ]
     },
     "execution_count": 70,
     "metadata": {},
     "output_type": "execute_result"
    }
   ],
   "source": [
    "text_corpus_df.head()"
   ]
  },
  {
   "cell_type": "code",
   "execution_count": 72,
   "metadata": {},
   "outputs": [
    {
     "name": "stderr",
     "output_type": "stream",
     "text": [
      "C:\\Anaconda3\\envs\\my_NLP\\lib\\site-packages\\ipykernel_launcher.py:3: FutureWarning: The signature of `Series.to_csv` was aligned to that of `DataFrame.to_csv`, and argument 'header' will change its default value from False to True: please pass an explicit value to suppress this warning.\n",
      "  This is separate from the ipykernel package so we can avoid doing imports until\n"
     ]
    },
    {
     "name": "stdout",
     "output_type": "stream",
     "text": [
      "File Write Complete!\n"
     ]
    }
   ],
   "source": [
    "# To train the GPT-2 model, we need the CSV file containing only a single column. \n",
    "# In our case, we need to keep 'message' and ignore all the other columns, \n",
    "text_corpus_df['message'].to_csv('./data/final_text_corpus.csv', index=False)\n",
    "\n",
    "print('File Write Complete!')"
   ]
  },
  {
   "cell_type": "code",
   "execution_count": null,
   "metadata": {},
   "outputs": [],
   "source": []
  }
 ],
 "metadata": {
  "hide_input": false,
  "kernelspec": {
   "display_name": "my_NLP",
   "language": "python",
   "name": "my_nlp"
  },
  "language_info": {
   "codemirror_mode": {
    "name": "ipython",
    "version": 3
   },
   "file_extension": ".py",
   "mimetype": "text/x-python",
   "name": "python",
   "nbconvert_exporter": "python",
   "pygments_lexer": "ipython3",
   "version": "3.6.7"
  },
  "toc": {
   "base_numbering": 1,
   "nav_menu": {},
   "number_sections": true,
   "sideBar": true,
   "skip_h1_title": false,
   "title_cell": "Table of Contents",
   "title_sidebar": "Contents",
   "toc_cell": false,
   "toc_position": {
    "height": "calc(100% - 180px)",
    "left": "10px",
    "top": "150px",
    "width": "232.727px"
   },
   "toc_section_display": true,
   "toc_window_display": false
  },
  "varInspector": {
   "cols": {
    "lenName": 16,
    "lenType": 16,
    "lenVar": 40
   },
   "kernels_config": {
    "python": {
     "delete_cmd_postfix": "",
     "delete_cmd_prefix": "del ",
     "library": "var_list.py",
     "varRefreshCmd": "print(var_dic_list())"
    },
    "r": {
     "delete_cmd_postfix": ") ",
     "delete_cmd_prefix": "rm(",
     "library": "var_list.r",
     "varRefreshCmd": "cat(var_dic_list()) "
    }
   },
   "types_to_exclude": [
    "module",
    "function",
    "builtin_function_or_method",
    "instance",
    "_Feature"
   ],
   "window_display": false
  }
 },
 "nbformat": 4,
 "nbformat_minor": 2
}
