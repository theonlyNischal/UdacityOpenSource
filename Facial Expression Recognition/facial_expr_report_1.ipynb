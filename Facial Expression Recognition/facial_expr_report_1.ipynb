{
 "cells": [
  {
   "cell_type": "markdown",
   "metadata": {},
   "source": [
    "**Challenges in Representation Learning: Facial Expression Recognition Challenge** from *https://www.kaggle.com/c/challenges-in-representation-learning-facial-expression-recognition-challenge/data*"
   ]
  },
  {
   "cell_type": "markdown",
   "metadata": {},
   "source": [
    "# Data Exploration\n",
    "\n",
    "Some data exploration, looking at the structure of the files etc."
   ]
  },
  {
   "cell_type": "code",
   "execution_count": 2,
   "metadata": {
    "_cell_guid": "b1076dfc-b9ad-4769-8c92-a6c4dae69d19",
    "_uuid": "8f2839f25d086af736a60e9eeb907d3b93b6e0e5"
   },
   "outputs": [
    {
     "name": "stdout",
     "output_type": "stream",
     "text": [
      "/home/eileen/udacity/challenge2/FacialExpressions/fer2013/fer2013.bib\n",
      "/home/eileen/udacity/challenge2/FacialExpressions/fer2013/README\n",
      "/home/eileen/udacity/challenge2/FacialExpressions/fer2013/fer2013.csv\n"
     ]
    }
   ],
   "source": [
    "# loading packages\n",
    "import numpy as np \n",
    "import pandas as pd \n",
    "import os\n",
    "import torch as th\n",
    "\n",
    "import warnings\n",
    "warnings.simplefilter('ignore')\n",
    "\n",
    "indir = '/home/eileen/udacity/challenge2/FacialExpressions/fer2013'\n",
    "\n",
    "#listing data files\n",
    "for dirname, _, filenames in os.walk(indir):\n",
    "    for filename in filenames:\n",
    "        print(os.path.join(dirname, filename))\n"
   ]
  },
  {
   "cell_type": "code",
   "execution_count": 3,
   "metadata": {
    "_cell_guid": "79c7e3d0-c299-4dcb-8224-4455121ee9b0",
    "_uuid": "d629ff2d2480ee46fbb7e2d37f6b5fab8052498a"
   },
   "outputs": [
    {
     "name": "stdout",
     "output_type": "stream",
     "text": [
      "If you use this dataset in your research work, please cite\n",
      "\n",
      "\"Challenges in Representation Learning: A report on three machine learning\n",
      "contests.\" I Goodfellow, D Erhan, PL Carrier, A Courville, M Mirza, B\n",
      "Hamner, W Cukierski, Y Tang, DH Lee, Y Zhou, C Ramaiah, F Feng, R Li,\n",
      "X Wang, D Athanasakis, J Shawe-Taylor, M Milakov, J Park, R Ionescu,\n",
      "M Popescu, C Grozea, J Bergstra, J Xie, L Romaszko, B Xu, Z Chuang, and\n",
      "Y. Bengio. arXiv 2013.\n",
      "\n",
      "See fer2013.bib for a bibtex entry.\n",
      "\n"
     ]
    }
   ],
   "source": [
    "#looking at readme file\n",
    "with open(indir+'/README','r') as readme:\n",
    "    contents = readme.read()\n",
    "    print(contents)"
   ]
  },
  {
   "cell_type": "code",
   "execution_count": 4,
   "metadata": {},
   "outputs": [
    {
     "name": "stdout",
     "output_type": "stream",
     "text": [
      "emotion,pixels,Usage\n",
      "\n",
      "0,70 80 82 72 58 58 60 63 54 58 60 48 89 115 121 119 115 110 98 91 84 84 90 99 110 126 143 153 158 171 169 172 169 165 129 110 113 107 95 79 66 62 56 57 61 52 43 41 65 61 58 57 56 69 75 70 65 56 54 105 146 154 151 151 155 155 150 147 147 148 152 158 164 172 177 182 186 189 188 190 188 180 167 116 95 103 97 77 72 62 55 58 54 56 52 44 50 43 54 64 63 71 68 64 52 66 119 156 161 164 163 164 167 168 170 174 175 176 178 179 183 187 190 195 197 198 197 198 195 191 190 145 86 100 90 65 57 60 54 51 41 49 56 47 38 44 63 55 46 52 54 55 83 138 157 158 165 168 172 171 173 176 179 179 180 182 185 187 189 189 192 197 200 199 196 198 200 198 197 177 91 87 96 58 58 59 51 42 37 41 47 45 37 35 36 30 41 47 59 94 141 159 161 161 164 170 171 172 176 178 179 182 183 183 187 189 192 192 194 195 200 200 199 199 200 201 197 193 111 71 108 69 55 61 51 42 43 56 54 44 24 29 31 45 61 72 100 136 150 159 163 162 163 170 172 171 174 177 177 180 187 186 187 189 192 192 194 195 196 197 199 200 201 200 197 201 137 58 98 92 57 62 53 47 41 40 51 43 24 35 52 63 75 104 129 143 149 158 162 164 166 171 173 172 174 178 178 179 187 188 188 191 193 194 195 198 199 199 197 198 197 197 197 201 164 52 78 87 69 58 56 50 54 39 44 42 26 31 49 65 91 119 134 145 147 152 159 163 167 171 170 169 174 178 178 179 187 187 185 187 190 188 187 191 197 201 199 199 200 197 196 197 182 58 62 77 61 60 55 49 59 52 54 44 22 30 47 68 102 123 136 144 148 150 153 157 167 172 173 170 171 177 179 178 186 190 186 189 196 193 191 194 190 190 192 197 201 203 199 194 189 69 48 74 56 60 57 50 59 59 51 41 20 34 47 79 111 132 139 143 145 147 150 151 160 169 172 171 167 171 177 177 174 180 182 181 192 196 189 192 198 195 194 196 198 201 202 195 189 70 39 69 61 61 61 53 59 59 45 40 26 40 61 93 124 135 138 142 144 146 151 152 158 165 168 168 165 161 164 173 172 167 172 167 180 198 198 193 199 195 194 198 200 198 197 195 190 65 35 68 59 59 62 57 60 59 50 44 32 54 90 115 132 137 138 140 144 146 146 156 165 168 174 176 176 175 168 168 169 171 175 171 172 192 194 184 198 205 201 194 195 193 195 192 186 57 38 72 65 57 62 58 57 60 54 49 47 79 116 130 138 141 141 139 141 143 145 157 164 164 166 173 174 176 179 179 176 181 189 188 173 180 175 160 182 189 198 192 189 190 190 188 172 46 44 64 66 59 62 57 56 62 53 50 66 103 133 137 141 143 141 136 132 131 136 127 118 111 107 108 123 131 143 154 158 166 177 181 175 170 159 148 171 161 176 185 192 194 188 190 162 53 49 58 63 61 61 55 56 61 51 50 81 116 139 142 142 146 144 136 128 119 112 97 85 90 91 88 92 90 80 81 84 106 122 132 144 145 144 147 163 147 163 173 181 190 187 191 167 61 48 53 61 61 58 54 56 61 51 53 89 123 140 144 145 146 147 136 122 107 99 95 92 90 87 83 76 67 52 46 52 63 69 83 96 119 132 148 159 136 137 143 138 143 152 156 156 70 48 50 59 61 57 54 54 61 52 56 93 124 135 140 144 148 150 140 125 114 101 80 54 56 54 41 41 33 40 39 35 49 60 63 74 107 129 147 147 116 111 100 77 76 86 108 111 73 49 50 60 62 60 57 55 63 59 56 89 121 134 139 146 151 152 150 141 127 111 96 77 85 70 32 31 37 91 65 50 48 59 73 83 112 136 155 130 60 46 38 40 43 81 116 91 72 52 48 58 62 62 59 53 61 59 52 85 114 134 140 147 154 159 158 153 145 143 150 126 121 125 68 45 89 137 95 70 78 75 95 109 131 153 171 94 23 16 32 82 82 65 113 77 71 54 48 56 62 62 60 53 60 56 52 75 108 133 141 149 158 166 169 167 163 156 155 146 112 119 134 127 142 140 121 117 129 114 120 129 146 174 191 98 46 33 33 109 147 98 109 67 73 55 50 56 64 64 61 58 61 53 54 64 106 129 140 148 159 169 175 176 174 165 159 156 145 120 115 124 127 131 133 141 147 142 141 147 161 182 202 154 114 96 100 158 158 153 123 61 76 57 48 56 64 64 63 62 61 54 55 44 97 131 137 147 158 168 177 181 183 179 170 168 169 165 155 152 151 152 154 162 165 158 153 158 168 187 206 186 147 135 144 145 152 178 115 57 74 58 48 58 64 63 63 59 63 55 53 66 104 130 132 144 153 162 170 180 185 187 181 178 182 180 177 173 171 171 177 176 172 164 161 167 164 185 207 197 173 152 141 141 161 191 104 54 69 60 48 57 65 62 60 57 64 55 50 94 111 124 130 135 150 159 163 172 179 184 184 178 178 177 173 171 174 177 178 176 169 165 161 163 161 180 205 201 183 171 177 178 180 194 101 55 65 60 47 55 65 63 59 58 63 57 52 90 105 117 122 130 143 153 157 163 171 174 182 183 182 178 174 175 175 177 175 172 163 161 159 157 162 178 200 201 188 181 172 177 187 198 98 57 63 61 48 52 61 64 63 60 65 57 51 95 104 113 117 127 136 145 152 156 162 162 165 173 177 182 183 183 180 181 177 165 153 154 152 153 160 174 193 200 188 185 180 182 192 196 101 60 60 56 49 50 60 66 64 62 64 59 53 99 104 111 112 118 132 142 147 155 158 160 159 162 171 176 184 186 183 180 169 154 141 135 145 155 164 180 196 205 188 189 188 189 193 192 98 61 64 55 49 49 60 66 63 64 63 60 57 99 105 108 112 113 125 139 143 150 155 158 164 169 174 176 182 183 182 177 163 141 133 147 151 164 170 185 200 210 194 188 192 186 185 180 88 64 67 60 46 50 59 65 64 64 64 59 56 101 103 108 109 109 118 134 143 143 147 155 159 166 171 174 177 179 178 172 153 129 143 161 159 166 171 186 197 207 203 185 191 183 179 164 73 67 67 66 48 50 57 65 65 63 64 61 57 103 108 114 112 110 115 128 138 144 145 152 156 159 164 168 172 172 169 161 139 125 147 156 161 162 164 180 188 188 197 185 187 181 180 137 65 70 68 70 52 47 53 62 65 63 65 61 58 105 109 112 120 113 112 122 134 141 149 150 153 155 159 164 167 167 162 152 134 115 126 119 106 99 109 141 158 150 155 175 184 176 175 106 63 70 68 68 50 46 50 57 63 63 64 61 59 107 110 110 117 117 114 117 128 137 147 148 150 153 156 161 162 163 156 150 148 105 70 45 26 25 47 73 74 79 128 177 180 173 157 77 66 68 67 68 52 49 51 56 62 62 62 62 60 101 107 108 114 115 114 117 125 134 143 148 149 152 154 158 160 158 155 160 158 132 88 73 73 64 52 66 91 138 160 174 173 171 125 64 67 63 64 68 54 50 49 54 60 60 60 62 60 98 105 105 109 111 114 117 125 131 139 145 148 153 153 156 157 156 161 168 165 153 139 122 115 105 89 103 150 182 161 171 173 162 89 64 64 62 64 69 56 48 49 56 58 60 59 62 60 89 99 108 106 109 111 119 120 125 134 140 146 152 153 153 153 156 159 162 160 150 136 129 133 133 122 133 148 178 168 168 175 132 61 67 66 65 63 69 57 47 50 55 58 59 61 62 60 89 96 105 107 105 107 117 120 123 124 133 141 149 153 151 145 151 145 139 140 138 128 126 124 129 125 136 142 164 172 168 168 87 58 67 63 62 61 69 57 39 44 55 56 59 63 62 62 84 91 92 98 102 103 113 119 121 118 128 138 146 151 147 142 140 128 127 128 129 126 135 140 135 130 143 146 149 166 174 131 62 65 62 59 67 63 68 83 89 65 42 52 60 60 62 63 77 84 84 91 99 101 107 112 117 118 122 134 145 149 144 134 127 127 129 130 134 125 126 132 152 153 151 150 151 165 171 87 59 65 64 61 58 86 122 138 208 207 154 71 52 56 55 56 69 77 83 85 93 91 102 112 116 118 119 127 140 144 142 131 112 95 85 75 62 58 56 59 87 88 83 127 142 165 149 62 65 62 59 77 113 192 156 84 185 196 197 168 81 70 75 69 58 65 73 82 81 79 95 107 114 116 116 123 136 142 136 132 131 102 71 58 49 41 33 41 36 49 60 99 136 168 111 53 63 71 138 186 203 195 146 87 91 72 79 95 103 82 61 74 55 57 68 75 76 77 84 96 106 110 111 121 130 138 136 142 153 159 152 152 154 145 133 136 147 158 156 155 147 158 74 57 60 123 181 174 126 89 72 67 57 43 55 67 76 86 60 45 51 45 52 68 75 73 77 88 96 100 104 113 115 121 134 146 149 146 149 148 155 168 174 179 178 169 169 174 161 131 44 47 82 150 168 136 104 75 66 80 67 58 48 54 68 88 121 102 51 45 38 53 66 65 70 86 92 96 102 103 109 116 130 136 136 133 136 138 137 135 128 130 143 158 165 164 147 87 62 74 123 160 170 100 99 107 79 71 86 75 57 45 49 65 122 130 43 48 40 39 55 61 59 71 82 87 88 93 105 118 123 128 130 124 111 98 94 88 67 55 84 129 147 148 105 48 82 142 161 164 164 76 72 85 100 88 72 90 84 54 48 54 73 100 73 36 44 31 37 53 51 55 67 74 77 87 97 108 118 125 132 122 106 86 80 82 75 73 83 110 129 126 46 22 130 177 196 193 166 72 52 54 73 100 92 75 99 95 65 68 61 63 91 65 42 37 22 28 39 44 57 68 74 83 92 101 119 131 143 141 134 136 140 139 134 136 139 138 136 85 23 114 202 198 199 180 173 98 36 86 130 150 137 99 77 101 99 72 56 43 77 82 79 70 56 28 20 25 36 50 63 73 83 98 111 124 139 156 160 159 169 168 165 163 159 149 114 43 26 133 183 192 177 152 137 130 125 139 173 195 186 137 101 88 101 105 70 46 77 72 84 87 87 81 64 37 20 31 40 46 65 88 108 110 125 149 157 153 162 164 158 159 154 140 78 21 11 61 144 168 173 157 138 150 148 132 159 182 183 136 106 116 95 106 109 82,Training\n",
      "\n"
     ]
    }
   ],
   "source": [
    "#looking at data file\n",
    "with open(indir+'/fer2013.csv','r') as f:\n",
    "    firstline = f.readline() \n",
    "    print(firstline)   # print header\n",
    "    contents = f.readline()\n",
    "    print(contents)    # print first row with data"
   ]
  },
  {
   "cell_type": "markdown",
   "metadata": {},
   "source": [
    "# Data Preparation"
   ]
  },
  {
   "cell_type": "code",
   "execution_count": 5,
   "metadata": {},
   "outputs": [
    {
     "data": {
      "text/plain": [
       "array(['Training', 'PublicTest', 'PrivateTest'], dtype=object)"
      ]
     },
     "execution_count": 5,
     "metadata": {},
     "output_type": "execute_result"
    }
   ],
   "source": [
    "#opening as panda dataframe and looking at \"usage\" column\n",
    "df = pd.read_csv(indir+'/fer2013.csv')\n",
    "df.Usage.unique()"
   ]
  },
  {
   "cell_type": "code",
   "execution_count": 6,
   "metadata": {},
   "outputs": [
    {
     "data": {
      "text/plain": [
       "(35887, 3)"
      ]
     },
     "execution_count": 6,
     "metadata": {},
     "output_type": "execute_result"
    }
   ],
   "source": [
    "df.shape"
   ]
  },
  {
   "cell_type": "code",
   "execution_count": 7,
   "metadata": {},
   "outputs": [
    {
     "data": {
      "text/html": [
       "<div>\n",
       "<style scoped>\n",
       "    .dataframe tbody tr th:only-of-type {\n",
       "        vertical-align: middle;\n",
       "    }\n",
       "\n",
       "    .dataframe tbody tr th {\n",
       "        vertical-align: top;\n",
       "    }\n",
       "\n",
       "    .dataframe thead th {\n",
       "        text-align: right;\n",
       "    }\n",
       "</style>\n",
       "<table border=\"1\" class=\"dataframe\">\n",
       "  <thead>\n",
       "    <tr style=\"text-align: right;\">\n",
       "      <th></th>\n",
       "      <th>emotion</th>\n",
       "      <th>pixels</th>\n",
       "      <th>Usage</th>\n",
       "    </tr>\n",
       "  </thead>\n",
       "  <tbody>\n",
       "    <tr>\n",
       "      <th>0</th>\n",
       "      <td>0</td>\n",
       "      <td>70 80 82 72 58 58 60 63 54 58 60 48 89 115 121...</td>\n",
       "      <td>Training</td>\n",
       "    </tr>\n",
       "    <tr>\n",
       "      <th>1</th>\n",
       "      <td>0</td>\n",
       "      <td>151 150 147 155 148 133 111 140 170 174 182 15...</td>\n",
       "      <td>Training</td>\n",
       "    </tr>\n",
       "    <tr>\n",
       "      <th>2</th>\n",
       "      <td>2</td>\n",
       "      <td>231 212 156 164 174 138 161 173 182 200 106 38...</td>\n",
       "      <td>Training</td>\n",
       "    </tr>\n",
       "    <tr>\n",
       "      <th>3</th>\n",
       "      <td>4</td>\n",
       "      <td>24 32 36 30 32 23 19 20 30 41 21 22 32 34 21 1...</td>\n",
       "      <td>Training</td>\n",
       "    </tr>\n",
       "    <tr>\n",
       "      <th>4</th>\n",
       "      <td>6</td>\n",
       "      <td>4 0 0 0 0 0 0 0 0 0 0 0 3 15 23 28 48 50 58 84...</td>\n",
       "      <td>Training</td>\n",
       "    </tr>\n",
       "  </tbody>\n",
       "</table>\n",
       "</div>"
      ],
      "text/plain": [
       "   emotion                                             pixels     Usage\n",
       "0        0  70 80 82 72 58 58 60 63 54 58 60 48 89 115 121...  Training\n",
       "1        0  151 150 147 155 148 133 111 140 170 174 182 15...  Training\n",
       "2        2  231 212 156 164 174 138 161 173 182 200 106 38...  Training\n",
       "3        4  24 32 36 30 32 23 19 20 30 41 21 22 32 34 21 1...  Training\n",
       "4        6  4 0 0 0 0 0 0 0 0 0 0 0 3 15 23 28 48 50 58 84...  Training"
      ]
     },
     "execution_count": 7,
     "metadata": {},
     "output_type": "execute_result"
    }
   ],
   "source": [
    "df.head()"
   ]
  },
  {
   "cell_type": "code",
   "execution_count": 8,
   "metadata": {},
   "outputs": [
    {
     "name": "stdout",
     "output_type": "stream",
     "text": [
      "<class 'pandas.core.frame.DataFrame'>\n",
      "RangeIndex: 35887 entries, 0 to 35886\n",
      "Data columns (total 3 columns):\n",
      "emotion    35887 non-null int64\n",
      "pixels     35887 non-null object\n",
      "Usage      35887 non-null object\n",
      "dtypes: int64(1), object(2)\n",
      "memory usage: 841.2+ KB\n"
     ]
    }
   ],
   "source": [
    "df.info()"
   ]
  },
  {
   "cell_type": "markdown",
   "metadata": {},
   "source": [
    "## creating 3 dataframes for training data, public testing data and private testing data"
   ]
  },
  {
   "cell_type": "code",
   "execution_count": 9,
   "metadata": {},
   "outputs": [
    {
     "data": {
      "text/html": [
       "<div>\n",
       "<style scoped>\n",
       "    .dataframe tbody tr th:only-of-type {\n",
       "        vertical-align: middle;\n",
       "    }\n",
       "\n",
       "    .dataframe tbody tr th {\n",
       "        vertical-align: top;\n",
       "    }\n",
       "\n",
       "    .dataframe thead th {\n",
       "        text-align: right;\n",
       "    }\n",
       "</style>\n",
       "<table border=\"1\" class=\"dataframe\">\n",
       "  <thead>\n",
       "    <tr style=\"text-align: right;\">\n",
       "      <th></th>\n",
       "      <th>emotion</th>\n",
       "      <th>pixels</th>\n",
       "    </tr>\n",
       "  </thead>\n",
       "  <tbody>\n",
       "    <tr>\n",
       "      <th>0</th>\n",
       "      <td>0</td>\n",
       "      <td>70 80 82 72 58 58 60 63 54 58 60 48 89 115 121...</td>\n",
       "    </tr>\n",
       "    <tr>\n",
       "      <th>1</th>\n",
       "      <td>0</td>\n",
       "      <td>151 150 147 155 148 133 111 140 170 174 182 15...</td>\n",
       "    </tr>\n",
       "    <tr>\n",
       "      <th>2</th>\n",
       "      <td>2</td>\n",
       "      <td>231 212 156 164 174 138 161 173 182 200 106 38...</td>\n",
       "    </tr>\n",
       "    <tr>\n",
       "      <th>3</th>\n",
       "      <td>4</td>\n",
       "      <td>24 32 36 30 32 23 19 20 30 41 21 22 32 34 21 1...</td>\n",
       "    </tr>\n",
       "    <tr>\n",
       "      <th>4</th>\n",
       "      <td>6</td>\n",
       "      <td>4 0 0 0 0 0 0 0 0 0 0 0 3 15 23 28 48 50 58 84...</td>\n",
       "    </tr>\n",
       "  </tbody>\n",
       "</table>\n",
       "</div>"
      ],
      "text/plain": [
       "   emotion                                             pixels\n",
       "0        0  70 80 82 72 58 58 60 63 54 58 60 48 89 115 121...\n",
       "1        0  151 150 147 155 148 133 111 140 170 174 182 15...\n",
       "2        2  231 212 156 164 174 138 161 173 182 200 106 38...\n",
       "3        4  24 32 36 30 32 23 19 20 30 41 21 22 32 34 21 1...\n",
       "4        6  4 0 0 0 0 0 0 0 0 0 0 0 3 15 23 28 48 50 58 84..."
      ]
     },
     "execution_count": 9,
     "metadata": {},
     "output_type": "execute_result"
    }
   ],
   "source": [
    "train = df.query('Usage == \"Training\"')\n",
    "train.drop(columns=['Usage'], inplace=True)\n",
    "train.reset_index(drop=True, inplace=True)\n",
    "train.head()"
   ]
  },
  {
   "cell_type": "code",
   "execution_count": 10,
   "metadata": {},
   "outputs": [
    {
     "data": {
      "text/html": [
       "<div>\n",
       "<style scoped>\n",
       "    .dataframe tbody tr th:only-of-type {\n",
       "        vertical-align: middle;\n",
       "    }\n",
       "\n",
       "    .dataframe tbody tr th {\n",
       "        vertical-align: top;\n",
       "    }\n",
       "\n",
       "    .dataframe thead th {\n",
       "        text-align: right;\n",
       "    }\n",
       "</style>\n",
       "<table border=\"1\" class=\"dataframe\">\n",
       "  <thead>\n",
       "    <tr style=\"text-align: right;\">\n",
       "      <th></th>\n",
       "      <th>emotion</th>\n",
       "      <th>pixels</th>\n",
       "    </tr>\n",
       "  </thead>\n",
       "  <tbody>\n",
       "    <tr>\n",
       "      <th>0</th>\n",
       "      <td>0</td>\n",
       "      <td>254 254 254 254 254 249 255 160 2 58 53 70 77 ...</td>\n",
       "    </tr>\n",
       "    <tr>\n",
       "      <th>1</th>\n",
       "      <td>1</td>\n",
       "      <td>156 184 198 202 204 207 210 212 213 214 215 21...</td>\n",
       "    </tr>\n",
       "    <tr>\n",
       "      <th>2</th>\n",
       "      <td>4</td>\n",
       "      <td>69 118 61 60 96 121 103 87 103 88 70 90 115 12...</td>\n",
       "    </tr>\n",
       "    <tr>\n",
       "      <th>3</th>\n",
       "      <td>6</td>\n",
       "      <td>205 203 236 157 83 158 120 116 94 86 155 180 2...</td>\n",
       "    </tr>\n",
       "    <tr>\n",
       "      <th>4</th>\n",
       "      <td>3</td>\n",
       "      <td>87 79 74 66 74 96 77 80 80 84 83 89 102 91 84 ...</td>\n",
       "    </tr>\n",
       "  </tbody>\n",
       "</table>\n",
       "</div>"
      ],
      "text/plain": [
       "   emotion                                             pixels\n",
       "0        0  254 254 254 254 254 249 255 160 2 58 53 70 77 ...\n",
       "1        1  156 184 198 202 204 207 210 212 213 214 215 21...\n",
       "2        4  69 118 61 60 96 121 103 87 103 88 70 90 115 12...\n",
       "3        6  205 203 236 157 83 158 120 116 94 86 155 180 2...\n",
       "4        3  87 79 74 66 74 96 77 80 80 84 83 89 102 91 84 ..."
      ]
     },
     "execution_count": 10,
     "metadata": {},
     "output_type": "execute_result"
    }
   ],
   "source": [
    "public_test = df.query('Usage == \"PublicTest\"')\n",
    "public_test.drop(columns=['Usage'], inplace=True)\n",
    "public_test.reset_index(drop=True, inplace=True)\n",
    "public_test.head()"
   ]
  },
  {
   "cell_type": "code",
   "execution_count": 11,
   "metadata": {},
   "outputs": [
    {
     "data": {
      "text/html": [
       "<div>\n",
       "<style scoped>\n",
       "    .dataframe tbody tr th:only-of-type {\n",
       "        vertical-align: middle;\n",
       "    }\n",
       "\n",
       "    .dataframe tbody tr th {\n",
       "        vertical-align: top;\n",
       "    }\n",
       "\n",
       "    .dataframe thead th {\n",
       "        text-align: right;\n",
       "    }\n",
       "</style>\n",
       "<table border=\"1\" class=\"dataframe\">\n",
       "  <thead>\n",
       "    <tr style=\"text-align: right;\">\n",
       "      <th></th>\n",
       "      <th>emotion</th>\n",
       "      <th>pixels</th>\n",
       "    </tr>\n",
       "  </thead>\n",
       "  <tbody>\n",
       "    <tr>\n",
       "      <th>0</th>\n",
       "      <td>0</td>\n",
       "      <td>170 118 101 88 88 75 78 82 66 74 68 59 63 64 6...</td>\n",
       "    </tr>\n",
       "    <tr>\n",
       "      <th>1</th>\n",
       "      <td>5</td>\n",
       "      <td>7 5 8 6 7 3 2 6 5 4 4 5 7 5 5 5 6 7 7 7 10 10 ...</td>\n",
       "    </tr>\n",
       "    <tr>\n",
       "      <th>2</th>\n",
       "      <td>6</td>\n",
       "      <td>232 240 241 239 237 235 246 117 24 24 22 13 12...</td>\n",
       "    </tr>\n",
       "    <tr>\n",
       "      <th>3</th>\n",
       "      <td>4</td>\n",
       "      <td>200 197 149 139 156 89 111 58 62 95 113 117 11...</td>\n",
       "    </tr>\n",
       "    <tr>\n",
       "      <th>4</th>\n",
       "      <td>2</td>\n",
       "      <td>40 28 33 56 45 33 31 78 152 194 200 186 196 20...</td>\n",
       "    </tr>\n",
       "  </tbody>\n",
       "</table>\n",
       "</div>"
      ],
      "text/plain": [
       "   emotion                                             pixels\n",
       "0        0  170 118 101 88 88 75 78 82 66 74 68 59 63 64 6...\n",
       "1        5  7 5 8 6 7 3 2 6 5 4 4 5 7 5 5 5 6 7 7 7 10 10 ...\n",
       "2        6  232 240 241 239 237 235 246 117 24 24 22 13 12...\n",
       "3        4  200 197 149 139 156 89 111 58 62 95 113 117 11...\n",
       "4        2  40 28 33 56 45 33 31 78 152 194 200 186 196 20..."
      ]
     },
     "execution_count": 11,
     "metadata": {},
     "output_type": "execute_result"
    }
   ],
   "source": [
    "private_test = df.query('Usage == \"PrivateTest\"')\n",
    "private_test.drop(columns=['Usage'], inplace=True)\n",
    "private_test.reset_index(drop=True, inplace=True)\n",
    "private_test.head()"
   ]
  },
  {
   "cell_type": "code",
   "execution_count": 12,
   "metadata": {},
   "outputs": [
    {
     "data": {
      "text/plain": [
       "(28709, 2)"
      ]
     },
     "execution_count": 12,
     "metadata": {},
     "output_type": "execute_result"
    }
   ],
   "source": [
    "train.shape"
   ]
  },
  {
   "cell_type": "code",
   "execution_count": 13,
   "metadata": {},
   "outputs": [
    {
     "data": {
      "text/plain": [
       "(3589, 2)"
      ]
     },
     "execution_count": 13,
     "metadata": {},
     "output_type": "execute_result"
    }
   ],
   "source": [
    "public_test.shape"
   ]
  },
  {
   "cell_type": "code",
   "execution_count": 14,
   "metadata": {},
   "outputs": [
    {
     "data": {
      "text/plain": [
       "(3589, 2)"
      ]
     },
     "execution_count": 14,
     "metadata": {},
     "output_type": "execute_result"
    }
   ],
   "source": [
    "private_test.shape"
   ]
  },
  {
   "cell_type": "markdown",
   "metadata": {},
   "source": [
    "## converting to PyTorch tensors"
   ]
  },
  {
   "cell_type": "code",
   "execution_count": 15,
   "metadata": {},
   "outputs": [],
   "source": [
    "def mk_labeltensor(dframe):\n",
    "    \"\"\" creating a torch tensor from the emotion column\n",
    "    dframe = dataframe\n",
    "    \"\"\"\n",
    "    emotions = dframe['emotion'].values\n",
    "    return th.tensor(emotions)   "
   ]
  },
  {
   "cell_type": "code",
   "execution_count": 16,
   "metadata": {},
   "outputs": [],
   "source": [
    "def mk_imagetensor(dframe):\n",
    "    \"\"\" creating a torch tensor from the pixels column\n",
    "    dframe = dataframe\n",
    "    \"\"\"\n",
    "    pixels = dframe['pixels'].str.split(' ')\n",
    "    dframe_images_list = pixels.apply(lambda x: list(int(i) for i in x))\n",
    "    return th.tensor(dframe_images_list)"
   ]
  },
  {
   "cell_type": "code",
   "execution_count": 17,
   "metadata": {},
   "outputs": [
    {
     "name": "stdout",
     "output_type": "stream",
     "text": [
      "torch.Size([28709])\n",
      "torch.Size([28709, 2304])\n"
     ]
    }
   ],
   "source": [
    "train_labels = mk_labeltensor(train)\n",
    "train_images = mk_imagetensor(train)\n",
    "print(train_labels.shape)\n",
    "print(train_images.shape)"
   ]
  },
  {
   "cell_type": "code",
   "execution_count": 18,
   "metadata": {},
   "outputs": [
    {
     "name": "stdout",
     "output_type": "stream",
     "text": [
      "torch.Size([3589])\n",
      "torch.Size([3589, 2304])\n"
     ]
    }
   ],
   "source": [
    "public_test_labels = mk_labeltensor(public_test)\n",
    "public_test_images = mk_imagetensor(public_test)\n",
    "print(public_test_labels.shape)\n",
    "print(public_test_images.shape)"
   ]
  },
  {
   "cell_type": "code",
   "execution_count": 19,
   "metadata": {},
   "outputs": [
    {
     "name": "stdout",
     "output_type": "stream",
     "text": [
      "torch.Size([3589])\n",
      "torch.Size([3589, 2304])\n"
     ]
    }
   ],
   "source": [
    "private_test_labels = mk_labeltensor(private_test)\n",
    "private_test_images = mk_imagetensor(private_test)\n",
    "print(private_test_labels.shape)\n",
    "print(private_test_images.shape)"
   ]
  },
  {
   "cell_type": "markdown",
   "metadata": {},
   "source": [
    "# Linear Model\n",
    "At first we will try out a linear model to recognize facial expressions. "
   ]
  },
  {
   "cell_type": "markdown",
   "metadata": {},
   "source": [
    "## Defining the Model"
   ]
  },
  {
   "cell_type": "code",
   "execution_count": 20,
   "metadata": {},
   "outputs": [],
   "source": [
    "from torch import nn, optim\n",
    "import torch.nn.functional as F"
   ]
  },
  {
   "cell_type": "code",
   "execution_count": 21,
   "metadata": {},
   "outputs": [
    {
     "data": {
      "text/plain": [
       "7"
      ]
     },
     "execution_count": 21,
     "metadata": {},
     "output_type": "execute_result"
    }
   ],
   "source": [
    "df.emotion.nunique()"
   ]
  },
  {
   "cell_type": "code",
   "execution_count": 23,
   "metadata": {},
   "outputs": [
    {
     "data": {
      "text/plain": [
       "<torch._C.Generator at 0x7f01728beeb0>"
      ]
     },
     "execution_count": 23,
     "metadata": {},
     "output_type": "execute_result"
    }
   ],
   "source": [
    "# for reproducible results:\n",
    "seed = 30\n",
    "np.random.seed(seed)\n",
    "th.manual_seed(seed)"
   ]
  },
  {
   "cell_type": "code",
   "execution_count": 24,
   "metadata": {},
   "outputs": [],
   "source": [
    "# input: 48x48 pixels = 2304\n",
    "# output: 7 different emotions\n",
    "class Classifier(nn.Module):\n",
    "    def __init__(self):\n",
    "        super().__init__()\n",
    "        self.fc1 = nn.Linear(2304, 1024) \n",
    "        self.fc2 = nn.Linear(1024, 256) \n",
    "        self.fc3 = nn.Linear(256, 64) \n",
    "        self.fc4 = nn.Linear(64, 7) \n",
    "        \n",
    "        # Dropout module with 0.2 drop probability\n",
    "        self.dropout = nn.Dropout(p=0.2)\n",
    "        \n",
    "    def forward(self, x):\n",
    "        # making sure input tensor is flattened\n",
    "        x = x.view(x.shape[0], -1)\n",
    "        \n",
    "        x = self.dropout(F.relu(self.fc1(x)))\n",
    "        x = self.dropout(F.relu(self.fc2(x)))\n",
    "        x = self.dropout(F.relu(self.fc3(x)))\n",
    "\n",
    "        x = F.log_softmax(self.fc4(x), dim=1)\n",
    "        \n",
    "        return x"
   ]
  },
  {
   "cell_type": "markdown",
   "metadata": {},
   "source": [
    "## Training the Model"
   ]
  },
  {
   "cell_type": "code",
   "execution_count": 25,
   "metadata": {},
   "outputs": [
    {
     "name": "stdout",
     "output_type": "stream",
     "text": [
      "Epoch: 1/15..  Training Loss: 7.599..  Test Loss: 1.902..  Test Accuracy: 0.249\n",
      "Epoch: 2/15..  Training Loss: 5.410..  Test Loss: 1.866..  Test Accuracy: 0.249\n",
      "Epoch: 3/15..  Training Loss: 5.329..  Test Loss: 1.846..  Test Accuracy: 0.249\n",
      "Epoch: 4/15..  Training Loss: 5.280..  Test Loss: 1.834..  Test Accuracy: 0.250\n",
      "Epoch: 5/15..  Training Loss: 5.261..  Test Loss: 1.827..  Test Accuracy: 0.250\n",
      "Epoch: 6/15..  Training Loss: 5.239..  Test Loss: 1.822..  Test Accuracy: 0.250\n",
      "Epoch: 7/15..  Training Loss: 5.223..  Test Loss: 1.818..  Test Accuracy: 0.250\n",
      "Epoch: 8/15..  Training Loss: 5.212..  Test Loss: 1.816..  Test Accuracy: 0.250\n",
      "Epoch: 9/15..  Training Loss: 5.206..  Test Loss: 1.814..  Test Accuracy: 0.250\n",
      "Epoch: 10/15..  Training Loss: 5.202..  Test Loss: 1.813..  Test Accuracy: 0.250\n",
      "Epoch: 11/15..  Training Loss: 5.199..  Test Loss: 1.812..  Test Accuracy: 0.250\n",
      "Epoch: 12/15..  Training Loss: 5.199..  Test Loss: 1.812..  Test Accuracy: 0.250\n",
      "Epoch: 13/15..  Training Loss: 5.196..  Test Loss: 1.811..  Test Accuracy: 0.250\n",
      "Epoch: 14/15..  Training Loss: 5.198..  Test Loss: 1.811..  Test Accuracy: 0.250\n",
      "Epoch: 15/15..  Training Loss: 5.197..  Test Loss: 1.811..  Test Accuracy: 0.250\n"
     ]
    }
   ],
   "source": [
    "model = Classifier()\n",
    "criterion = nn.NLLLoss()\n",
    "optimizer = optim.Adam(model.parameters(), lr=0.001)\n",
    "\n",
    "epochs = 15\n",
    "batch_size = 100\n",
    "batches = round(train.shape[0]/batch_size)\n",
    "\n",
    "acc, train_losses, test_losses = [], [], []\n",
    "for e in range(epochs):\n",
    "    running_loss = 0\n",
    "    for i in range(batches):\n",
    "        \n",
    "        # Clear gradients\n",
    "        optimizer.zero_grad()\n",
    "        \n",
    "        # Forward propagation\n",
    "        start = i * batch_size\n",
    "        end = start + batch_size\n",
    "        log_ps = model(train_images[start:end].float())\n",
    "\n",
    "        # Calculate loss\n",
    "        loss = criterion(log_ps, train_labels[start:end])\n",
    "        \n",
    "        # Calculate gradients\n",
    "        loss.backward()\n",
    "        \n",
    "        # Update parameters\n",
    "        optimizer.step()        \n",
    "        \n",
    "        running_loss += loss.item()\n",
    "        \n",
    "    else:\n",
    "        test_loss = 0\n",
    "        accuracy = 0\n",
    "        \n",
    "        # Validation\n",
    "        with th.no_grad(): \n",
    "            model.eval()\n",
    "            # Predict test dataset\n",
    "            log_ps = model(public_test_images.float())\n",
    "            test_loss += criterion(log_ps,public_test_labels)\n",
    "            \n",
    "            ps = th.exp(log_ps)\n",
    "            top_p, top_class = ps.topk(1,dim=1)\n",
    "            equals = top_class == public_test_labels.view(*top_class.shape)\n",
    "            accuracy += th.mean(equals.type(th.FloatTensor))\n",
    "            \n",
    "        model.train()\n",
    "        \n",
    "        train_losses.append(running_loss/batch_size)\n",
    "        test_losses.append(test_loss)\n",
    "        acc.append(accuracy)\n",
    "\n",
    "        print(\"Epoch: {}/{}.. \".format(e+1, epochs),\n",
    "              \"Training Loss: {:.3f}.. \".format(running_loss/batch_size),\n",
    "              \"Test Loss: {:.3f}.. \".format(test_loss),\n",
    "              \"Test Accuracy: {:.3f}\".format(accuracy))"
   ]
  },
  {
   "cell_type": "markdown",
   "metadata": {},
   "source": [
    "## Plotting the Loss and the Accuracy"
   ]
  },
  {
   "cell_type": "code",
   "execution_count": 26,
   "metadata": {},
   "outputs": [],
   "source": [
    "%matplotlib inline\n",
    "%config InlineBackend.figure_format = 'retina'\n",
    "\n",
    "import matplotlib.pyplot as plt"
   ]
  },
  {
   "cell_type": "code",
   "execution_count": 27,
   "metadata": {},
   "outputs": [
    {
     "data": {
      "image/png": "[encoded data removed]",
      "text/plain": [
       "<Figure size 432x288 with 1 Axes>"
      ]
     },
     "metadata": {
      "image/png": {
       "height": 263,
       "width": 377
      },
      "needs_background": "light"
     },
     "output_type": "display_data"
    }
   ],
   "source": [
    "eps = range(epochs)\n",
    "plt.plot(eps, train_losses, label='Training loss')\n",
    "plt.plot(eps, test_losses, label='Validation loss')\n",
    "plt.xlabel('epoch')\n",
    "plt.ylabel('loss')\n",
    "#plt.ylim(0,6.0)\n",
    "plt.legend(frameon=False);"
   ]
  },
  {
   "cell_type": "code",
   "execution_count": 28,
   "metadata": {},
   "outputs": [
    {
     "data": {
      "image/png": "[encoded data removed]",
      "text/plain": [
       "<Figure size 432x288 with 1 Axes>"
      ]
     },
     "metadata": {
      "image/png": {
       "height": 277,
       "width": 399
      },
      "needs_background": "light"
     },
     "output_type": "display_data"
    }
   ],
   "source": [
    "plt.plot(eps, acc, 'b', label='Validation acc')\n",
    "plt.title('validation accuracy');\n",
    "plt.legend(['final accuracy = {:.2f}%'.format(accuracy * 100.0)])\n",
    "plt.xlabel('epoch');"
   ]
  },
  {
   "cell_type": "markdown",
   "metadata": {},
   "source": [
    "### Result\n",
    "The accuracy does not go above 25%. That is better than guesswork (7 choices of emotions would give about 14-15% accuracy when guessing), but not really great. A different model structure might lead to better results. "
   ]
  },
  {
   "cell_type": "markdown",
   "metadata": {},
   "source": [
    "# Convolutional Neural Network (CNN)\n",
    "A CNN model is our next try. Here we get very different results with different optimizers and learning rates. We have to try different structures. "
   ]
  },
  {
   "cell_type": "code",
   "execution_count": 29,
   "metadata": {},
   "outputs": [
    {
     "name": "stdout",
     "output_type": "stream",
     "text": [
      "torch.Size([28709, 48, 48])\n",
      "torch.Size([3589, 48, 48])\n",
      "torch.Size([3589, 48, 48])\n"
     ]
    }
   ],
   "source": [
    "# we need to restructure the data, so that pixels are represented in a 48x48 format:\n",
    "train_images = train_images.view(train_images.shape[0],48,48)\n",
    "public_test_images = public_test_images.view(public_test_images.shape[0],48,48)\n",
    "private_test_images = private_test_images.view(private_test_images.shape[0],48,48)\n",
    "print(train_images.shape)\n",
    "print(public_test_images.shape)\n",
    "print(private_test_images.shape)"
   ]
  },
  {
   "cell_type": "code",
   "execution_count": 30,
   "metadata": {},
   "outputs": [],
   "source": [
    "# using dataloader for the images and labels\n",
    "import torch.utils.data\n",
    "\n",
    "def make_dataloader(data, batch_size, shuffle):\n",
    "    images, labels = data['pixels'], data['emotion']\n",
    "    images = np.array([np.fromstring(image, np.uint8, sep=' ') for image in images])\n",
    "    images = images.reshape(images.shape[0], 1, 48, 48)\n",
    "    dataset = torch.utils.data.TensorDataset(th.Tensor(images), th.Tensor(np.array(labels)).long())\n",
    "    return th.utils.data.DataLoader(dataset=dataset, batch_size=batch_size, shuffle=shuffle)\n",
    "\n",
    "trainloader = make_dataloader(train, 100, True)\n",
    "testloader = make_dataloader(public_test, 100, True)\n",
    "validloader = make_dataloader(private_test, 100, False)"
   ]
  },
  {
   "cell_type": "markdown",
   "metadata": {},
   "source": [
    "## With Adam Optimizer\n",
    "### Defining the Model"
   ]
  },
  {
   "cell_type": "code",
   "execution_count": 31,
   "metadata": {},
   "outputs": [
    {
     "data": {
      "text/plain": [
       "<torch._C.Generator at 0x7f01728beeb0>"
      ]
     },
     "execution_count": 31,
     "metadata": {},
     "output_type": "execute_result"
    }
   ],
   "source": [
    "# for reproducible results:\n",
    "seed = 30\n",
    "np.random.seed(seed)\n",
    "torch.manual_seed(seed)"
   ]
  },
  {
   "cell_type": "code",
   "execution_count": 32,
   "metadata": {},
   "outputs": [],
   "source": [
    "class NetAdam(nn.Module):\n",
    "    def __init__(self):\n",
    "        super(NetAdam, self).__init__()\n",
    "        \n",
    "        self.conv1 = nn.Conv2d(1, 32, kernel_size=3)       \n",
    "        self.conv2 = nn.Conv2d(32, 64, kernel_size=3)        \n",
    "        self.conv3 = nn.Conv2d(64, 128, kernel_size=3)\n",
    "        \n",
    "        self.fc1 = nn.Linear(2048, 1024) #784, 256)\n",
    "        self.fc2 = nn.Linear(1024, 256) #256, 128)\n",
    "        self.fc3 = nn.Linear(256, 64) #128, 64)\n",
    "        self.fc4 = nn.Linear(64, 7) #64, 10)\n",
    "        \n",
    "        # Dropout module with 0.2 drop probability\n",
    "        self.dropout = nn.Dropout(p=0.2)\n",
    "        \n",
    "        self.pool = nn.MaxPool2d(2)\n",
    "\n",
    "    def forward(self, x):\n",
    "        \n",
    "        x = self.pool(F.relu(self.conv1(x)))\n",
    "        x = self.pool(F.relu(self.conv2(x)))\n",
    "        x = self.pool(F.relu(self.conv3(x)))\n",
    "        \n",
    "        x = x.view(x.shape[0], -1)\n",
    "        x = self.dropout(F.relu(self.fc1(x)))\n",
    "        x = self.dropout(F.relu(self.fc2(x)))\n",
    "        x = self.dropout(F.relu(self.fc3(x)))\n",
    "        x = F.log_softmax(self.fc4(x), dim=1)\n",
    "        return x\n"
   ]
  },
  {
   "cell_type": "markdown",
   "metadata": {},
   "source": [
    "### Training the Model"
   ]
  },
  {
   "cell_type": "code",
   "execution_count": 33,
   "metadata": {},
   "outputs": [
    {
     "name": "stdout",
     "output_type": "stream",
     "text": [
      "Epoch: 1/15..  Training Loss: 1.793..  Test Loss: 1.608..  Test Accuracy: 0.376\n",
      "Epoch: 2/15..  Training Loss: 1.549..  Test Loss: 1.451..  Test Accuracy: 0.444\n",
      "Epoch: 3/15..  Training Loss: 1.420..  Test Loss: 1.393..  Test Accuracy: 0.473\n",
      "Epoch: 4/15..  Training Loss: 1.311..  Test Loss: 1.320..  Test Accuracy: 0.497\n",
      "Epoch: 5/15..  Training Loss: 1.226..  Test Loss: 1.269..  Test Accuracy: 0.520\n",
      "Epoch: 6/15..  Training Loss: 1.133..  Test Loss: 1.314..  Test Accuracy: 0.519\n",
      "Epoch: 7/15..  Training Loss: 1.051..  Test Loss: 1.264..  Test Accuracy: 0.535\n",
      "Epoch: 8/15..  Training Loss: 0.947..  Test Loss: 1.294..  Test Accuracy: 0.541\n",
      "Epoch: 9/15..  Training Loss: 0.838..  Test Loss: 1.350..  Test Accuracy: 0.534\n",
      "Epoch: 10/15..  Training Loss: 0.729..  Test Loss: 1.445..  Test Accuracy: 0.547\n",
      "Epoch: 11/15..  Training Loss: 0.623..  Test Loss: 1.547..  Test Accuracy: 0.548\n",
      "Epoch: 12/15..  Training Loss: 0.549..  Test Loss: 1.682..  Test Accuracy: 0.538\n",
      "Epoch: 13/15..  Training Loss: 0.469..  Test Loss: 1.717..  Test Accuracy: 0.547\n",
      "Epoch: 14/15..  Training Loss: 0.402..  Test Loss: 1.907..  Test Accuracy: 0.540\n",
      "Epoch: 15/15..  Training Loss: 0.363..  Test Loss: 2.009..  Test Accuracy: 0.551\n"
     ]
    }
   ],
   "source": [
    "model = NetAdam()\n",
    "criterion = nn.NLLLoss()\n",
    "optimizer = optim.Adam(model.parameters(), lr=0.001)\n",
    "\n",
    "epochs = 15\n",
    "\n",
    "acc, train_losses, test_losses = [], [], []\n",
    "for e in range(epochs):\n",
    "    running_loss = 0\n",
    "    for images, labels in trainloader:\n",
    "        \n",
    "        # Clear gradients\n",
    "        optimizer.zero_grad()\n",
    "        \n",
    "        # Forward propagation\n",
    "        log_ps = model(images)\n",
    "\n",
    "        # Calculate loss\n",
    "        loss = criterion(log_ps, labels)\n",
    "        \n",
    "        # Calculate gradients\n",
    "        loss.backward()\n",
    "        \n",
    "        # Update parameters\n",
    "        optimizer.step()        \n",
    "        \n",
    "        running_loss += loss.item()\n",
    "        \n",
    "    else:\n",
    "        test_loss = 0\n",
    "        accuracy = 0\n",
    "        \n",
    "        # Validation\n",
    "        with th.no_grad(): \n",
    "            for images, labels in testloader:\n",
    "                model.eval()\n",
    "                # Predict test dataset\n",
    "                log_ps = model(images)\n",
    "                test_loss += criterion(log_ps,labels)\n",
    "\n",
    "                ps = th.exp(log_ps)\n",
    "                top_p, top_class = ps.topk(1,dim=1)\n",
    "                equals = top_class == labels.view(*top_class.shape)\n",
    "                accuracy += th.mean(equals.type(th.FloatTensor))\n",
    "            \n",
    "        model.train()\n",
    "        \n",
    "        train_losses.append(running_loss/len(trainloader))\n",
    "        test_losses.append(test_loss/len(testloader))\n",
    "        acc.append(accuracy/len(testloader))\n",
    "\n",
    "        print(\"Epoch: {}/{}.. \".format(e+1, epochs),\n",
    "              \"Training Loss: {:.3f}.. \".format(running_loss/len(trainloader)),\n",
    "              \"Test Loss: {:.3f}.. \".format(test_loss/len(testloader)),\n",
    "              \"Test Accuracy: {:.3f}\".format(accuracy/len(testloader)))"
   ]
  },
  {
   "cell_type": "markdown",
   "metadata": {},
   "source": [
    "### Plotting Loss and Accuracy"
   ]
  },
  {
   "cell_type": "code",
   "execution_count": 34,
   "metadata": {},
   "outputs": [
    {
     "data": {
      "image/png": "[encoded data removed]",
      "text/plain": [
       "<Figure size 432x288 with 1 Axes>"
      ]
     },
     "metadata": {
      "image/png": {
       "height": 263,
       "width": 393
      },
      "needs_background": "light"
     },
     "output_type": "display_data"
    }
   ],
   "source": [
    "eps = range(epochs)\n",
    "plt.plot(eps, train_losses, label='Training loss')\n",
    "plt.plot(eps, test_losses, label='Validation loss')\n",
    "plt.xlabel('epoch')\n",
    "plt.ylabel('loss')\n",
    "plt.legend(frameon=False);"
   ]
  },
  {
   "cell_type": "code",
   "execution_count": 39,
   "metadata": {},
   "outputs": [
    {
     "data": {
      "image/png": "[encoded data removed]",
      "text/plain": [
       "<Figure size 432x288 with 1 Axes>"
      ]
     },
     "metadata": {
      "image/png": {
       "height": 263,
       "width": 386
      },
      "needs_background": "light"
     },
     "output_type": "display_data"
    }
   ],
   "source": [
    "plt.plot(eps, acc, 'b', label='Validation accuracy')\n",
    "plt.title('validation accuracy');\n",
    "plt.legend(['final accuracy = {:.2f}%'.format(acc[-1]*100)]);"
   ]
  },
  {
   "cell_type": "markdown",
   "metadata": {},
   "source": [
    "This gives us an **accuracy of 55.1%** on the test set. This is already quite good, but we want to try if we can get better results with the SGD optimizer. "
   ]
  },
  {
   "cell_type": "markdown",
   "metadata": {},
   "source": [
    "## With SGD Optimizer\n",
    "### Defining the Model"
   ]
  },
  {
   "cell_type": "code",
   "execution_count": 40,
   "metadata": {},
   "outputs": [],
   "source": [
    "class NetSGD(nn.Module):\n",
    "    def __init__(self):\n",
    "        super(NetSGD, self).__init__()\n",
    "        \n",
    "        self.conv1 = nn.Conv2d(1, 32, kernel_size=3)       \n",
    "        self.conv2 = nn.Conv2d(32, 64, kernel_size=3)        \n",
    "        self.conv3 = nn.Conv2d(64, 128, kernel_size=3)\n",
    "        \n",
    "        self.fc1 = nn.Linear(2048, 1024) \n",
    "        self.fc2 = nn.Linear(1024, 256) \n",
    "        self.fc3 = nn.Linear(256, 64) \n",
    "        self.fc4 = nn.Linear(64, 7) \n",
    "        \n",
    "        # Dropout module with 0.3 drop probability\n",
    "        self.dropout = nn.Dropout(p=0.3)\n",
    "        \n",
    "        self.pool = nn.MaxPool2d(2)\n",
    "\n",
    "    def forward(self, x):\n",
    "        \n",
    "        x = self.pool(F.relu(self.conv1(x)))\n",
    "        x = self.pool(F.relu(self.conv2(x)))\n",
    "        x = self.pool(F.relu(self.conv3(x)))\n",
    "        \n",
    "        x = x.view(x.shape[0], -1)\n",
    "        x = self.dropout(F.relu(self.fc1(x)))\n",
    "        x = self.dropout(F.relu(self.fc2(x)))\n",
    "        x = self.dropout(F.relu(self.fc3(x)))\n",
    "        x = F.log_softmax(self.fc4(x), dim=1)\n",
    "        return x\n"
   ]
  },
  {
   "cell_type": "markdown",
   "metadata": {},
   "source": [
    "### Training the Model"
   ]
  },
  {
   "cell_type": "code",
   "execution_count": 32,
   "metadata": {},
   "outputs": [
    {
     "name": "stdout",
     "output_type": "stream",
     "text": [
      "Epoch: 1/150..  Training Loss: 1.876..  Test Loss: 1.821..  Test Accuracy: 0.249\n",
      "Epoch: 2/150..  Training Loss: 1.837..  Test Loss: 1.804..  Test Accuracy: 0.249\n",
      "Epoch: 3/150..  Training Loss: 1.824..  Test Loss: 1.793..  Test Accuracy: 0.251\n",
      "Epoch: 4/150..  Training Loss: 1.812..  Test Loss: 1.785..  Test Accuracy: 0.250\n",
      "Epoch: 5/150..  Training Loss: 1.801..  Test Loss: 1.760..  Test Accuracy: 0.259\n",
      "Epoch: 6/150..  Training Loss: 1.785..  Test Loss: 1.746..  Test Accuracy: 0.289\n",
      "Epoch: 7/150..  Training Loss: 1.767..  Test Loss: 1.720..  Test Accuracy: 0.354\n",
      "Epoch: 8/150..  Training Loss: 1.745..  Test Loss: 1.710..  Test Accuracy: 0.374\n",
      "Epoch: 9/150..  Training Loss: 1.722..  Test Loss: 1.664..  Test Accuracy: 0.372\n",
      "Epoch: 10/150..  Training Loss: 1.706..  Test Loss: 1.684..  Test Accuracy: 0.327\n",
      "Epoch: 11/150..  Training Loss: 1.690..  Test Loss: 1.658..  Test Accuracy: 0.344\n",
      "Epoch: 12/150..  Training Loss: 1.675..  Test Loss: 1.628..  Test Accuracy: 0.386\n",
      "Epoch: 13/150..  Training Loss: 1.659..  Test Loss: 1.616..  Test Accuracy: 0.390\n",
      "Epoch: 14/150..  Training Loss: 1.649..  Test Loss: 1.596..  Test Accuracy: 0.399\n",
      "Epoch: 15/150..  Training Loss: 1.637..  Test Loss: 1.608..  Test Accuracy: 0.388\n",
      "Epoch: 16/150..  Training Loss: 1.630..  Test Loss: 1.572..  Test Accuracy: 0.407\n",
      "Epoch: 17/150..  Training Loss: 1.613..  Test Loss: 1.580..  Test Accuracy: 0.399\n",
      "Epoch: 18/150..  Training Loss: 1.605..  Test Loss: 1.831..  Test Accuracy: 0.241\n",
      "Epoch: 19/150..  Training Loss: 1.594..  Test Loss: 1.554..  Test Accuracy: 0.405\n",
      "Epoch: 20/150..  Training Loss: 1.580..  Test Loss: 1.577..  Test Accuracy: 0.398\n",
      "Epoch: 21/150..  Training Loss: 1.574..  Test Loss: 1.530..  Test Accuracy: 0.420\n",
      "Epoch: 22/150..  Training Loss: 1.567..  Test Loss: 1.531..  Test Accuracy: 0.423\n",
      "Epoch: 23/150..  Training Loss: 1.558..  Test Loss: 1.508..  Test Accuracy: 0.432\n",
      "Epoch: 24/150..  Training Loss: 1.548..  Test Loss: 1.511..  Test Accuracy: 0.420\n",
      "Epoch: 25/150..  Training Loss: 1.535..  Test Loss: 1.495..  Test Accuracy: 0.429\n",
      "Epoch: 26/150..  Training Loss: 1.532..  Test Loss: 1.491..  Test Accuracy: 0.430\n",
      "Epoch: 27/150..  Training Loss: 1.521..  Test Loss: 1.524..  Test Accuracy: 0.423\n",
      "Epoch: 28/150..  Training Loss: 1.514..  Test Loss: 1.470..  Test Accuracy: 0.441\n",
      "Epoch: 29/150..  Training Loss: 1.503..  Test Loss: 1.458..  Test Accuracy: 0.445\n",
      "Epoch: 30/150..  Training Loss: 1.495..  Test Loss: 1.470..  Test Accuracy: 0.433\n",
      "Epoch: 31/150..  Training Loss: 1.485..  Test Loss: 1.516..  Test Accuracy: 0.419\n",
      "Epoch: 32/150..  Training Loss: 1.478..  Test Loss: 1.565..  Test Accuracy: 0.403\n",
      "Epoch: 33/150..  Training Loss: 1.470..  Test Loss: 1.458..  Test Accuracy: 0.436\n",
      "Epoch: 34/150..  Training Loss: 1.462..  Test Loss: 1.439..  Test Accuracy: 0.453\n",
      "Epoch: 35/150..  Training Loss: 1.447..  Test Loss: 1.449..  Test Accuracy: 0.445\n",
      "Epoch: 36/150..  Training Loss: 1.443..  Test Loss: 1.435..  Test Accuracy: 0.451\n",
      "Epoch: 37/150..  Training Loss: 1.441..  Test Loss: 1.474..  Test Accuracy: 0.434\n",
      "Epoch: 38/150..  Training Loss: 1.429..  Test Loss: 1.419..  Test Accuracy: 0.456\n",
      "Epoch: 39/150..  Training Loss: 1.419..  Test Loss: 1.458..  Test Accuracy: 0.449\n",
      "Epoch: 40/150..  Training Loss: 1.413..  Test Loss: 1.401..  Test Accuracy: 0.472\n",
      "Epoch: 41/150..  Training Loss: 1.404..  Test Loss: 1.418..  Test Accuracy: 0.454\n",
      "Epoch: 42/150..  Training Loss: 1.394..  Test Loss: 1.415..  Test Accuracy: 0.455\n",
      "Epoch: 43/150..  Training Loss: 1.389..  Test Loss: 1.972..  Test Accuracy: 0.260\n",
      "Epoch: 44/150..  Training Loss: 1.386..  Test Loss: 1.465..  Test Accuracy: 0.436\n",
      "Epoch: 45/150..  Training Loss: 1.377..  Test Loss: 1.384..  Test Accuracy: 0.474\n",
      "Epoch: 46/150..  Training Loss: 1.372..  Test Loss: 1.376..  Test Accuracy: 0.469\n",
      "Epoch: 47/150..  Training Loss: 1.365..  Test Loss: 1.356..  Test Accuracy: 0.482\n",
      "Epoch: 48/150..  Training Loss: 1.355..  Test Loss: 1.354..  Test Accuracy: 0.486\n",
      "Epoch: 49/150..  Training Loss: 1.347..  Test Loss: 1.463..  Test Accuracy: 0.439\n",
      "Epoch: 50/150..  Training Loss: 1.343..  Test Loss: 1.420..  Test Accuracy: 0.463\n",
      "Epoch: 51/150..  Training Loss: 1.336..  Test Loss: 1.524..  Test Accuracy: 0.406\n",
      "Epoch: 52/150..  Training Loss: 1.328..  Test Loss: 1.342..  Test Accuracy: 0.493\n",
      "Epoch: 53/150..  Training Loss: 1.324..  Test Loss: 1.356..  Test Accuracy: 0.479\n",
      "Epoch: 54/150..  Training Loss: 1.313..  Test Loss: 1.339..  Test Accuracy: 0.492\n",
      "Epoch: 55/150..  Training Loss: 1.308..  Test Loss: 1.331..  Test Accuracy: 0.498\n",
      "Epoch: 56/150..  Training Loss: 1.305..  Test Loss: 1.328..  Test Accuracy: 0.489\n",
      "Epoch: 57/150..  Training Loss: 1.291..  Test Loss: 1.326..  Test Accuracy: 0.490\n",
      "Epoch: 58/150..  Training Loss: 1.287..  Test Loss: 1.378..  Test Accuracy: 0.474\n",
      "Epoch: 59/150..  Training Loss: 1.278..  Test Loss: 1.342..  Test Accuracy: 0.486\n",
      "Epoch: 60/150..  Training Loss: 1.271..  Test Loss: 1.350..  Test Accuracy: 0.485\n",
      "Epoch: 61/150..  Training Loss: 1.264..  Test Loss: 1.373..  Test Accuracy: 0.481\n",
      "Epoch: 62/150..  Training Loss: 1.259..  Test Loss: 1.341..  Test Accuracy: 0.489\n",
      "Epoch: 63/150..  Training Loss: 1.245..  Test Loss: 1.331..  Test Accuracy: 0.504\n",
      "Epoch: 64/150..  Training Loss: 1.247..  Test Loss: 1.338..  Test Accuracy: 0.483\n",
      "Epoch: 65/150..  Training Loss: 1.237..  Test Loss: 1.329..  Test Accuracy: 0.495\n",
      "Epoch: 66/150..  Training Loss: 1.235..  Test Loss: 1.598..  Test Accuracy: 0.364\n",
      "Epoch: 67/150..  Training Loss: 1.224..  Test Loss: 1.333..  Test Accuracy: 0.492\n",
      "Epoch: 68/150..  Training Loss: 1.225..  Test Loss: 1.297..  Test Accuracy: 0.502\n",
      "Epoch: 69/150..  Training Loss: 1.209..  Test Loss: 1.318..  Test Accuracy: 0.493\n",
      "Epoch: 70/150..  Training Loss: 1.203..  Test Loss: 1.292..  Test Accuracy: 0.511\n",
      "Epoch: 71/150..  Training Loss: 1.200..  Test Loss: 1.498..  Test Accuracy: 0.465\n",
      "Epoch: 72/150..  Training Loss: 1.194..  Test Loss: 1.478..  Test Accuracy: 0.446\n",
      "Epoch: 73/150..  Training Loss: 1.188..  Test Loss: 1.368..  Test Accuracy: 0.497\n",
      "Epoch: 74/150..  Training Loss: 1.179..  Test Loss: 1.308..  Test Accuracy: 0.516\n",
      "Epoch: 75/150..  Training Loss: 1.166..  Test Loss: 1.301..  Test Accuracy: 0.515\n",
      "Epoch: 76/150..  Training Loss: 1.164..  Test Loss: 1.281..  Test Accuracy: 0.516\n",
      "Epoch: 77/150..  Training Loss: 1.163..  Test Loss: 1.290..  Test Accuracy: 0.514\n",
      "Epoch: 78/150..  Training Loss: 1.150..  Test Loss: 1.281..  Test Accuracy: 0.514\n",
      "Epoch: 79/150..  Training Loss: 1.140..  Test Loss: 1.327..  Test Accuracy: 0.496\n",
      "Epoch: 80/150..  Training Loss: 1.135..  Test Loss: 1.268..  Test Accuracy: 0.526\n",
      "Epoch: 81/150..  Training Loss: 1.130..  Test Loss: 1.252..  Test Accuracy: 0.528\n",
      "Epoch: 82/150..  Training Loss: 1.119..  Test Loss: 1.352..  Test Accuracy: 0.494\n",
      "Epoch: 83/150..  Training Loss: 1.111..  Test Loss: 1.274..  Test Accuracy: 0.525\n",
      "Epoch: 84/150..  Training Loss: 1.112..  Test Loss: 1.281..  Test Accuracy: 0.523\n",
      "Epoch: 85/150..  Training Loss: 1.100..  Test Loss: 1.447..  Test Accuracy: 0.467\n",
      "Epoch: 86/150..  Training Loss: 1.095..  Test Loss: 1.292..  Test Accuracy: 0.510\n",
      "Epoch: 87/150..  Training Loss: 1.087..  Test Loss: 1.260..  Test Accuracy: 0.524\n",
      "Epoch: 88/150..  Training Loss: 1.075..  Test Loss: 1.280..  Test Accuracy: 0.520\n",
      "Epoch: 89/150..  Training Loss: 1.067..  Test Loss: 1.360..  Test Accuracy: 0.486\n",
      "Epoch: 90/150..  Training Loss: 1.063..  Test Loss: 1.277..  Test Accuracy: 0.529\n",
      "Epoch: 91/150..  Training Loss: 1.055..  Test Loss: 1.429..  Test Accuracy: 0.471\n",
      "Epoch: 92/150..  Training Loss: 1.046..  Test Loss: 1.336..  Test Accuracy: 0.500\n",
      "Epoch: 93/150..  Training Loss: 1.043..  Test Loss: 1.338..  Test Accuracy: 0.506\n",
      "Epoch: 94/150..  Training Loss: 1.028..  Test Loss: 1.335..  Test Accuracy: 0.511\n",
      "Epoch: 95/150..  Training Loss: 1.024..  Test Loss: 1.571..  Test Accuracy: 0.449\n",
      "Epoch: 96/150..  Training Loss: 1.014..  Test Loss: 1.267..  Test Accuracy: 0.538\n",
      "Epoch: 97/150..  Training Loss: 1.007..  Test Loss: 1.536..  Test Accuracy: 0.440\n",
      "Epoch: 98/150..  Training Loss: 1.001..  Test Loss: 1.318..  Test Accuracy: 0.504\n",
      "Epoch: 99/150..  Training Loss: 0.990..  Test Loss: 1.260..  Test Accuracy: 0.546\n",
      "Epoch: 100/150..  Training Loss: 0.975..  Test Loss: 1.346..  Test Accuracy: 0.517\n",
      "Epoch: 101/150..  Training Loss: 0.973..  Test Loss: 1.270..  Test Accuracy: 0.543\n",
      "Epoch: 102/150..  Training Loss: 0.968..  Test Loss: 1.419..  Test Accuracy: 0.511\n",
      "Epoch: 103/150..  Training Loss: 0.956..  Test Loss: 1.299..  Test Accuracy: 0.519\n",
      "Epoch: 104/150..  Training Loss: 0.945..  Test Loss: 1.270..  Test Accuracy: 0.542\n",
      "Epoch: 105/150..  Training Loss: 0.938..  Test Loss: 1.330..  Test Accuracy: 0.533\n",
      "Epoch: 106/150..  Training Loss: 0.935..  Test Loss: 1.279..  Test Accuracy: 0.542\n",
      "Epoch: 107/150..  Training Loss: 0.921..  Test Loss: 1.350..  Test Accuracy: 0.523\n",
      "Epoch: 108/150..  Training Loss: 0.915..  Test Loss: 1.277..  Test Accuracy: 0.545\n",
      "Epoch: 109/150..  Training Loss: 0.909..  Test Loss: 1.501..  Test Accuracy: 0.478\n",
      "Epoch: 110/150..  Training Loss: 0.901..  Test Loss: 1.296..  Test Accuracy: 0.531\n",
      "Epoch: 111/150..  Training Loss: 0.888..  Test Loss: 1.422..  Test Accuracy: 0.491\n",
      "Epoch: 112/150..  Training Loss: 0.882..  Test Loss: 1.342..  Test Accuracy: 0.536\n",
      "Epoch: 113/150..  Training Loss: 0.865..  Test Loss: 1.338..  Test Accuracy: 0.538\n",
      "Epoch: 114/150..  Training Loss: 0.861..  Test Loss: 1.336..  Test Accuracy: 0.535\n",
      "Epoch: 115/150..  Training Loss: 0.848..  Test Loss: 1.368..  Test Accuracy: 0.542\n",
      "Epoch: 116/150..  Training Loss: 0.849..  Test Loss: 1.668..  Test Accuracy: 0.481\n",
      "Epoch: 117/150..  Training Loss: 0.845..  Test Loss: 1.309..  Test Accuracy: 0.539\n",
      "Epoch: 118/150..  Training Loss: 0.826..  Test Loss: 1.993..  Test Accuracy: 0.369\n",
      "Epoch: 119/150..  Training Loss: 0.826..  Test Loss: 1.313..  Test Accuracy: 0.550\n",
      "Epoch: 120/150..  Training Loss: 0.800..  Test Loss: 1.358..  Test Accuracy: 0.536\n",
      "Epoch: 121/150..  Training Loss: 0.798..  Test Loss: 1.588..  Test Accuracy: 0.502\n",
      "Epoch: 122/150..  Training Loss: 0.786..  Test Loss: 1.361..  Test Accuracy: 0.546\n",
      "Epoch: 123/150..  Training Loss: 0.771..  Test Loss: 1.356..  Test Accuracy: 0.549\n",
      "Epoch: 124/150..  Training Loss: 0.767..  Test Loss: 1.429..  Test Accuracy: 0.531\n",
      "Epoch: 125/150..  Training Loss: 0.764..  Test Loss: 1.507..  Test Accuracy: 0.536\n",
      "Epoch: 126/150..  Training Loss: 0.749..  Test Loss: 1.431..  Test Accuracy: 0.526\n",
      "Epoch: 127/150..  Training Loss: 0.742..  Test Loss: 1.601..  Test Accuracy: 0.504\n",
      "Epoch: 128/150..  Training Loss: 0.734..  Test Loss: 1.345..  Test Accuracy: 0.556\n",
      "Epoch: 129/150..  Training Loss: 0.714..  Test Loss: 1.684..  Test Accuracy: 0.515\n",
      "Epoch: 130/150..  Training Loss: 0.713..  Test Loss: 1.816..  Test Accuracy: 0.463\n",
      "Epoch: 131/150..  Training Loss: 0.704..  Test Loss: 1.352..  Test Accuracy: 0.547\n",
      "Epoch: 132/150..  Training Loss: 0.691..  Test Loss: 1.368..  Test Accuracy: 0.555\n",
      "Epoch: 133/150..  Training Loss: 0.685..  Test Loss: 1.568..  Test Accuracy: 0.532\n",
      "Epoch: 134/150..  Training Loss: 0.667..  Test Loss: 1.492..  Test Accuracy: 0.542\n",
      "Epoch: 135/150..  Training Loss: 0.667..  Test Loss: 1.499..  Test Accuracy: 0.516\n",
      "Epoch: 136/150..  Training Loss: 0.659..  Test Loss: 1.556..  Test Accuracy: 0.517\n",
      "Epoch: 137/150..  Training Loss: 0.640..  Test Loss: 1.577..  Test Accuracy: 0.516\n",
      "Epoch: 138/150..  Training Loss: 0.636..  Test Loss: 1.629..  Test Accuracy: 0.510\n",
      "Epoch: 139/150..  Training Loss: 0.625..  Test Loss: 1.480..  Test Accuracy: 0.552\n",
      "Epoch: 140/150..  Training Loss: 0.615..  Test Loss: 1.543..  Test Accuracy: 0.524\n",
      "Epoch: 141/150..  Training Loss: 0.612..  Test Loss: 1.817..  Test Accuracy: 0.509\n",
      "Epoch: 142/150..  Training Loss: 0.598..  Test Loss: 1.530..  Test Accuracy: 0.537\n",
      "Epoch: 143/150..  Training Loss: 0.591..  Test Loss: 1.440..  Test Accuracy: 0.557\n",
      "Epoch: 144/150..  Training Loss: 0.581..  Test Loss: 1.776..  Test Accuracy: 0.508\n",
      "Epoch: 145/150..  Training Loss: 0.571..  Test Loss: 1.626..  Test Accuracy: 0.522\n",
      "Epoch: 146/150..  Training Loss: 0.566..  Test Loss: 1.709..  Test Accuracy: 0.503\n",
      "Epoch: 147/150..  Training Loss: 0.550..  Test Loss: 1.638..  Test Accuracy: 0.540\n",
      "Epoch: 148/150..  Training Loss: 0.544..  Test Loss: 1.714..  Test Accuracy: 0.513\n",
      "Epoch: 149/150..  Training Loss: 0.535..  Test Loss: 2.086..  Test Accuracy: 0.482\n",
      "Epoch: 150/150..  Training Loss: 0.515..  Test Loss: 1.648..  Test Accuracy: 0.534\n"
     ]
    }
   ],
   "source": [
    "modelSGD = NetSGD()\n",
    "criterion = nn.NLLLoss()\n",
    "optimizer = optim.SGD(model.parameters(), lr=0.001)\n",
    "\n",
    "epochs = 150\n",
    "\n",
    "acc, train_losses, test_losses = [], [], []\n",
    "for e in range(epochs):\n",
    "    running_loss = 0\n",
    "    for images, labels in trainloader:\n",
    "        \n",
    "        # Clear gradients\n",
    "        optimizer.zero_grad()\n",
    "        \n",
    "        # Forward propagation\n",
    "        log_ps = modelSGD(images)\n",
    "\n",
    "        # Calculate loss\n",
    "        loss = criterion(log_ps, labels)\n",
    "        \n",
    "        # Calculate gradients\n",
    "        loss.backward()\n",
    "        \n",
    "        # Update parameters\n",
    "        optimizer.step()        \n",
    "        \n",
    "        running_loss += loss.item()\n",
    "        \n",
    "    else:\n",
    "        test_loss = 0\n",
    "        accuracy = 0\n",
    "        \n",
    "        # Validation\n",
    "        with th.no_grad(): \n",
    "            for images, labels in testloader:\n",
    "                model.eval()\n",
    "                # Predict test dataset\n",
    "                log_ps = modelSGD(images)\n",
    "                test_loss += criterion(log_ps,labels)\n",
    "\n",
    "                ps = th.exp(log_ps)\n",
    "                top_p, top_class = ps.topk(1,dim=1)\n",
    "                equals = top_class == labels.view(*top_class.shape)\n",
    "                accuracy += th.mean(equals.type(th.FloatTensor))\n",
    "            \n",
    "        model.train()\n",
    "        \n",
    "        train_losses.append(running_loss/len(trainloader))\n",
    "        test_losses.append(test_loss/len(testloader))\n",
    "        acc.append(accuracy/len(testloader))\n",
    "\n",
    "        print(\"Epoch: {}/{}.. \".format(e+1, epochs),\n",
    "              \"Training Loss: {:.3f}.. \".format(running_loss/len(trainloader)),\n",
    "              \"Test Loss: {:.3f}.. \".format(test_loss/len(testloader)),\n",
    "              \"Test Accuracy: {:.3f}\".format(accuracy/len(testloader)))"
   ]
  },
  {
   "cell_type": "markdown",
   "metadata": {},
   "source": [
    "### Plotting the Loss and Accuracy"
   ]
  },
  {
   "cell_type": "code",
   "execution_count": 48,
   "metadata": {},
   "outputs": [
    {
     "data": {
      "image/png": "[encoded data removed]",
      "text/plain": [
       "<Figure size 432x288 with 1 Axes>"
      ]
     },
     "metadata": {
      "image/png": {
       "height": 263,
       "width": 393
      },
      "needs_background": "light"
     },
     "output_type": "display_data"
    }
   ],
   "source": [
    "eps = range(epochs)\n",
    "plt.plot(eps, train_losses, label='Training loss')\n",
    "plt.plot(eps, test_losses, label='Validation loss')\n",
    "plt.xlabel('epoch')\n",
    "plt.ylabel('loss')\n",
    "plt.legend(frameon=False);"
   ]
  },
  {
   "cell_type": "code",
   "execution_count": 49,
   "metadata": {},
   "outputs": [
    {
     "data": {
      "image/png": "[encoded data removed]",
      "text/plain": [
       "<Figure size 432x288 with 1 Axes>"
      ]
     },
     "metadata": {
      "image/png": {
       "height": 263,
       "width": 386
      },
      "needs_background": "light"
     },
     "output_type": "display_data"
    }
   ],
   "source": [
    "plt.plot(eps, acc, 'b', label='Validation accuracy')\n",
    "plt.title('validation accuracy');\n",
    "plt.legend(['final accuracy = {:.2f}%'.format(acc[-1]*100)]);"
   ]
  },
  {
   "cell_type": "markdown",
   "metadata": {},
   "source": [
    "Even after 150 epochs the **accuracy of 53.4%** is not higher than with Adam-Optimizer model with just 15 epochs, but training takes a lot longer. Therefore this model is not an improvement. We will try another model. "
   ]
  },
  {
   "cell_type": "markdown",
   "metadata": {},
   "source": [
    "# Another CNN Model"
   ]
  },
  {
   "cell_type": "markdown",
   "metadata": {},
   "source": [
    "## Data Preparation"
   ]
  },
  {
   "cell_type": "code",
   "execution_count": 52,
   "metadata": {},
   "outputs": [
    {
     "name": "stdout",
     "output_type": "stream",
     "text": [
      "(35887, 3)\n"
     ]
    }
   ],
   "source": [
    "data = pd.read_csv(indir+'/fer2013.csv')\n",
    "print(data.shape)"
   ]
  },
  {
   "cell_type": "code",
   "execution_count": 53,
   "metadata": {},
   "outputs": [
    {
     "name": "stdout",
     "output_type": "stream",
     "text": [
      "val: PrivateTest\n",
      "test: PublicTest\n",
      "train: Training\n",
      "       emotion                                             pixels        Usage\n",
      "32298        0  170 118 101 88 88 75 78 82 66 74 68 59 63 64 6...  PrivateTest\n",
      "32299        5  7 5 8 6 7 3 2 6 5 4 4 5 7 5 5 5 6 7 7 7 10 10 ...  PrivateTest\n"
     ]
    }
   ],
   "source": [
    "val_orig, test_orig, train_orig = data.groupby('Usage')\n",
    "print('val:',   val_orig[0])\n",
    "print('test:',  test_orig[0])\n",
    "print('train:', train_orig[0])\n",
    "print(val_orig[1].head(2))"
   ]
  },
  {
   "cell_type": "code",
   "execution_count": 54,
   "metadata": {},
   "outputs": [
    {
     "name": "stdout",
     "output_type": "stream",
     "text": [
      "val_data_orig.shape:   (3589, 3)\n",
      "test_data_orig.shape:  (3589, 3)\n",
      "train_data_orig.shape: (28709, 3)\n"
     ]
    }
   ],
   "source": [
    "val_data_orig, test_data_orig, train_data_orig = val_orig[1], test_orig[1], train_orig[1]\n",
    "print('val_data_orig.shape:  ', val_data_orig.shape)\n",
    "print('test_data_orig.shape: ',  test_data_orig.shape)\n",
    "print('train_data_orig.shape:', train_data_orig.shape)"
   ]
  },
  {
   "cell_type": "code",
   "execution_count": 55,
   "metadata": {},
   "outputs": [
    {
     "name": "stdout",
     "output_type": "stream",
     "text": [
      "val_data_orig_X.shape:   (3589, 48, 48, 3)\n",
      "val_data_orig_Y.shape:   (3589, 1)\n",
      "test_data_orig_X.shape:  (3589, 48, 48, 3)\n",
      "test_data_orig_Y.shape:  (3589, 1)\n",
      "train_data_orig_X.shape: (28709, 48, 48, 3)\n",
      "train_data_orig_Y.shape: (28709, 1)\n"
     ]
    }
   ],
   "source": [
    "def prepare(data):\n",
    "    images = np.array([np.fromstring(image, np.uint8, sep=' ') for image in data['pixels']])\n",
    "    images = images.reshape(images.shape[0], 48, 48)\n",
    "    images = np.stack((images,) * 3, axis=-1)\n",
    "    labels = np.array(data['emotion'])\n",
    "    return images, labels.reshape(len(labels), 1)\n",
    "\n",
    "val_data_orig_X,   val_data_orig_Y   = prepare(val_data_orig)\n",
    "test_data_orig_X,  test_data_orig_Y  = prepare(test_data_orig)\n",
    "train_data_orig_X, train_data_orig_Y = prepare(train_data_orig)\n",
    "\n",
    "print('val_data_orig_X.shape:  ', val_data_orig_X.shape)\n",
    "print('val_data_orig_Y.shape:  ', val_data_orig_Y.shape)\n",
    "print('test_data_orig_X.shape: ', test_data_orig_X.shape)\n",
    "print('test_data_orig_Y.shape: ', test_data_orig_Y.shape)\n",
    "print('train_data_orig_X.shape:', train_data_orig_X.shape)\n",
    "print('train_data_orig_Y.shape:', train_data_orig_Y.shape)"
   ]
  },
  {
   "cell_type": "code",
   "execution_count": 56,
   "metadata": {},
   "outputs": [
    {
     "data": {
      "text/plain": [
       "array([[1., 0., 0., ..., 0., 0., 0.],\n",
       "       [1., 0., 0., ..., 0., 0., 0.],\n",
       "       [0., 0., 1., ..., 0., 0., 0.],\n",
       "       ...,\n",
       "       [0., 0., 0., ..., 1., 0., 0.],\n",
       "       [1., 0., 0., ..., 0., 0., 0.],\n",
       "       [0., 0., 0., ..., 1., 0., 0.]])"
      ]
     },
     "execution_count": 56,
     "metadata": {},
     "output_type": "execute_result"
    }
   ],
   "source": [
    "train_data_Y = np.eye(7)[train_data_orig_Y.reshape(-1)]\n",
    "train_data_Y"
   ]
  },
  {
   "cell_type": "code",
   "execution_count": 57,
   "metadata": {},
   "outputs": [],
   "source": [
    "val_data_Y  = np.eye(7)[val_data_orig_Y.reshape(-1)]\n",
    "test_data_Y = np.eye(7)[test_data_orig_Y.reshape(-1)]"
   ]
  },
  {
   "cell_type": "code",
   "execution_count": 58,
   "metadata": {},
   "outputs": [],
   "source": [
    "emotions = ['Angry', 'Disgust', 'Fear', 'Happy', 'Sad', 'Surprise', 'Neutral']"
   ]
  },
  {
   "cell_type": "code",
   "execution_count": 59,
   "metadata": {},
   "outputs": [
    {
     "name": "stdout",
     "output_type": "stream",
     "text": [
      "train_data_orig_Y: 3\n",
      "emotion: Happy\n"
     ]
    },
    {
     "data": {
      "image/png": "[encoded data removed]",
      "text/plain": [
       "<Figure size 432x288 with 1 Axes>"
      ]
     },
     "metadata": {
      "image/png": {
       "height": 250,
       "width": 253
      },
      "needs_background": "light"
     },
     "output_type": "display_data"
    }
   ],
   "source": [
    "index = 7\n",
    "plt.imshow(train_data_orig_X[index])\n",
    "print('train_data_orig_Y:', train_data_orig_Y[index][0])\n",
    "print('emotion:', emotions[np.where(train_data_Y[index, :] == 1)[0][0]])"
   ]
  },
  {
   "cell_type": "markdown",
   "metadata": {},
   "source": [
    "## Training the Model"
   ]
  },
  {
   "cell_type": "code",
   "execution_count": 61,
   "metadata": {},
   "outputs": [],
   "source": [
    "import tensorflow as tf\n",
    "from tensorflow.python.framework import ops\n",
    "import math"
   ]
  },
  {
   "cell_type": "code",
   "execution_count": 62,
   "metadata": {},
   "outputs": [
    {
     "name": "stdout",
     "output_type": "stream",
     "text": [
      "X: Tensor(\"Placeholder:0\", shape=(?, 48, 48, 3), dtype=float32)\n",
      "Y: Tensor(\"Placeholder_1:0\", shape=(?, 7), dtype=float32)\n"
     ]
    }
   ],
   "source": [
    "def create_placeholders(n_H0, n_W0, n_C0, n_y):\n",
    "    X = tf.placeholder(tf.float32, shape=[None, n_H0, n_W0, n_C0])\n",
    "    Y = tf.placeholder(tf.float32, shape=[None, n_y])\n",
    "    \n",
    "    return X, Y\n",
    "X, Y = create_placeholders(48, 48, 3, 7)\n",
    "print('X:', X)\n",
    "print('Y:', Y)"
   ]
  },
  {
   "cell_type": "code",
   "execution_count": 64,
   "metadata": {},
   "outputs": [],
   "source": [
    "def initialize_parameters():\n",
    "    W1 = tf.get_variable('W1', [4, 4, 3, 8], initializer=tf.contrib.layers.xavier_initializer())\n",
    "    W2 = tf.get_variable('W2', [2, 2, 8, 16], initializer=tf.contrib.layers.xavier_initializer())\n",
    "    \n",
    "    parameters = {'W1' : W1,\n",
    "                  'W2' : W2}\n",
    "    \n",
    "    return parameters"
   ]
  },
  {
   "cell_type": "code",
   "execution_count": 65,
   "metadata": {},
   "outputs": [
    {
     "name": "stderr",
     "output_type": "stream",
     "text": [
      "WARNING: Logging before flag parsing goes to stderr.\n",
      "W0819 13:40:09.734265 139644989413120 lazy_loader.py:50] \n",
      "The TensorFlow contrib module will not be included in TensorFlow 2.0.\n",
      "For more information, please see:\n",
      "  * https://github.com/tensorflow/community/blob/master/rfcs/20180907-contrib-sunset.md\n",
      "  * https://github.com/tensorflow/addons\n",
      "  * https://github.com/tensorflow/io (for I/O related ops)\n",
      "If you depend on functionality not listed there, please file an issue.\n",
      "\n"
     ]
    },
    {
     "name": "stdout",
     "output_type": "stream",
     "text": [
      "W1 = [-0.1320848   0.10930885 -0.00154065  0.15939452 -0.18380184  0.15448336\n",
      "  0.02520965 -0.0548813 ]\n",
      "W2 = [ 0.01906937 -0.09174544 -0.10848433 -0.08736813  0.01733667  0.03061759\n",
      " -0.029899    0.13276094  0.21292257  0.02214384  0.11686075  0.14175373\n",
      " -0.02699548 -0.18018472  0.16310841 -0.17431891]\n"
     ]
    }
   ],
   "source": [
    "tf.reset_default_graph()\n",
    "with tf.Session() as sess_test:\n",
    "    parameters = initialize_parameters()\n",
    "    init = tf.global_variables_initializer()\n",
    "    sess_test.run(init)\n",
    "    print(\"W1 = \" + str(parameters[\"W1\"].eval()[1, 1, 1]))\n",
    "    print(\"W2 = \" + str(parameters[\"W2\"].eval()[1, 1, 1]))"
   ]
  },
  {
   "cell_type": "code",
   "execution_count": 66,
   "metadata": {},
   "outputs": [],
   "source": [
    "def forward_propagation(X, parameters):  \n",
    "    W1 = parameters['W1']\n",
    "    W2 = parameters['W2']\n",
    "    \n",
    "    Z1 = tf.nn.conv2d(X, W1, strides=[1,1,1,1], padding='SAME')\n",
    "    A1 = tf.nn.relu(Z1)\n",
    "    P1 = tf.nn.max_pool(A1, ksize = [1,4,4,1], strides = [1,4,4,1], padding = 'SAME')\n",
    "\n",
    "    Z2 = tf.nn.conv2d(P1, W2, strides=[1,1,1,1], padding='SAME')\n",
    "    A2 = tf.nn.relu(Z2)\n",
    "    P2 = tf.nn.max_pool(A2, ksize = [1,2,2,1], strides = [1,2,2,1], padding = 'SAME')\n",
    "\n",
    "    F = tf.contrib.layers.flatten(P2)\n",
    "    Z3 = tf.contrib.layers.fully_connected(F,   120, activation_fn=tf.nn.relu)\n",
    "    Z4 = tf.contrib.layers.fully_connected(Z3,   64, activation_fn=tf.nn.relu)\n",
    "    Z5 = tf.contrib.layers.fully_connected(Z4,    7,   activation_fn=None)\n",
    "\n",
    "    return Z5"
   ]
  },
  {
   "cell_type": "code",
   "execution_count": 67,
   "metadata": {},
   "outputs": [
    {
     "name": "stderr",
     "output_type": "stream",
     "text": [
      "W0819 13:40:18.304095 139644989413120 deprecation.py:323] From /home/eileen/anaconda3/lib/python3.7/site-packages/tensorflow/contrib/layers/python/layers/layers.py:1634: flatten (from tensorflow.python.layers.core) is deprecated and will be removed in a future version.\n",
      "Instructions for updating:\n",
      "Use keras.layers.flatten instead.\n"
     ]
    },
    {
     "name": "stdout",
     "output_type": "stream",
     "text": [
      "Z = [[ 0.17071213 -1.5759544   0.2636412  -0.85942864  0.29739666  0.14196292\n",
      "  -0.62942433]\n",
      " [ 0.24379545 -1.5965977  -0.12846392 -0.6421461   0.56848305 -0.07953613\n",
      "  -0.45063743]]\n"
     ]
    }
   ],
   "source": [
    "tf.reset_default_graph()\n",
    "\n",
    "with tf.Session() as sess:\n",
    "    X, Y = create_placeholders(48, 48, 3, 7)\n",
    "    parameters = initialize_parameters()\n",
    "    Z3 = forward_propagation(X, parameters)\n",
    "    init = tf.global_variables_initializer()\n",
    "    sess.run(init)\n",
    "    a = sess.run(Z3, {X: np.random.randn(2, 48, 48, 3), Y: np.random.randn(2, 7)})\n",
    "    print(\"Z = \" + str(a))"
   ]
  },
  {
   "cell_type": "code",
   "execution_count": 68,
   "metadata": {},
   "outputs": [],
   "source": [
    "def compute_cost(Z, Y):\n",
    "\n",
    "    cost = tf.reduce_mean( tf.nn.softmax_cross_entropy_with_logits(logits = Z, labels = Y) )\n",
    "    \n",
    "    return cost"
   ]
  },
  {
   "cell_type": "code",
   "execution_count": 69,
   "metadata": {},
   "outputs": [
    {
     "name": "stderr",
     "output_type": "stream",
     "text": [
      "W0819 13:40:22.518725 139644989413120 deprecation.py:323] From <ipython-input-68-91edf5235ec9>:3: softmax_cross_entropy_with_logits (from tensorflow.python.ops.nn_ops) is deprecated and will be removed in a future version.\n",
      "Instructions for updating:\n",
      "\n",
      "Future major versions of TensorFlow will allow gradients to flow\n",
      "into the labels input on backprop by default.\n",
      "\n",
      "See `tf.nn.softmax_cross_entropy_with_logits_v2`.\n",
      "\n"
     ]
    },
    {
     "name": "stdout",
     "output_type": "stream",
     "text": [
      "cost = -2.501046\n"
     ]
    }
   ],
   "source": [
    "tf.reset_default_graph()\n",
    "\n",
    "with tf.Session() as sess:\n",
    "    X, Y = create_placeholders(48, 48, 3, 7)\n",
    "    parameters = initialize_parameters()\n",
    "    Z3 = forward_propagation(X, parameters)\n",
    "    cost = compute_cost(Z3, Y)\n",
    "    init = tf.global_variables_initializer()\n",
    "    sess.run(init)\n",
    "    a = sess.run(cost, {X: np.random.randn(4, 48, 48, 3), Y: np.random.randn(4, 7)})\n",
    "    print(\"cost = \" + str(a))"
   ]
  },
  {
   "cell_type": "code",
   "execution_count": 70,
   "metadata": {},
   "outputs": [],
   "source": [
    "def random_mini_batches(X, Y, mini_batch_size = 64):\n",
    "    m = X.shape[0]                  # number of training examples\n",
    "    mini_batches = []\n",
    "    \n",
    "    # Step 1: Shuffle (X, Y)\n",
    "    permutation = list(np.random.permutation(m))\n",
    "    shuffled_X = X[permutation,:,:,:]\n",
    "    shuffled_Y = Y[permutation,:]\n",
    "\n",
    "    # Step 2: Partition (shuffled_X, shuffled_Y). Minus the end case.\n",
    "    num_complete_minibatches = math.floor(m/mini_batch_size) # number of mini batches of size mini_batch_size in your partitionning\n",
    "    for k in range(0, num_complete_minibatches):\n",
    "        mini_batch_X = shuffled_X[k * mini_batch_size : k * mini_batch_size + mini_batch_size,:,:,:]\n",
    "        mini_batch_Y = shuffled_Y[k * mini_batch_size : k * mini_batch_size + mini_batch_size,:]\n",
    "        mini_batch = (mini_batch_X, mini_batch_Y)\n",
    "        mini_batches.append(mini_batch)\n",
    "    \n",
    "    # Handling the end case (last mini-batch < mini_batch_size)\n",
    "    if m % mini_batch_size != 0:\n",
    "        mini_batch_X = shuffled_X[num_complete_minibatches * mini_batch_size : m,:,:,:]\n",
    "        mini_batch_Y = shuffled_Y[num_complete_minibatches * mini_batch_size : m,:]\n",
    "        mini_batch = (mini_batch_X, mini_batch_Y)\n",
    "        mini_batches.append(mini_batch)\n",
    "    \n",
    "    return mini_batches"
   ]
  },
  {
   "cell_type": "code",
   "execution_count": 71,
   "metadata": {},
   "outputs": [],
   "source": [
    "def model(X_train, Y_train, X_test, Y_test, learning_rate = 0.0005,\n",
    "          num_epochs = 30, minibatch_size = 50, print_cost = True):\n",
    "    ops.reset_default_graph()                         # to be able to rerun the model without overwriting tf variables\n",
    "    (m, n_H0, n_W0, n_C0) = X_train.shape          \n",
    "    n_y = Y_train.shape[1]                            \n",
    "    costs = []                                        # To keep track of the cost\n",
    "    accurancies = []\n",
    "\n",
    "    X, Y = create_placeholders(n_H0, n_W0, n_C0, n_y)\n",
    "\n",
    "    parameters = initialize_parameters()\n",
    "\n",
    "    Z3 = forward_propagation(X, parameters)\n",
    "\n",
    "    cost = compute_cost(Z3, Y)\n",
    "\n",
    "    optimizer = tf.train.AdamOptimizer(learning_rate=learning_rate).minimize(cost)\n",
    "\n",
    "    init = tf.global_variables_initializer()\n",
    "    gpu_options = tf.GPUOptions(per_process_gpu_memory_fraction=0.333)\n",
    "    \n",
    " \n",
    "    with tf.Session() as sess:\n",
    "            # Run the initialization\n",
    "            sess.run(init)\n",
    "\n",
    "            # Do the training loop\n",
    "            for epoch in range(num_epochs):\n",
    "\n",
    "                minibatch_cost = 0.\n",
    "                num_minibatches = int(m / minibatch_size) # number of minibatches of size minibatch_size in the train set\n",
    "                minibatches = random_mini_batches(X_train, Y_train, minibatch_size)\n",
    "\n",
    "                for minibatch in minibatches:\n",
    "\n",
    "                    # Select a minibatch\n",
    "                    (minibatch_X, minibatch_Y) = minibatch\n",
    "\n",
    "                    _ , temp_cost = sess.run([optimizer, cost], feed_dict={X: minibatch_X, Y: minibatch_Y})\n",
    "\n",
    "                    minibatch_cost += temp_cost / num_minibatches\n",
    "\n",
    "\n",
    "                # Print the cost every epoch\n",
    "                if print_cost == True and epoch % 5 == 0:\n",
    "                    print (\"Cost after epoch %i: %f\" % (epoch, minibatch_cost))\n",
    "            \n",
    "                if print_cost == True and epoch % 1 == 0:\n",
    "                    costs.append(minibatch_cost)\n",
    "                    # Calculate the correct predictions\n",
    "                    predict_op = tf.argmax(Z3, 1)\n",
    "                    correct_prediction = tf.equal(predict_op, tf.argmax(Y, 1))\n",
    "\n",
    "                    # Calculate accuracy on the test set\n",
    "                    accuracy = tf.reduce_mean(tf.cast(correct_prediction, \"float\"))\n",
    "                    test_accuracy = accuracy.eval({X: X_test, Y: Y_test})\n",
    "                    accurancies.append(test_accuracy)\n",
    "\n",
    "\n",
    "            # plot the cost\n",
    "            plt.plot(np.squeeze(costs))\n",
    "            plt.ylabel('cost')\n",
    "            plt.xlabel('iterations (per tens)')\n",
    "            plt.title(\"Learning rate =\" + str(learning_rate))\n",
    "            plt.show()\n",
    "            \n",
    "            # plot the accurancies\n",
    "            plt.plot(np.squeeze(accurancies))\n",
    "            plt.ylabel('accurancy')\n",
    "            plt.xlabel('iterations (per tens)')\n",
    "            plt.title(\"Learning rate =\" + str(learning_rate))\n",
    "            plt.show()\n",
    "            \n",
    "            # Calculate the correct predictions\n",
    "            predict_op = tf.argmax(Z3, 1)\n",
    "            correct_prediction = tf.equal(predict_op, tf.argmax(Y, 1))\n",
    "\n",
    "            # Calculate accuracy on the test set\n",
    "            accuracy = tf.reduce_mean(tf.cast(correct_prediction, \"float\"))\n",
    "            print(accuracy)\n",
    "            train_accuracy = accuracy.eval({X: X_train, Y: Y_train})\n",
    "            test_accuracy = accuracy.eval({X: X_test, Y: Y_test})\n",
    "            print(\"Train Accuracy:\", train_accuracy)\n",
    "            print(\"Test Accuracy:\", test_accuracy)\n",
    "\n",
    "            return train_accuracy, test_accuracy, parameters"
   ]
  },
  {
   "cell_type": "code",
   "execution_count": 72,
   "metadata": {},
   "outputs": [
    {
     "name": "stdout",
     "output_type": "stream",
     "text": [
      "Cost after epoch 0: 1.747928\n",
      "Cost after epoch 5: 1.402561\n",
      "Cost after epoch 10: 1.261864\n",
      "Cost after epoch 15: 1.125621\n",
      "Cost after epoch 20: 0.996478\n",
      "Cost after epoch 25: 0.875181\n"
     ]
    },
    {
     "data": {
      "image/png": "[encoded data removed]",
      "text/plain": [
       "<Figure size 432x288 with 1 Axes>"
      ]
     },
     "metadata": {
      "image/png": {
       "height": 277,
       "width": 387
      },
      "needs_background": "light"
     },
     "output_type": "display_data"
    },
    {
     "data": {
      "image/png": "[encoded data removed]",
      "text/plain": [
       "<Figure size 432x288 with 1 Axes>"
      ]
     },
     "metadata": {
      "image/png": {
       "height": 277,
       "width": 393
      },
      "needs_background": "light"
     },
     "output_type": "display_data"
    },
    {
     "name": "stdout",
     "output_type": "stream",
     "text": [
      "Tensor(\"Mean_31:0\", shape=(), dtype=float32)\n",
      "Train Accuracy: 0.74561983\n",
      "Test Accuracy: 0.5107272\n"
     ]
    }
   ],
   "source": [
    "_, _, parameters = model(train_data_orig_X/255, train_data_Y, test_data_orig_X/255, test_data_Y)"
   ]
  },
  {
   "cell_type": "markdown",
   "metadata": {},
   "source": [
    "This model gives us an **accuracy score of 51.1%**, but with much faster training. We will try another model type to see if we can improve our accuracy. "
   ]
  },
  {
   "cell_type": "code",
   "execution_count": null,
   "metadata": {},
   "outputs": [],
   "source": []
  }
 ],
 "metadata": {
  "kernelspec": {
   "display_name": "Python 3",
   "language": "python",
   "name": "python3"
  },
  "language_info": {
   "codemirror_mode": {
    "name": "ipython",
    "version": 3
   },
   "file_extension": ".py",
   "mimetype": "text/x-python",
   "name": "python",
   "nbconvert_exporter": "python",
   "pygments_lexer": "ipython3",
   "version": "3.7.3"
  }
 },
 "nbformat": 4,
 "nbformat_minor": 1
}
